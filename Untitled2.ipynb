{
 "cells": [
  {
   "cell_type": "code",
   "execution_count": 1,
   "metadata": {
    "collapsed": false
   },
   "outputs": [
    {
     "ename": "ImportError",
     "evalue": "No module named request",
     "output_type": "error",
     "traceback": [
      "\u001b[1;31m---------------------------------------------------------------------------\u001b[0m",
      "\u001b[1;31mImportError\u001b[0m                               Traceback (most recent call last)",
      "\u001b[1;32m<ipython-input-1-42ec44df589c>\u001b[0m in \u001b[0;36m<module>\u001b[1;34m()\u001b[0m\n\u001b[0;32m      3\u001b[0m \u001b[1;33m\u001b[0m\u001b[0m\n\u001b[0;32m      4\u001b[0m \u001b[1;31m# urlopen for downloading\u001b[0m\u001b[1;33m\u001b[0m\u001b[1;33m\u001b[0m\u001b[0m\n\u001b[1;32m----> 5\u001b[1;33m \u001b[1;32mfrom\u001b[0m \u001b[0murllib\u001b[0m\u001b[1;33m.\u001b[0m\u001b[0mrequest\u001b[0m \u001b[1;32mimport\u001b[0m \u001b[0murlopen\u001b[0m\u001b[1;33m\u001b[0m\u001b[0m\n\u001b[0m\u001b[0;32m      6\u001b[0m \u001b[1;33m\u001b[0m\u001b[0m\n\u001b[0;32m      7\u001b[0m \u001b[1;31m# our site\u001b[0m\u001b[1;33m\u001b[0m\u001b[1;33m\u001b[0m\u001b[0m\n",
      "\u001b[1;31mImportError\u001b[0m: No module named request"
     ]
    }
   ],
   "source": [
    "# BeautifulSoup for parsing\n",
    "from bs4 import BeautifulSoup\n",
    "\n",
    "# urlopen for downloading\n",
    "from urllib.request import urlopen\n",
    "\n",
    "# our site\n",
    "site = \"http://ru.wikihow.com/\"\n",
    "\n",
    "def id_to_url(id):\n",
    "    \" Conver article id to url for this article \"\n",
    "\n",
    "    # api to convert id to url\n",
    "    api_html = urlopen('{0}/api.php?action=query&prop=info&pageids={1}&inprop=url&format=xml'.format(site,id))\\\n",
    "        .read().decode()\n",
    "\n",
    "    # parse it!\n",
    "    root = BeautifulSoup(api_html, \"html.parser\")\n",
    "\n",
    "    # return our url\n",
    "    return root.page['fullurl']\n",
    "\n",
    "\n",
    "\n",
    "def get_random():\n",
    "    \" Get random id and title of this id \"\n",
    "\n",
    "    # api url to get random page id and title\n",
    "    api_html = urlopen('%s/api.php?action=query&list=random&rnlimit=1&format=xml' % site).read().decode()\n",
    "\n",
    "    # parse it!\n",
    "    root = BeautifulSoup(api_html, \"html.parser\")\n",
    "\n",
    "    # get id and title from it\n",
    "    id, title = root.page['id'],'Как '+root.page['title']\n",
    "\n",
    "    # return it!\n",
    "    return id, title\n",
    "\n",
    "def get_steps(url):\n",
    "    \" get steps by url \"\n",
    "\n",
    "    # api url to get random page id and title\n",
    "    api_html = urlopen(url).read().decode()\n",
    "\n",
    "    # parse it!\n",
    "    root = BeautifulSoup(api_html, \"html.parser\")\n",
    "\n",
    "    # get steps (it contain html)\n",
    "    steps = root.findAll(\"b\", { \"class\": \"whb\"})\n",
    "\n",
    "    # We need to remove html from every step\n",
    "    for i in range(0,len(steps)):\n",
    "        steps[i] = steps[i].text\n",
    "\n",
    "    # return it\n",
    "    return steps\n",
    "\n",
    "# Bind id and title\n",
    "id, title = get_random()\n",
    "\n",
    "# return title\n",
    "print(title,\"\\n\")\n",
    "\n",
    "# return steps\n",
    "for step in get_steps(id_to_url(id)):\n",
    "    print(step)"
   ]
  }
 ],
 "metadata": {
  "kernelspec": {
   "display_name": "Python 2",
   "language": "python",
   "name": "python2"
  },
  "language_info": {
   "codemirror_mode": {
    "name": "ipython",
    "version": 2
   },
   "file_extension": ".py",
   "mimetype": "text/x-python",
   "name": "python",
   "nbconvert_exporter": "python",
   "pygments_lexer": "ipython2",
   "version": "2.7.10"
  }
 },
 "nbformat": 4,
 "nbformat_minor": 0
}
