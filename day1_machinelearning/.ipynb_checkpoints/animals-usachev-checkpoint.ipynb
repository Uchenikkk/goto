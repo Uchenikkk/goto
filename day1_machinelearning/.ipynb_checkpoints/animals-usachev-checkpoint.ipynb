{
 "cells": [
  {
   "cell_type": "markdown",
   "metadata": {},
   "source": [
    "# Куда девать кота\n",
    "\n",
    "---\n",
    "\n",
    "Эта тетрадка научит тебя использовать pandas, numpy, строить графики в matplotlib и обращаться с животными.\n",
    "\n",
    "![img](http://i2.kym-cdn.com/photos/images/original/000/470/697/b6e.jpg)\n",
    "\n",
    "Начнём!\n",
    "\n",
    "\n",
    "* Клетки можно просто выполнять (выделить и ctrl+enter или shift+enter - чтобы сразу выделить следующую)\n",
    "* По надобности их можно создавать (\"плюсик\" в панели наверху)\n",
    "* В некоторых клетках нужно дописать код, что именно - пишется в комментариях рядом"
   ]
  },
  {
   "cell_type": "markdown",
   "metadata": {},
   "source": [
    "## загрузим данные c Pandas"
   ]
  },
  {
   "cell_type": "code",
   "execution_count": 30,
   "metadata": {
    "collapsed": false
   },
   "outputs": [],
   "source": [
    "# подключим модуль Pandas. Он нужен, чтобы работать с данными\n",
    "import pandas\n",
    "\n",
    "# считаем данные\n",
    "data = pandas.DataFrame.from_csv('train.csv')"
   ]
  },
  {
   "cell_type": "code",
   "execution_count": 31,
   "metadata": {
    "collapsed": false
   },
   "outputs": [
    {
     "data": {
      "text/html": [
       "<div>\n",
       "<table border=\"1\" class=\"dataframe\">\n",
       "  <thead>\n",
       "    <tr style=\"text-align: right;\">\n",
       "      <th></th>\n",
       "      <th>Name</th>\n",
       "      <th>DateTime</th>\n",
       "      <th>OutcomeType</th>\n",
       "      <th>OutcomeSubtype</th>\n",
       "      <th>AnimalType</th>\n",
       "      <th>SexuponOutcome</th>\n",
       "      <th>AgeuponOutcome</th>\n",
       "      <th>Breed</th>\n",
       "      <th>Color</th>\n",
       "    </tr>\n",
       "    <tr>\n",
       "      <th>AnimalID</th>\n",
       "      <th></th>\n",
       "      <th></th>\n",
       "      <th></th>\n",
       "      <th></th>\n",
       "      <th></th>\n",
       "      <th></th>\n",
       "      <th></th>\n",
       "      <th></th>\n",
       "      <th></th>\n",
       "    </tr>\n",
       "  </thead>\n",
       "  <tbody>\n",
       "    <tr>\n",
       "      <th>A671945</th>\n",
       "      <td>Hambone</td>\n",
       "      <td>2014-02-12 18:22:00</td>\n",
       "      <td>Return_to_owner</td>\n",
       "      <td>NaN</td>\n",
       "      <td>Dog</td>\n",
       "      <td>Neutered Male</td>\n",
       "      <td>1 year</td>\n",
       "      <td>Shetland Sheepdog Mix</td>\n",
       "      <td>Brown/White</td>\n",
       "    </tr>\n",
       "    <tr>\n",
       "      <th>A656520</th>\n",
       "      <td>Emily</td>\n",
       "      <td>2013-10-13 12:44:00</td>\n",
       "      <td>Euthanasia</td>\n",
       "      <td>Suffering</td>\n",
       "      <td>Cat</td>\n",
       "      <td>Spayed Female</td>\n",
       "      <td>1 year</td>\n",
       "      <td>Domestic Shorthair Mix</td>\n",
       "      <td>Cream Tabby</td>\n",
       "    </tr>\n",
       "    <tr>\n",
       "      <th>A686464</th>\n",
       "      <td>Pearce</td>\n",
       "      <td>2015-01-31 12:28:00</td>\n",
       "      <td>Adoption</td>\n",
       "      <td>Foster</td>\n",
       "      <td>Dog</td>\n",
       "      <td>Neutered Male</td>\n",
       "      <td>2 years</td>\n",
       "      <td>Pit Bull Mix</td>\n",
       "      <td>Blue/White</td>\n",
       "    </tr>\n",
       "    <tr>\n",
       "      <th>A683430</th>\n",
       "      <td>NaN</td>\n",
       "      <td>2014-07-11 19:09:00</td>\n",
       "      <td>Transfer</td>\n",
       "      <td>Partner</td>\n",
       "      <td>Cat</td>\n",
       "      <td>Intact Male</td>\n",
       "      <td>3 weeks</td>\n",
       "      <td>Domestic Shorthair Mix</td>\n",
       "      <td>Blue Cream</td>\n",
       "    </tr>\n",
       "    <tr>\n",
       "      <th>A667013</th>\n",
       "      <td>NaN</td>\n",
       "      <td>2013-11-15 12:52:00</td>\n",
       "      <td>Transfer</td>\n",
       "      <td>Partner</td>\n",
       "      <td>Dog</td>\n",
       "      <td>Neutered Male</td>\n",
       "      <td>2 years</td>\n",
       "      <td>Lhasa Apso/Miniature Poodle</td>\n",
       "      <td>Tan</td>\n",
       "    </tr>\n",
       "    <tr>\n",
       "      <th>A677334</th>\n",
       "      <td>Elsa</td>\n",
       "      <td>2014-04-25 13:04:00</td>\n",
       "      <td>Transfer</td>\n",
       "      <td>Partner</td>\n",
       "      <td>Dog</td>\n",
       "      <td>Intact Female</td>\n",
       "      <td>1 month</td>\n",
       "      <td>Cairn Terrier/Chihuahua Shorthair</td>\n",
       "      <td>Black/Tan</td>\n",
       "    </tr>\n",
       "    <tr>\n",
       "      <th>A699218</th>\n",
       "      <td>Jimmy</td>\n",
       "      <td>2015-03-28 13:11:00</td>\n",
       "      <td>Transfer</td>\n",
       "      <td>Partner</td>\n",
       "      <td>Cat</td>\n",
       "      <td>Intact Male</td>\n",
       "      <td>3 weeks</td>\n",
       "      <td>Domestic Shorthair Mix</td>\n",
       "      <td>Blue Tabby</td>\n",
       "    </tr>\n",
       "    <tr>\n",
       "      <th>A701489</th>\n",
       "      <td>NaN</td>\n",
       "      <td>2015-04-30 17:02:00</td>\n",
       "      <td>Transfer</td>\n",
       "      <td>Partner</td>\n",
       "      <td>Cat</td>\n",
       "      <td>Unknown</td>\n",
       "      <td>3 weeks</td>\n",
       "      <td>Domestic Shorthair Mix</td>\n",
       "      <td>Brown Tabby</td>\n",
       "    </tr>\n",
       "    <tr>\n",
       "      <th>A671784</th>\n",
       "      <td>Lucy</td>\n",
       "      <td>2014-02-04 17:17:00</td>\n",
       "      <td>Adoption</td>\n",
       "      <td>NaN</td>\n",
       "      <td>Dog</td>\n",
       "      <td>Spayed Female</td>\n",
       "      <td>5 months</td>\n",
       "      <td>American Pit Bull Terrier Mix</td>\n",
       "      <td>Red/White</td>\n",
       "    </tr>\n",
       "    <tr>\n",
       "      <th>A677747</th>\n",
       "      <td>NaN</td>\n",
       "      <td>2014-05-03 07:48:00</td>\n",
       "      <td>Adoption</td>\n",
       "      <td>Offsite</td>\n",
       "      <td>Dog</td>\n",
       "      <td>Spayed Female</td>\n",
       "      <td>1 year</td>\n",
       "      <td>Cairn Terrier</td>\n",
       "      <td>White</td>\n",
       "    </tr>\n",
       "  </tbody>\n",
       "</table>\n",
       "</div>"
      ],
      "text/plain": [
       "             Name             DateTime      OutcomeType OutcomeSubtype  \\\n",
       "AnimalID                                                                 \n",
       "A671945   Hambone  2014-02-12 18:22:00  Return_to_owner            NaN   \n",
       "A656520     Emily  2013-10-13 12:44:00       Euthanasia      Suffering   \n",
       "A686464    Pearce  2015-01-31 12:28:00         Adoption         Foster   \n",
       "A683430       NaN  2014-07-11 19:09:00         Transfer        Partner   \n",
       "A667013       NaN  2013-11-15 12:52:00         Transfer        Partner   \n",
       "A677334      Elsa  2014-04-25 13:04:00         Transfer        Partner   \n",
       "A699218     Jimmy  2015-03-28 13:11:00         Transfer        Partner   \n",
       "A701489       NaN  2015-04-30 17:02:00         Transfer        Partner   \n",
       "A671784      Lucy  2014-02-04 17:17:00         Adoption            NaN   \n",
       "A677747       NaN  2014-05-03 07:48:00         Adoption        Offsite   \n",
       "\n",
       "         AnimalType SexuponOutcome AgeuponOutcome  \\\n",
       "AnimalID                                            \n",
       "A671945         Dog  Neutered Male         1 year   \n",
       "A656520         Cat  Spayed Female         1 year   \n",
       "A686464         Dog  Neutered Male        2 years   \n",
       "A683430         Cat    Intact Male        3 weeks   \n",
       "A667013         Dog  Neutered Male        2 years   \n",
       "A677334         Dog  Intact Female        1 month   \n",
       "A699218         Cat    Intact Male        3 weeks   \n",
       "A701489         Cat        Unknown        3 weeks   \n",
       "A671784         Dog  Spayed Female       5 months   \n",
       "A677747         Dog  Spayed Female         1 year   \n",
       "\n",
       "                                      Breed        Color  \n",
       "AnimalID                                                  \n",
       "A671945               Shetland Sheepdog Mix  Brown/White  \n",
       "A656520              Domestic Shorthair Mix  Cream Tabby  \n",
       "A686464                        Pit Bull Mix   Blue/White  \n",
       "A683430              Domestic Shorthair Mix   Blue Cream  \n",
       "A667013         Lhasa Apso/Miniature Poodle          Tan  \n",
       "A677334   Cairn Terrier/Chihuahua Shorthair    Black/Tan  \n",
       "A699218              Domestic Shorthair Mix   Blue Tabby  \n",
       "A701489              Domestic Shorthair Mix  Brown Tabby  \n",
       "A671784       American Pit Bull Terrier Mix    Red/White  \n",
       "A677747                       Cairn Terrier        White  "
      ]
     },
     "execution_count": 31,
     "metadata": {},
     "output_type": "execute_result"
    }
   ],
   "source": [
    "# Данные - таблица, двумерный массив\n",
    "data[:10]"
   ]
  },
  {
   "cell_type": "markdown",
   "metadata": {},
   "source": [
    "## Расшифровка колонок\n",
    "* Name - Имя(строка)\n",
    "* DateTime - Время\n",
    "* OutcomeType - Исход\n",
    " * Return_to_owner - Возврат владельцу\n",
    " * Adoption - Новый хозяин\n",
    " * Transfer - Перевод\n",
    " * Euthanasia - Эвтаназия (умерщвление)\n",
    " * Died - Смерть\n",
    "* OutcomeSubtype - Подтип исхода\n",
    "* AnimalType - Вид животного\n",
    "* SexuponOutcome - Пол + стерилизация\n",
    "* AgeuponOutcome - Возраст (строка)\n",
    "* Breed - Порода\n",
    "* Color - Цвет\n",
    "\n",
    "В некоторых колонках встречается NaN - значит, что у данного животного данная колонка неизвестна (квест - найти их глазами в данных выше)"
   ]
  },
  {
   "cell_type": "code",
   "execution_count": 32,
   "metadata": {
    "collapsed": false
   },
   "outputs": [
    {
     "name": "stdout",
     "output_type": "stream",
     "text": [
      "len(data) =  26729\n",
      "data.shape =  (26729, 9)\n"
     ]
    }
   ],
   "source": [
    "# размеры таблицы\n",
    "print('len(data) = ', len(data))\n",
    "print('data.shape = ', data.shape)"
   ]
  },
  {
   "cell_type": "code",
   "execution_count": 33,
   "metadata": {
    "collapsed": false
   },
   "outputs": [
    {
     "name": "stdout",
     "output_type": "stream",
     "text": [
      "Name                                      NaN\n",
      "DateTime                  2013-11-15 12:52:00\n",
      "OutcomeType                          Transfer\n",
      "OutcomeSubtype                        Partner\n",
      "AnimalType                                Dog\n",
      "SexuponOutcome                  Neutered Male\n",
      "AgeuponOutcome                        2 years\n",
      "Breed             Lhasa Apso/Miniature Poodle\n",
      "Color                                     Tan\n",
      "Name: A667013, dtype: object\n"
     ]
    }
   ],
   "source": [
    "# вот так можно получить четвёртую строку таблицы, считая с нуля\n",
    "print(data.iloc[4])"
   ]
  },
  {
   "cell_type": "code",
   "execution_count": 34,
   "metadata": {
    "collapsed": false
   },
   "outputs": [
    {
     "name": "stdout",
     "output_type": "stream",
     "text": [
      "             Name             DateTime      OutcomeType OutcomeSubtype  \\\n",
      "AnimalID                                                                 \n",
      "A671945   Hambone  2014-02-12 18:22:00  Return_to_owner            NaN   \n",
      "A656520     Emily  2013-10-13 12:44:00       Euthanasia      Suffering   \n",
      "A686464    Pearce  2015-01-31 12:28:00         Adoption         Foster   \n",
      "A683430       NaN  2014-07-11 19:09:00         Transfer        Partner   \n",
      "A667013       NaN  2013-11-15 12:52:00         Transfer        Partner   \n",
      "\n",
      "         AnimalType SexuponOutcome AgeuponOutcome  \\\n",
      "AnimalID                                            \n",
      "A671945         Dog  Neutered Male         1 year   \n",
      "A656520         Cat  Spayed Female         1 year   \n",
      "A686464         Dog  Neutered Male        2 years   \n",
      "A683430         Cat    Intact Male        3 weeks   \n",
      "A667013         Dog  Neutered Male        2 years   \n",
      "\n",
      "                                Breed        Color  \n",
      "AnimalID                                            \n",
      "A671945         Shetland Sheepdog Mix  Brown/White  \n",
      "A656520        Domestic Shorthair Mix  Cream Tabby  \n",
      "A686464                  Pit Bull Mix   Blue/White  \n",
      "A683430        Domestic Shorthair Mix   Blue Cream  \n",
      "A667013   Lhasa Apso/Miniature Poodle          Tan  \n"
     ]
    }
   ],
   "source": [
    "# первые 5 строк\n",
    "print(data[0:5])"
   ]
  },
  {
   "cell_type": "code",
   "execution_count": 35,
   "metadata": {
    "collapsed": false
   },
   "outputs": [
    {
     "name": "stdout",
     "output_type": "stream",
     "text": [
      "AnimalID\n",
      "A671945    Return_to_owner\n",
      "A656520         Euthanasia\n",
      "A686464           Adoption\n",
      "A683430           Transfer\n",
      "A667013           Transfer\n",
      "A677334           Transfer\n",
      "A699218           Transfer\n",
      "A701489           Transfer\n",
      "A671784           Adoption\n",
      "A677747           Adoption\n",
      "A668402           Transfer\n",
      "A666320           Adoption\n",
      "A684601           Adoption\n",
      "A704702    Return_to_owner\n",
      "A688584    Return_to_owner\n",
      "A678825           Adoption\n",
      "A678050           Transfer\n",
      "A680028           Transfer\n",
      "A679010           Transfer\n",
      "A684787    Return_to_owner\n",
      "A670658           Transfer\n",
      "A708812           Transfer\n",
      "A705262           Adoption\n",
      "A665781           Adoption\n",
      "A676333    Return_to_owner\n",
      "A712750           Transfer\n",
      "A718832           Adoption\n",
      "A698777           Adoption\n",
      "A715348           Adoption\n",
      "A708666    Return_to_owner\n",
      "                ...       \n",
      "A676460         Euthanasia\n",
      "A704999    Return_to_owner\n",
      "A678842           Transfer\n",
      "A713637               Died\n",
      "A716670           Transfer\n",
      "A716223           Transfer\n",
      "A662498           Transfer\n",
      "A689942           Adoption\n",
      "A682690         Euthanasia\n",
      "A666920           Transfer\n",
      "A714386           Adoption\n",
      "A692622           Transfer\n",
      "A666284           Transfer\n",
      "A535277    Return_to_owner\n",
      "A671169         Euthanasia\n",
      "A679031           Adoption\n",
      "A708833           Adoption\n",
      "A697158           Adoption\n",
      "A519949    Return_to_owner\n",
      "A701044           Adoption\n",
      "A707871           Transfer\n",
      "A704405           Adoption\n",
      "A662019           Adoption\n",
      "A687056           Transfer\n",
      "A716997           Adoption\n",
      "A702446           Transfer\n",
      "A718934           Transfer\n",
      "A698128           Adoption\n",
      "A677478           Transfer\n",
      "A706629           Transfer\n",
      "Name: OutcomeType, dtype: object\n"
     ]
    }
   ],
   "source": [
    "# так можно получить второй столбец (считая с нуля)\n",
    "# print(data.iloc[:, 2])\n",
    "# но проще - вот так:\n",
    "print(data['OutcomeType'])\n",
    "# или даже так: data.OutcomeType"
   ]
  },
  {
   "cell_type": "code",
   "execution_count": 36,
   "metadata": {
    "collapsed": false
   },
   "outputs": [
    {
     "data": {
      "text/html": [
       "<div>\n",
       "<table border=\"1\" class=\"dataframe\">\n",
       "  <thead>\n",
       "    <tr style=\"text-align: right;\">\n",
       "      <th></th>\n",
       "      <th>Name</th>\n",
       "      <th>OutcomeType</th>\n",
       "    </tr>\n",
       "    <tr>\n",
       "      <th>AnimalID</th>\n",
       "      <th></th>\n",
       "      <th></th>\n",
       "    </tr>\n",
       "  </thead>\n",
       "  <tbody>\n",
       "    <tr>\n",
       "      <th>A677334</th>\n",
       "      <td>Elsa</td>\n",
       "      <td>Transfer</td>\n",
       "    </tr>\n",
       "    <tr>\n",
       "      <th>A699218</th>\n",
       "      <td>Jimmy</td>\n",
       "      <td>Transfer</td>\n",
       "    </tr>\n",
       "    <tr>\n",
       "      <th>A701489</th>\n",
       "      <td>NaN</td>\n",
       "      <td>Transfer</td>\n",
       "    </tr>\n",
       "    <tr>\n",
       "      <th>A671784</th>\n",
       "      <td>Lucy</td>\n",
       "      <td>Adoption</td>\n",
       "    </tr>\n",
       "    <tr>\n",
       "      <th>A677747</th>\n",
       "      <td>NaN</td>\n",
       "      <td>Adoption</td>\n",
       "    </tr>\n",
       "  </tbody>\n",
       "</table>\n",
       "</div>"
      ],
      "text/plain": [
       "           Name OutcomeType\n",
       "AnimalID                   \n",
       "A677334    Elsa    Transfer\n",
       "A699218   Jimmy    Transfer\n",
       "A701489     NaN    Transfer\n",
       "A671784    Lucy    Adoption\n",
       "A677747     NaN    Adoption"
      ]
     },
     "execution_count": 36,
     "metadata": {},
     "output_type": "execute_result"
    }
   ],
   "source": [
    "# несколько колонок, несколько строк\n",
    "data[['Name','OutcomeType']][5:10]"
   ]
  },
  {
   "cell_type": "code",
   "execution_count": 37,
   "metadata": {
    "collapsed": false
   },
   "outputs": [
    {
     "data": {
      "text/plain": [
       "365"
      ]
     },
     "execution_count": 37,
     "metadata": {},
     "output_type": "execute_result"
    }
   ],
   "source": [
    "# Функция по переводу строки с возрастом в количество дней\n",
    "def age_to_days(s):\n",
    "    assert type(s) == str\n",
    "    n, t = s.strip().split()\n",
    "    costs = {'year' : 365,\n",
    "             'years' : 365,\n",
    "             'month' : 30,\n",
    "             'months' : 30,\n",
    "             'week' : 7,\n",
    "             'weeks' : 7,\n",
    "             'day' : 1,\n",
    "             'days' : 1}\n",
    "    \n",
    "    return int(n) * costs[t.lower()]\n",
    "\n",
    "age_to_days('1 Years')"
   ]
  },
  {
   "cell_type": "markdown",
   "metadata": {},
   "source": [
    "## Теперь сам\n",
    "\n",
    "* выведи данные о 1, 13, 666 и последнем котике. Кто из них выжил?\n",
    "* выведи данные о столбике 'OutcomeType' - Исход.\n",
    "* напиши программу, которая считает, сколько всего котиков выжило и сколько песиков страдало \n",
    "\n",
    "! Обрати внимание, что в данных может быть мусор (NaN, пустые значения) ! \n",
    "\n",
    "Их можно найти и удалить. Подумай (или погугли), как это сделать в питоне"
   ]
  },
  {
   "cell_type": "code",
   "execution_count": 38,
   "metadata": {
    "collapsed": false
   },
   "outputs": [],
   "source": [
    "# <1,13, 666 и последний из пассажиров>"
   ]
  },
  {
   "cell_type": "code",
   "execution_count": 39,
   "metadata": {
    "collapsed": false
   },
   "outputs": [],
   "source": [
    "# столбик"
   ]
  },
  {
   "cell_type": "code",
   "execution_count": 40,
   "metadata": {
    "collapsed": false
   },
   "outputs": [],
   "source": [
    "# программа"
   ]
  },
  {
   "cell_type": "code",
   "execution_count": 41,
   "metadata": {
    "collapsed": true
   },
   "outputs": [],
   "source": [
    "# Бонус - посчитай средний возраст выжившей животны"
   ]
  },
  {
   "cell_type": "markdown",
   "metadata": {},
   "source": [
    "# Numpy и векторные операции"
   ]
  },
  {
   "cell_type": "code",
   "execution_count": 42,
   "metadata": {
    "collapsed": false
   },
   "outputs": [
    {
     "name": "stdout",
     "output_type": "stream",
     "text": [
      "a =  [1 2 3 4 5]\n",
      "b =  [5 4 3 2 1]\n",
      "a+1 = [2 3 4 5 6]\n",
      "a*2 = [ 2  4  6  8 10]\n",
      "a==2 [False  True False False False]\n",
      "a+b = [6 6 6 6 6]\n",
      "a*b = [5 8 9 8 5]\n"
     ]
    }
   ],
   "source": [
    "# загружаем numpy. Это быстрая библиотека для математики\n",
    "import numpy\n",
    "\n",
    "# основная структура данных - массив\n",
    "a = numpy.array([1,2,3,4,5])\n",
    "b = numpy.array([5,4,3,2,1])\n",
    "print('a = ', a)\n",
    "print('b = ', b)\n",
    "\n",
    "# математические и логические операции считаются для каждого элемента массива\n",
    "print('a+1 =', a+1)\n",
    "print('a*2 =', a*2)\n",
    "print('a==2', a==2)\n",
    "# если в операции участвуют 2 массива, операции считаются для соответствующих пар\n",
    "print('a+b =', a+b)\n",
    "print('a*b =', a*b)"
   ]
  },
  {
   "cell_type": "code",
   "execution_count": 43,
   "metadata": {
    "collapsed": false
   },
   "outputs": [
    {
     "name": "stdout",
     "output_type": "stream",
     "text": [
      "26729 всего животных\n",
      "19038 Животных с известным именем\n"
     ]
    }
   ],
   "source": [
    "# [это важно для задания] \n",
    "# А вот так можно выделять данные, в которых определённая колонка - не NaN\n",
    "\n",
    "name_is_nan = data.Name.isnull() #массив bool - является ли у данного животного Имя NaN\n",
    "\n",
    "data_with_name = data[numpy.logical_not(name_is_nan)] # все животные, у которых имя - не NaN (отдельная таблица)\n",
    "\n",
    "print(len(data), 'всего животных')\n",
    "print(len(data_with_name), 'Животных с известным именем')"
   ]
  },
  {
   "cell_type": "code",
   "execution_count": 44,
   "metadata": {
    "collapsed": false
   },
   "outputs": [
    {
     "name": "stdout",
     "output_type": "stream",
     "text": [
      "логические операции\n",
      "a>2 [False False  True  True  True]\n",
      "numpy.logical_not(a>2) =  [ True  True False False False]\n",
      "numpy.logical_and(a>2,b>2) =  [False False  True False False]\n",
      "numpy.logical_or(a>4,b<3) =  [False False  True  True  True]\n",
      "\n",
      "или проще\n",
      "~(a>2) =  [ True  True False False False]\n",
      "a>2)&(b>2) =  [False False  True False False]\n",
      "(a>2)|(b<3) =  [False False  True  True  True]\n",
      "\n",
      "\n",
      "Индексация\n",
      "a > 3 = [False False False  True  True]\n",
      "a[a>3] = [4 5]\n",
      "numpy.where(a>3) = (array([3, 4]),)\n",
      "a[numpy.where(a>3)] = [4 5]\n"
     ]
    }
   ],
   "source": [
    "print('логические операции')\n",
    "\n",
    "print('a>2', a>2)\n",
    "print('numpy.logical_not(a>2) = ',numpy.logical_not(a>2))\n",
    "print('numpy.logical_and(a>2,b>2) = ', numpy.logical_and(a>2, b>2))\n",
    "print('numpy.logical_or(a>4,b<3) = ', numpy.logical_or(a>2, b<3))\n",
    "\n",
    "print('\\nили проще')\n",
    "print('~(a>2) = ', ~(a>2))  #как logical_not\n",
    "print('a>2)&(b>2) = ', (a>2)&(b>2)) #как logical_and\n",
    "print('(a>2)|(b<3) = ', (a>2)|(b<3))    #как logical_or\n",
    "\n",
    "\n",
    "print('\\n\\nИндексация')\n",
    "\n",
    "#индексация - выбираем эллементы из массима\n",
    "print('a > 3 =', a>3)\n",
    "print('a[a>3] =', a[a>3])\n",
    "print('numpy.where(a>3) =', numpy.where(a>3)) #где в массиве лежат True (кортеж, в котором лежит массив)\n",
    "print('a[numpy.where(a>3)] =',a[numpy.where(a>3)])"
   ]
  },
  {
   "cell_type": "markdown",
   "metadata": {},
   "source": [
    "### теперь сам"
   ]
  },
  {
   "cell_type": "markdown",
   "metadata": {},
   "source": [
    "Квесты\n",
    "* 1) сколько всего подтипов исхода и какие они? ('OutcomeSubtype')\n",
    "* 2) какой средний возраст для каждого из подтипов исхода?\n",
    "* 3) в каком подтипе исхода больше собак ? \n",
    "* 4) все ли кошки стерилизованы ?\n",
    "\n",
    "Бонусные сайд-квесты\n",
    "* 1) какие бывают породы ?\n",
    "* 2) У какой породы больше всего представителей в выборке ?\n",
    "* 3) У какой породы больше всего стерилизованных особей ?"
   ]
  },
  {
   "cell_type": "code",
   "execution_count": 45,
   "metadata": {
    "collapsed": false
   },
   "outputs": [],
   "source": [
    "# твой код\n",
    "\n",
    "# здесь\n",
    "\n",
    "# /твой код"
   ]
  },
  {
   "cell_type": "markdown",
   "metadata": {},
   "source": [
    "## битва полов:\n",
    "* Кого чаще стерилизуют ?\n",
    "* кто в среднем моложе?"
   ]
  },
  {
   "cell_type": "code",
   "execution_count": 46,
   "metadata": {
    "collapsed": true
   },
   "outputs": [],
   "source": [
    "# Тут Ваш код"
   ]
  },
  {
   "cell_type": "markdown",
   "metadata": {},
   "source": [
    "## Бонус: насколько она быстрая, Гарри?\n",
    "Испытаем numpy на скорость\n",
    "* создадим 2 массива по 10^6 элементов\n",
    " * первый - числа от 0 до 1 000 000 не включая конец\n",
    " * второй - числа от 99 до 1 000 099 не включая конец\n",
    "* посчитаем:\n",
    " * поэллементную сумму\n",
    " * поэллементное произведение\n",
    " * корень квадратный эллементов первого массива\n",
    " * сумму всех элементов первого массива (одно число)\n",
    " \n",
    "* Сделаем это 3-мя способами\n",
    " * чистый python и списки\n",
    " * начинаем в python, преобразуем в numpy и \n",
    "\n"
   ]
  },
  {
   "cell_type": "code",
   "execution_count": 47,
   "metadata": {
    "collapsed": false
   },
   "outputs": [
    {
     "name": "stdout",
     "output_type": "stream",
     "text": [
      "CPU times: user 1.79 s, sys: 38.4 ms, total: 1.83 s\n",
      "Wall time: 1.85 s\n"
     ]
    }
   ],
   "source": [
    "%%time\n",
    "# эта штука считает время выполнения КЛЕТКИ (должна быть на первой строчке клетки)\n",
    "# время печатается в конце (точное время - total )\n",
    "\n",
    "\n",
    "# без numpy, чистый python\n",
    "arr_1 = range(1000000)\n",
    "arr_2 = range(99,1000099)\n",
    "\n",
    "\n",
    "a_sum = []\n",
    "a_prod = []\n",
    "sqrt_a1 = []\n",
    "for i in range(len(arr_1)):\n",
    "    a_sum.append(arr_1[i]+arr_2[i])\n",
    "    a_prod.append(arr_1[i]*arr_2[i])\n",
    "    a_sum.append(arr_1[i]**0.5)\n",
    "    \n",
    "# сумма всех элементов arr_1\n",
    "arr_1_sum = sum(arr_1)"
   ]
  },
  {
   "cell_type": "code",
   "execution_count": 48,
   "metadata": {
    "collapsed": false
   },
   "outputs": [
    {
     "name": "stdout",
     "output_type": "stream",
     "text": [
      "CPU times: user 454 ms, sys: 223 ms, total: 677 ms\n",
      "Wall time: 684 ms\n"
     ]
    }
   ],
   "source": [
    "%%time\n",
    "\n",
    "#с numpy, преобразуя из list\n",
    "arr_1 = range(1000000)\n",
    "arr_2 = range(99,1000099)\n",
    "\n",
    "arr_1, arr_2 = numpy.array(arr_1) , numpy.array(arr_2)\n",
    "\n",
    "a_sum = arr_1 + arr_2\n",
    "a_prod = arr_1*arr_2\n",
    "sqrt_a1 = arr_1**.5"
   ]
  },
  {
   "cell_type": "code",
   "execution_count": 49,
   "metadata": {
    "collapsed": false
   },
   "outputs": [
    {
     "name": "stdout",
     "output_type": "stream",
     "text": [
      "CPU times: user 78.4 ms, sys: 1.74 ms, total: 80.2 ms\n",
      "Wall time: 79.2 ms\n"
     ]
    }
   ],
   "source": [
    "%%time\n",
    "# чистый numpy\n",
    "arr_1 = numpy.arange(1000000)\n",
    "arr_2 = numpy.arange(99,1000099)\n",
    "\n",
    "a_sum = arr_1 + arr_2\n",
    "a_prod = arr_1*arr_2\n",
    "sqrt_a1 = arr_1**.5"
   ]
  },
  {
   "cell_type": "markdown",
   "metadata": {},
   "source": [
    "# Графики и matplotlib\n",
    "Как рисовать красивые картинки и издеваться над любителями MS Excel"
   ]
  },
  {
   "cell_type": "code",
   "execution_count": 50,
   "metadata": {
    "collapsed": false,
    "scrolled": true
   },
   "outputs": [
    {
     "data": {
      "text/plain": [
       "[<matplotlib.lines.Line2D at 0x7f446e02f048>]"
      ]
     },
     "execution_count": 50,
     "metadata": {},
     "output_type": "execute_result"
    },
    {
     "data": {
      "image/png": "[encoded data removed]",
      "text/plain": [
       "<matplotlib.figure.Figure at 0x7f44a0696e10>"
      ]
     },
     "metadata": {},
     "output_type": "display_data"
    }
   ],
   "source": [
    "#загрузим библиотеку\n",
    "import matplotlib.pyplot as plt #загрузить библиотеку matplotlib.pyplot под именем plt\n",
    "plt.style.use('ggplot') # Мой любимый стиль графики\n",
    "%matplotlib inline\n",
    "\n",
    "#линии\n",
    "plt.plot([0,1,2,3,4,5],[0,1,4,9,16,25])"
   ]
  },
  {
   "cell_type": "code",
   "execution_count": 51,
   "metadata": {
    "collapsed": false
   },
   "outputs": [
    {
     "name": "stderr",
     "output_type": "stream",
     "text": [
      "/root/miniconda/envs/jupyterhub_py3/lib/python3.4/site-packages/matplotlib/collections.py:590: FutureWarning: elementwise comparison failed; returning scalar instead, but in the future will perform elementwise comparison\n",
      "  if self._edgecolors == str('face'):\n"
     ]
    },
    {
     "data": {
      "image/png": "[encoded data removed]",
      "text/plain": [
       "<matplotlib.figure.Figure at 0x7f4475d91198>"
      ]
     },
     "metadata": {},
     "output_type": "display_data"
    },
    {
     "data": {
      "text/plain": [
       "<matplotlib.collections.PathCollection at 0x7f4475cd96d8>"
      ]
     },
     "execution_count": 51,
     "metadata": {},
     "output_type": "execute_result"
    },
    {
     "data": {
      "image/png": "[encoded data removed]",
      "text/plain": [
       "<matplotlib.figure.Figure at 0x7f447822b7f0>"
      ]
     },
     "metadata": {},
     "output_type": "display_data"
    }
   ],
   "source": [
    "#точки\n",
    "plt.scatter([0,1,2,3,4,5],[0,1,4,9,16,25])\n",
    "\n",
    "plt.show()#после этой функции всё уже построенное отрисуется и начнётся новый график\n",
    "\n",
    "#если не писать plt.show() между графиками, они накладываются\n",
    "plt.scatter([1,1,2,3],[3,2,2,1],c = [\"red\",\"blue\",\"blue\",\"green\"],marker = \"x\")\n",
    "plt.scatter([0,1,2,3,4,5],[0,1,4,9,16,25],c = \"black\")"
   ]
  },
  {
   "cell_type": "code",
   "execution_count": 52,
   "metadata": {
    "collapsed": false
   },
   "outputs": [
    {
     "data": {
      "image/png": "[encoded data removed]",
      "text/plain": [
       "<matplotlib.figure.Figure at 0x7f4475c662e8>"
      ]
     },
     "metadata": {},
     "output_type": "display_data"
    },
    {
     "data": {
      "text/plain": [
       "(array([ 4.,  7.,  5.,  3.,  3.]),\n",
       " array([  0.,   2.,   4.,   6.,   8.,  10.]),\n",
       " <a list of 5 Patch objects>)"
      ]
     },
     "execution_count": 52,
     "metadata": {},
     "output_type": "execute_result"
    },
    {
     "data": {
      "image/png": "[encoded data removed]",
      "text/plain": [
       "<matplotlib.figure.Figure at 0x7f4475c9ed30>"
      ]
     },
     "metadata": {},
     "output_type": "display_data"
    }
   ],
   "source": [
    "#гистограмма\n",
    "plt.hist([0,1,1,1,2,2,3,3,3,3,3,4,4,5,5,5,6,7,7,8,9,10])\n",
    "plt.show()\n",
    "\n",
    "plt.hist([0,1,1,1,2,2,3,3,3,3,3,4,4,5,5,5,6,7,7,8,9,10],bins = 5)"
   ]
  },
  {
   "cell_type": "code",
   "execution_count": 53,
   "metadata": {
    "collapsed": false
   },
   "outputs": [],
   "source": [
    "#Построй гистограмму возрастов, гистограмму пород.\n",
    "\n",
    "#<ваш код>\n",
    "\n",
    "#Бонус - узнай, как строить 2D-гистограму возрастов И пород. "
   ]
  },
  {
   "cell_type": "markdown",
   "metadata": {},
   "source": [
    "# Битва с финальным боссом\n",
    "\n",
    "При помощи интуиции, граффиков и вычислений попробуй выделить по признакам группу животных,\n",
    "в которой почти все выжили. \n",
    "\n",
    "Признаки - выражения вида:\n",
    "* [колонка] равно [значение] (пол = женский)\n",
    "* [математическое выражение] >, <, >= или <=  [значение]  (возраст старше 18 дней)\n",
    "* [колонка с именем] - [утверждение про имя]  (имя содержит \"Mr.\" и длинее 5 букв)\n",
    "\n",
    "Признаки могут использоваться через И и ИЛИ.\n",
    "\n",
    "(и только их. НЕ, импликация, XOR, эквивалентность, штрих Шифера и стрелка Пирса идут лесом)\n",
    "\n",
    "Например, все [старше 30 дней] И [породы Сибирский Медведь] И ([без имени] ИЛИ [с именем Попка]) - это 4 признака\n",
    "\n",
    "При этом:\n",
    "* Чем больше выживших животин(количество, а не доля), тем лучше;\n",
    "* В группе обязательно должны выжить более 80% животных;\n",
    "* Желательно использовать не более 5 - 10 признаков;\n",
    " * Если нашёл более 1 такой группы - перечисли несколько;\n",
    "* Гипотеза должна подтверждаться запускабельным кодом, \n",
    " * который считает число животин и шанс выжить;\n",
    " * высший пилотаж - заправить это красивыми граффиками по теме;\n",
    "\n",
    "Напутствие - возможно, будет полезно сначала изучить данные, посмотреть на графики и обусдить идеи, а потом бросаться лихорадочно пробовать всё подряд."
   ]
  },
  {
   "cell_type": "code",
   "execution_count": 54,
   "metadata": {
    "collapsed": false
   },
   "outputs": [],
   "source": [
    "# предварительные вычисления графики"
   ]
  },
  {
   "cell_type": "code",
   "execution_count": 55,
   "metadata": {
    "collapsed": false
   },
   "outputs": [
    {
     "data": {
      "text/html": [
       "<div>\n",
       "<table border=\"1\" class=\"dataframe\">\n",
       "  <thead>\n",
       "    <tr style=\"text-align: right;\">\n",
       "      <th></th>\n",
       "      <th>Name</th>\n",
       "      <th>DateTime</th>\n",
       "      <th>OutcomeType</th>\n",
       "      <th>OutcomeSubtype</th>\n",
       "      <th>AnimalType</th>\n",
       "      <th>SexuponOutcome</th>\n",
       "      <th>AgeuponOutcome</th>\n",
       "      <th>Breed</th>\n",
       "      <th>Color</th>\n",
       "    </tr>\n",
       "    <tr>\n",
       "      <th>AnimalID</th>\n",
       "      <th></th>\n",
       "      <th></th>\n",
       "      <th></th>\n",
       "      <th></th>\n",
       "      <th></th>\n",
       "      <th></th>\n",
       "      <th></th>\n",
       "      <th></th>\n",
       "      <th></th>\n",
       "    </tr>\n",
       "  </thead>\n",
       "  <tbody>\n",
       "    <tr>\n",
       "      <th>A671945</th>\n",
       "      <td>Hambone</td>\n",
       "      <td>2014-02-12 18:22:00</td>\n",
       "      <td>Return_to_owner</td>\n",
       "      <td>NaN</td>\n",
       "      <td>Dog</td>\n",
       "      <td>Neutered Male</td>\n",
       "      <td>1 year</td>\n",
       "      <td>Shetland Sheepdog Mix</td>\n",
       "      <td>Brown/White</td>\n",
       "    </tr>\n",
       "    <tr>\n",
       "      <th>A656520</th>\n",
       "      <td>Emily</td>\n",
       "      <td>2013-10-13 12:44:00</td>\n",
       "      <td>Euthanasia</td>\n",
       "      <td>Suffering</td>\n",
       "      <td>Cat</td>\n",
       "      <td>Spayed Female</td>\n",
       "      <td>1 year</td>\n",
       "      <td>Domestic Shorthair Mix</td>\n",
       "      <td>Cream Tabby</td>\n",
       "    </tr>\n",
       "    <tr>\n",
       "      <th>A686464</th>\n",
       "      <td>Pearce</td>\n",
       "      <td>2015-01-31 12:28:00</td>\n",
       "      <td>Adoption</td>\n",
       "      <td>Foster</td>\n",
       "      <td>Dog</td>\n",
       "      <td>Neutered Male</td>\n",
       "      <td>2 years</td>\n",
       "      <td>Pit Bull Mix</td>\n",
       "      <td>Blue/White</td>\n",
       "    </tr>\n",
       "    <tr>\n",
       "      <th>A683430</th>\n",
       "      <td>NaN</td>\n",
       "      <td>2014-07-11 19:09:00</td>\n",
       "      <td>Transfer</td>\n",
       "      <td>Partner</td>\n",
       "      <td>Cat</td>\n",
       "      <td>Intact Male</td>\n",
       "      <td>3 weeks</td>\n",
       "      <td>Domestic Shorthair Mix</td>\n",
       "      <td>Blue Cream</td>\n",
       "    </tr>\n",
       "    <tr>\n",
       "      <th>A667013</th>\n",
       "      <td>NaN</td>\n",
       "      <td>2013-11-15 12:52:00</td>\n",
       "      <td>Transfer</td>\n",
       "      <td>Partner</td>\n",
       "      <td>Dog</td>\n",
       "      <td>Neutered Male</td>\n",
       "      <td>2 years</td>\n",
       "      <td>Lhasa Apso/Miniature Poodle</td>\n",
       "      <td>Tan</td>\n",
       "    </tr>\n",
       "    <tr>\n",
       "      <th>A677334</th>\n",
       "      <td>Elsa</td>\n",
       "      <td>2014-04-25 13:04:00</td>\n",
       "      <td>Transfer</td>\n",
       "      <td>Partner</td>\n",
       "      <td>Dog</td>\n",
       "      <td>Intact Female</td>\n",
       "      <td>1 month</td>\n",
       "      <td>Cairn Terrier/Chihuahua Shorthair</td>\n",
       "      <td>Black/Tan</td>\n",
       "    </tr>\n",
       "    <tr>\n",
       "      <th>A699218</th>\n",
       "      <td>Jimmy</td>\n",
       "      <td>2015-03-28 13:11:00</td>\n",
       "      <td>Transfer</td>\n",
       "      <td>Partner</td>\n",
       "      <td>Cat</td>\n",
       "      <td>Intact Male</td>\n",
       "      <td>3 weeks</td>\n",
       "      <td>Domestic Shorthair Mix</td>\n",
       "      <td>Blue Tabby</td>\n",
       "    </tr>\n",
       "    <tr>\n",
       "      <th>A701489</th>\n",
       "      <td>NaN</td>\n",
       "      <td>2015-04-30 17:02:00</td>\n",
       "      <td>Transfer</td>\n",
       "      <td>Partner</td>\n",
       "      <td>Cat</td>\n",
       "      <td>Unknown</td>\n",
       "      <td>3 weeks</td>\n",
       "      <td>Domestic Shorthair Mix</td>\n",
       "      <td>Brown Tabby</td>\n",
       "    </tr>\n",
       "    <tr>\n",
       "      <th>A671784</th>\n",
       "      <td>Lucy</td>\n",
       "      <td>2014-02-04 17:17:00</td>\n",
       "      <td>Adoption</td>\n",
       "      <td>NaN</td>\n",
       "      <td>Dog</td>\n",
       "      <td>Spayed Female</td>\n",
       "      <td>5 months</td>\n",
       "      <td>American Pit Bull Terrier Mix</td>\n",
       "      <td>Red/White</td>\n",
       "    </tr>\n",
       "    <tr>\n",
       "      <th>A677747</th>\n",
       "      <td>NaN</td>\n",
       "      <td>2014-05-03 07:48:00</td>\n",
       "      <td>Adoption</td>\n",
       "      <td>Offsite</td>\n",
       "      <td>Dog</td>\n",
       "      <td>Spayed Female</td>\n",
       "      <td>1 year</td>\n",
       "      <td>Cairn Terrier</td>\n",
       "      <td>White</td>\n",
       "    </tr>\n",
       "  </tbody>\n",
       "</table>\n",
       "</div>"
      ],
      "text/plain": [
       "             Name             DateTime      OutcomeType OutcomeSubtype  \\\n",
       "AnimalID                                                                 \n",
       "A671945   Hambone  2014-02-12 18:22:00  Return_to_owner            NaN   \n",
       "A656520     Emily  2013-10-13 12:44:00       Euthanasia      Suffering   \n",
       "A686464    Pearce  2015-01-31 12:28:00         Adoption         Foster   \n",
       "A683430       NaN  2014-07-11 19:09:00         Transfer        Partner   \n",
       "A667013       NaN  2013-11-15 12:52:00         Transfer        Partner   \n",
       "A677334      Elsa  2014-04-25 13:04:00         Transfer        Partner   \n",
       "A699218     Jimmy  2015-03-28 13:11:00         Transfer        Partner   \n",
       "A701489       NaN  2015-04-30 17:02:00         Transfer        Partner   \n",
       "A671784      Lucy  2014-02-04 17:17:00         Adoption            NaN   \n",
       "A677747       NaN  2014-05-03 07:48:00         Adoption        Offsite   \n",
       "\n",
       "         AnimalType SexuponOutcome AgeuponOutcome  \\\n",
       "AnimalID                                            \n",
       "A671945         Dog  Neutered Male         1 year   \n",
       "A656520         Cat  Spayed Female         1 year   \n",
       "A686464         Dog  Neutered Male        2 years   \n",
       "A683430         Cat    Intact Male        3 weeks   \n",
       "A667013         Dog  Neutered Male        2 years   \n",
       "A677334         Dog  Intact Female        1 month   \n",
       "A699218         Cat    Intact Male        3 weeks   \n",
       "A701489         Cat        Unknown        3 weeks   \n",
       "A671784         Dog  Spayed Female       5 months   \n",
       "A677747         Dog  Spayed Female         1 year   \n",
       "\n",
       "                                      Breed        Color  \n",
       "AnimalID                                                  \n",
       "A671945               Shetland Sheepdog Mix  Brown/White  \n",
       "A656520              Domestic Shorthair Mix  Cream Tabby  \n",
       "A686464                        Pit Bull Mix   Blue/White  \n",
       "A683430              Domestic Shorthair Mix   Blue Cream  \n",
       "A667013         Lhasa Apso/Miniature Poodle          Tan  \n",
       "A677334   Cairn Terrier/Chihuahua Shorthair    Black/Tan  \n",
       "A699218              Domestic Shorthair Mix   Blue Tabby  \n",
       "A701489              Domestic Shorthair Mix  Brown Tabby  \n",
       "A671784       American Pit Bull Terrier Mix    Red/White  \n",
       "A677747                       Cairn Terrier        White  "
      ]
     },
     "execution_count": 55,
     "metadata": {},
     "output_type": "execute_result"
    }
   ],
   "source": [
    "data [:10]"
   ]
  },
  {
   "cell_type": "code",
   "execution_count": null,
   "metadata": {
    "collapsed": true
   },
   "outputs": [],
   "source": [
    "#гистограмма\n",
    "plt.hist([0,1,1,1,2,2,3,3,3,3,3,4,4,5,5,5,6,7,7,8,9,10])\n",
    "plt.show()\n",
    "\n",
    "plt.hist([0,1,1,1,2,2,3,3,3,3,3,4,4,5,5,5,6,7,7,8,9,10],bins = 5)"
   ]
  },
  {
   "cell_type": "code",
   "execution_count": 58,
   "metadata": {
    "collapsed": false
   },
   "outputs": [
    {
     "name": "stdout",
     "output_type": "stream",
     "text": [
      "Counter({'Adoption': 10769, 'Transfer': 9422, 'Return_to_owner': 4786, 'Euthanasia': 1555, 'Died': 197})\n"
     ]
    }
   ],
   "source": [
    "from collections import Counter\n",
    "OutcomeCounter=Counter()\n",
    "for i in data.OutcomeType:\n",
    "    OutcomeCounter[i]+=1\n",
    "print (OutcomeCounter)"
   ]
  },
  {
   "cell_type": "code",
   "execution_count": 64,
   "metadata": {
    "collapsed": false
   },
   "outputs": [
    {
     "data": {
      "text/plain": [
       "'Hambone'"
      ]
     },
     "execution_count": 64,
     "metadata": {},
     "output_type": "execute_result"
    }
   ],
   "source": [
    "data.iloc[0][0]"
   ]
  },
  {
   "cell_type": "code",
   "execution_count": 67,
   "metadata": {
    "collapsed": false
   },
   "outputs": [
    {
     "data": {
      "text/plain": [
       "Index(['Name', 'DateTime', 'OutcomeType', 'OutcomeSubtype', 'AnimalType',\n",
       "       'SexuponOutcome', 'AgeuponOutcome', 'Breed', 'Color'],\n",
       "      dtype='object')"
      ]
     },
     "execution_count": 67,
     "metadata": {},
     "output_type": "execute_result"
    }
   ],
   "source": [
    "data.keys()"
   ]
  },
  {
   "cell_type": "code",
   "execution_count": 81,
   "metadata": {
    "collapsed": false
   },
   "outputs": [
    {
     "name": "stdout",
     "output_type": "stream",
     "text": [
      "Counter({'a': 2})\n"
     ]
    }
   ],
   "source": [
    "a=Counter({'a':1})\n",
    "b=Counter({'a':1})\n",
    "\n",
    "print (a+b)"
   ]
  },
  {
   "cell_type": "code",
   "execution_count": 78,
   "metadata": {
    "collapsed": false
   },
   "outputs": [
    {
     "name": "stdout",
     "output_type": "stream",
     "text": [
      "Name\n",
      "OutcomeType\n",
      "OutcomeSubtype\n",
      "AnimalType\n",
      "SexuponOutcome\n",
      "AgeuponOutcome\n",
      "Breed\n",
      "Color\n"
     ]
    }
   ],
   "source": [
    "for i in range(0,9):\n",
    "    if i==1: continue\n",
    "    print (data.keys()[i])"
   ]
  },
  {
   "cell_type": "code",
   "execution_count": 76,
   "metadata": {
    "collapsed": false
   },
   "outputs": [
    {
     "data": {
      "text/plain": [
       "Index(['Name', 'DateTime', 'OutcomeType', 'OutcomeSubtype', 'AnimalType',\n",
       "       'SexuponOutcome', 'AgeuponOutcome', 'Breed', 'Color'],\n",
       "      dtype='object')"
      ]
     },
     "execution_count": 76,
     "metadata": {},
     "output_type": "execute_result"
    }
   ],
   "source": [
    "data.keys()"
   ]
  },
  {
   "cell_type": "code",
   "execution_count": 84,
   "metadata": {
    "collapsed": false
   },
   "outputs": [
    {
     "name": "stdout",
     "output_type": "stream",
     "text": [
      "{'Color': Counter({'Black/White': 2637, 'Black': 2127, 'Brown Tabby': 1519, 'White': 882, 'Brown Tabby/White': 866, 'Brown/White': 831, 'Orange Tabby': 784, 'Tan/White': 728, 'Tricolor': 728, 'Black/Tan': 640, 'Blue/White': 638, 'White/Black': 602, 'Brown': 596, 'Tan': 587, 'White/Brown': 534, 'Tortie': 498, 'Calico': 485, 'Blue': 418, 'Orange Tabby/White': 418, 'Black/Brown': 416, 'Brown Brindle/White': 413, 'Blue Tabby': 408, 'White/Tan': 368, 'Red': 319, 'Torbie': 318, 'Red/White': 314, 'Brown/Black': 305, 'Blue Tabby/White': 219, 'Chocolate/White': 210, 'Brown Brindle': 207, 'Sable': 195, 'Buff': 191, 'Cream Tabby': 182, 'Yellow': 179, 'Tan/Black': 172, 'Lynx Point': 157, 'Cream': 142, 'Chocolate': 129, 'White/Blue': 121, 'Seal Point': 121, 'White/Brown Brindle': 108, 'Fawn/White': 101, 'Gray/White': 91, 'Gray': 85, 'Sable/White': 85, 'White/Brown Tabby': 83, 'Flame Point': 77, 'Cream Tabby/White': 74, 'Blue Merle': 74, 'Black Brindle/White': 69, 'Fawn': 64, 'Chocolate/Tan': 64, 'Red/Black': 60, 'Torbie/White': 58, 'White/Gray': 52, 'Gold': 48, 'White/Orange Tabby': 48, 'White/Tricolor': 47, 'White/Red': 47, 'Brown/Tan': 46, 'Black Smoke': 45, 'Blue Merle/White': 44, 'Buff/White': 42, 'Black/Brown Brindle': 41, 'Black Tabby': 40, 'White/Buff': 39, 'Black/Tricolor': 39, 'Yellow/White': 39, 'Cream/White': 38, 'Lilac Point': 37, 'White/Chocolate': 37, 'Black/Gray': 36, 'White/Cream': 34, 'Tortie/White': 32, 'Brown Merle': 32, 'Brown Merle/White': 32, 'Blue/Tan': 31, 'Tortie Point': 29, 'White/Orange': 28, 'Silver Tabby': 27, 'Blue Merle/Tan': 26, 'Red Merle': 24, 'Blue Point': 24, 'Red/Tan': 24, 'Calico Point': 24, 'Gray Tabby': 24, 'Orange/White': 22, 'Tan/Brown': 21, 'Apricot': 21, 'Red Merle/White': 21, 'Calico/White': 21, 'Silver/Tan': 20, 'Seal Point/White': 19, 'Black Brindle': 18, 'Tricolor/White': 18, 'Fawn/Black': 18, 'Red Tick': 17, 'Black Tabby/White': 17, 'Black/Red': 16, 'Gold/White': 16, 'Blue Tick': 16, 'Silver': 16, 'Sable/Tan': 16, 'Tan/Gray': 15, 'Cream/Black': 15, 'White/Blue Tabby': 15, 'Orange': 14, 'Gray/Black': 14, 'Black Smoke/White': 14, 'Red Tick/White': 14, 'Chocolate Point': 14, 'Yellow Brindle/White': 13, 'Silver Tabby/White': 12, 'Brown/Tricolor': 12, 'Sable/Black': 12, 'Lynx Point/White': 12, 'Yellow Brindle': 12, 'Gray/Tan': 11, 'Gray Tabby/White': 11, 'Buff/Tan': 11, 'Liver/White': 11, 'White/Liver': 11, 'Tan/Silver': 11, 'Blue Tick/Black': 11, 'Tricolor/Black': 10, 'White/White': 10, 'White/Black Brindle': 9, 'Tortie/Blue Cream': 9, 'Black/Cream': 9, 'Blue Cream': 9, 'Tan/Cream': 9, 'Cream/Tan': 8, 'Buff/Black': 8, 'Tricolor/Brown': 7, 'Sable/Brown': 7, 'Blue Merle/Brown': 7, 'Red/Brown': 7, 'White/Red Tick': 7, 'Black/Blue Merle': 7, 'Brown/Gray': 7, 'Tan/Buff': 7, 'Black/Blue Tick': 6, 'Tan/Tan': 6, 'Brown/Red': 6, 'Blue Tiger/White': 6, 'Brown Tabby/Black': 6, 'Chocolate/Brown': 6, 'White/Blue Merle': 6, 'Chocolate Point/White': 5, 'Black/Buff': 5, 'Brown Brindle/Black': 5, 'Silver/Black': 5, 'White/Cream Tabby': 5, 'Black/Black Brindle': 5, 'Blue Merle/Black': 4, 'Gray/Silver': 4, 'Silver/Brown': 4, 'Tan/Red': 4, 'Silver/White': 4, 'Red/Cream': 4, 'White/Yellow Brindle': 4, 'White/Brown Merle': 4, 'Blue Tick/Tan': 4, 'White/Black Tabby': 4, 'Blue Tick/Red Tick': 3, 'Brown Tiger': 3, 'Brown/Cream': 3, 'Black Brindle/Brown': 3, 'Chocolate/Red': 3, 'Liver/Tan': 3, 'Blue/Brown Brindle': 3, 'Black/Orange': 3, 'Blue Tick/Brown': 3, 'White/Chocolate Point': 3, 'Seal Point/Brown': 3, 'Brown Brindle/Red Tick': 3, 'Liver Tick': 3, 'Fawn/Blue': 3, 'Black/Silver': 3, 'Gray/Brown': 3, 'Blue/Cream': 3, 'Blue Smoke': 3, 'Black/Blue': 3, 'White/Red Merle': 3, 'Apricot/White': 3, 'Tricolor/Tan': 3, 'Tan/Blue': 3, 'Tortie/Orange': 3, 'Sable/Cream': 3, 'Black/Black Smoke': 3, 'Blue Cream/White': 3, 'Blue/Black': 3, 'Calico/Brown Tabby': 3, 'Brown Merle/Black': 2, 'Red/Tricolor': 2, 'Tricolor/Blue': 2, 'Blue Tick/White': 2, 'Red/Buff': 2, 'Red Tick/Red': 2, 'Calico/Tricolor': 2, 'Calico Point/White': 2, 'Tortie/Black': 2, 'Chocolate/Tricolor': 2, 'Brown/Chocolate': 2, 'Brown Tabby/Orange': 2, 'Black/Yellow Brindle': 2, 'Brown/Red Tick': 2, 'Brown Brindle/Tan': 2, 'Brown/Buff': 2, 'Calico/Black': 2, 'Tricolor/Chocolate': 2, 'Tricolor/Silver': 2, 'Black/Chocolate': 2, 'Red Merle/Black': 2, 'Red Tick/Tan': 2, 'Gray/Cream': 2, 'Red/Red Tick': 2, 'Cream/Gray': 2, 'White/Pink': 2, 'Cream/Brown': 2, 'Chocolate/Black': 2, 'Fawn/Tan': 2, 'Silver Lynx Point': 2, 'Apricot/Brown': 2, 'Tan/Gold': 2, 'Blue Merle/Tricolor': 2, 'Black/Brown Merle': 2, 'White/Apricot': 2, 'Silver/Chocolate': 2, 'Red/Red Merle': 2, 'Brown/Brown': 2, 'White/Yellow': 2, 'White/Gray Tabby': 2, 'White/Blue Tick': 2, 'Brown Tabby/Tortie': 2, 'White/Silver': 2, 'Buff/Yellow': 2, 'Buff/Gray': 2, 'Chocolate/Black Smoke': 2, 'White/Gold': 2, 'Blue Point/White': 2, 'White/Flame Point': 1, 'Chocolate/Gold': 1, 'Blue Smoke/Brown': 1, 'Blue Tabby/Cream': 1, 'Ruddy/Cream': 1, 'White/Blue Cream': 1, 'Orange Tabby/Black': 1, 'Agouti/Brown Tabby': 1, 'Black/Black': 1, 'Gold/Yellow': 1, 'Blue/Yellow Brindle': 1, 'Calico/Blue Cream': 1, 'Gray/Red': 1, 'Lynx Point/Brown Tabby': 1, 'Brown/Silver': 1, 'Cream/Red': 1, 'Tricolor/Blue Merle': 1, 'Fawn/Brown Brindle': 1, 'Yellow Brindle/Blue': 1, 'Blue Cream/Blue Tabby': 1, 'Blue/Tortie': 1, 'Liver/Buff': 1, 'Orange/Orange Tabby': 1, 'Blue Cream/Tortie': 1, 'Tricolor/Calico': 1, 'Brown Merle/Blue Merle': 1, 'Black Tabby/Orange': 1, 'Calico/Blue Tabby': 1, 'White/Black Smoke': 1, 'Torbie/Blue Cream': 1, 'Fawn/Tricolor': 1, 'Black/Black Tabby': 1, 'Torbie/Brown': 1, 'Brown Tiger/White': 1, 'Blue Merle/Red Merle': 1, 'Red Merle/Tan': 1, 'Red/Silver': 1, 'Gold/Buff': 1, 'Black Brindle/Black': 1, 'Tortie Point/White': 1, 'Red Tick/Black': 1, 'Black Tiger/White': 1, 'Gold/Tan': 1, 'Blue Merle/Cream': 1, 'Blue Cream/Blue Tiger': 1, 'Silver Tabby/Black': 1, 'Gold/Black': 1, 'Tortie/Black Smoke': 1, 'Agouti': 1, 'Cream/Orange': 1, 'Tricolor/Brown Merle': 1, 'Fawn/Brown': 1, 'Silver/Red': 1, 'Yellow/Yellow': 1, 'Red Tick/Blue Tick': 1, 'Orange/Tan': 1, 'Red/Gold': 1, 'Brown/Blue': 1, 'Brown Brindle/Brown Brindle': 1, 'Red/Blue': 1, 'Orange Tabby/Orange': 1, 'Brown/Black Brindle': 1, 'Buff/Brown': 1, 'Black/Silver Tabby': 1, 'Sable/Buff': 1, 'Chocolate/Gray': 1, 'Blue Tick/Red': 1, 'Chocolate/Brown Brindle': 1, 'Brown Tabby/Gray Tabby': 1, 'Blue Tick/Brown Brindle': 1, 'Blue Cream/Buff': 1, 'White/Brown Tiger': 1, 'White/Lynx Point': 1, 'Black Smoke/Brown Tabby': 1, 'Brown Brindle/Brown Merle': 1, 'Brown Brindle/Blue Tick': 1, 'Brown Brindle/Blue Cream': 1, 'Blue/Orange': 1, 'Pink': 1, 'Tan/Apricot': 1, 'Brown/Black Tabby': 1, 'Buff/Red': 1, 'Brown Tabby/Gray': 1, 'Sable/Red': 1, 'Red Tick/Brown': 1, 'Chocolate/Cream': 1, 'Tortie/Calico': 1, 'Brown Tabby/Brown': 1, 'Blue Merle/Blue Merle': 1, 'Brown/Brown Merle': 1, 'Black/Yellow': 1, 'Blue Tabby/Orange': 1, 'Brown Merle/Tan': 1, 'Tortie/Brown': 1, 'Brown/Blue Smoke': 1, 'Yellow/Black': 1, 'Blue Tabby/Tan': 1, 'Brown Brindle/Blue': 1, 'Calico/Brown': 1, 'Lynx Point/Gray Tabby': 1, 'Torbie/Calico': 1, 'Yellow Brindle/Tan': 1, 'Blue/Brown': 1, 'Blue Tiger': 1, 'Liver Tick/White': 1, 'Chocolate/Red Tick': 1, 'Tan/Brown Merle': 1, 'Cream/Red Tick': 1, 'Blue Tabby/Blue Cream': 1, 'Blue Merle/Red': 1, 'Chocolate/Brown Merle': 1, 'Tortie Point/Lynx Point': 1, 'Tan/Tricolor': 1, 'Red Tick/Brown Merle': 1}), 'SexuponOutcome': Counter({'Neutered Male': 9416, 'Spayed Female': 8570, 'Intact Female': 3054, 'Intact Male': 2969, 'Unknown': 967, nan: 1}), 'AgeuponOutcome': Counter({'1 year': 3772, '2 years': 3450, '2 months': 3344, '3 years': 1675, '3 months': 1240, '1 month': 1102, '4 years': 992, '5 years': 895, '4 months': 857, '3 weeks': 642, '5 months': 632, '6 years': 617, '6 months': 569, '2 weeks': 507, '7 years': 487, '8 years': 484, '10 months': 450, '8 months': 393, '10 years': 368, '4 weeks': 293, '7 months': 278, '9 years': 249, '9 months': 215, '12 years': 177, '11 months': 164, '1 weeks': 162, '1 week': 137, '11 years': 112, '13 years': 111, '3 days': 103, '2 days': 90, '14 years': 77, '15 years': 67, '1 day': 64, '4 days': 48, '6 days': 46, '16 years': 26, '0 years': 19, '5 days': 18, nan: 16, '17 years': 12, '5 weeks': 7, '18 years': 7, '20 years': 2, '19 years': 1}), 'AnimalType': Counter({'Dog': 14700, 'Cat': 10277}), 'OutcomeType': Counter({'Adoption': 10769, 'Transfer': 9422, 'Return_to_owner': 4786}), 'Breed': Counter({'Domestic Shorthair Mix': 8163, 'Chihuahua Shorthair Mix': 1675, 'Pit Bull Mix': 1644, 'Labrador Retriever Mix': 1302, 'Domestic Medium Hair Mix': 766, 'German Shepherd Mix': 548, 'Domestic Longhair Mix': 452, 'Siamese Mix': 354, 'Australian Cattle Dog Mix': 352, 'Dachshund Mix': 309, 'Boxer Mix': 234, 'Miniature Poodle Mix': 226, 'Border Collie Mix': 218, 'Australian Shepherd Mix': 156, 'Rat Terrier Mix': 150, 'Catahoula Mix': 149, 'Jack Russell Terrier Mix': 141, 'Chihuahua Longhair Mix': 135, 'Yorkshire Terrier Mix': 135, 'Miniature Schnauzer Mix': 133, 'Domestic Shorthair': 130, 'Siberian Husky Mix': 127, 'Beagle Mix': 121, 'Rottweiler Mix': 101, 'Cairn Terrier Mix': 99, 'American Bulldog Mix': 98, 'Shih Tzu Mix': 96, 'Chihuahua Shorthair/Dachshund': 95, 'Australian Kelpie Mix': 92, 'Pointer Mix': 92, 'American Staffordshire Terrier Mix': 83, 'Staffordshire Mix': 83, 'Great Pyrenees Mix': 82, 'Chihuahua Shorthair': 81, 'German Shepherd': 75, 'Anatol Shepherd Mix': 74, 'Snowshoe Mix': 73, 'Labrador Retriever/Pit Bull': 72, 'Plott Hound Mix': 71, 'Labrador Retriever': 69, 'Miniature Pinscher Mix': 68, 'Dachshund/Chihuahua Shorthair': 66, 'Golden Retriever Mix': 65, 'American Pit Bull Terrier Mix': 64, 'Black Mouth Cur Mix': 63, 'Pit Bull': 57, 'German Shepherd/Labrador Retriever': 57, 'Labrador Retriever/German Shepherd': 52, 'Shih Tzu': 52, 'Cardigan Welsh Corgi Mix': 51, 'Pug Mix': 49, 'Queensland Heeler Mix': 47, 'Maltese Mix': 47, 'Chow Chow Mix': 45, 'Dachshund': 44, 'Maine Coon Mix': 44, 'Manx Mix': 42, 'Cocker Spaniel Mix': 42, 'Domestic Medium Hair': 41, 'Miniature Schnauzer/Miniature Poodle': 41, 'Boston Terrier Mix': 41, 'Doberman Pinsch Mix': 41, 'Basset Hound Mix': 40, 'Pomeranian Mix': 39, 'Lhasa Apso Mix': 39, 'Manchester Terrier Mix': 38, 'Blue Lacy Mix': 37, 'Labrador Retriever/Border Collie': 37, 'Flat Coat Retriever Mix': 35, 'Toy Poodle Mix': 35, 'Carolina Dog Mix': 35, 'Rottweiler': 34, 'Russian Blue Mix': 32, 'Dachshund Longhair Mix': 31, 'Boxer': 30, 'Australian Cattle Dog/Labrador Retriever': 30, 'Border Terrier Mix': 30, 'Maltese/Miniature Poodle': 29, 'Collie Smooth Mix': 28, 'Siberian Husky': 28, 'Labrador Retriever/Australian Cattle Dog': 28, 'Border Collie/Labrador Retriever': 27, 'Pekingese Mix': 26, 'Bull Terrier Mix': 26, 'Rhod Ridgeback Mix': 25, 'English Bulldog Mix': 24, 'Siamese': 24, 'Pit Bull/Labrador Retriever': 24, 'Yorkshire Terrier': 24, 'Chihuahua Shorthair/Jack Russell Terrier': 24, 'Soft Coated Wheaten Terrier Mix': 23, 'Australian Cattle Dog': 23, 'Pug': 23, 'Chinese Sharpei Mix': 23, 'Chihuahua Shorthair/Rat Terrier': 22, 'Rat Terrier/Chihuahua Shorthair': 22, 'Miniature Schnauzer': 22, 'Beagle': 22, 'Dachshund Wirehair Mix': 21, 'Norfolk Terrier Mix': 21, 'Domestic Longhair': 21, 'Bruss Griffon Mix': 20, 'Labrador Retriever/Boxer': 20, 'Mastiff Mix': 20, 'Great Dane Mix': 20, 'Redbone Hound Mix': 20, 'German Shorthair Pointer Mix': 19, 'Whippet Mix': 19, 'Weimaraner Mix': 19, 'Labrador Retriever/Great Pyrenees': 19, 'Shetland Sheepdog Mix': 19, 'Miniature Poodle': 19, 'Miniature Poodle/Miniature Schnauzer': 19, 'Boxer/Pit Bull': 18, 'Labrador Retriever/Chow Chow': 18, 'Chihuahua Shorthair/Cardigan Welsh Corgi': 18, 'Black/Tan Hound Mix': 18, 'Maltese': 18, 'Border Collie': 17, 'Labrador Retriever/Australian Shepherd': 17, 'Chihuahua Shorthair/Pug': 17, 'Labrador Retriever/Pointer': 17, 'Parson Russell Terrier Mix': 17, 'Shiba Inu Mix': 16, 'Cocker Spaniel': 16, 'Pembroke Welsh Corgi Mix': 16, 'Pug/Chihuahua Shorthair': 16, 'Jack Russell Terrier': 16, 'Miniature Pinscher': 15, 'Miniature Pinscher/Chihuahua Shorthair': 15, 'Belgian Malinois Mix': 15, 'Beagle/Chihuahua Shorthair': 15, 'Labrador Retriever/Plott Hound': 15, 'Doberman Pinsch': 15, 'Norwich Terrier Mix': 15, 'Basset Hound': 15, 'Harrier Mix': 14, 'English Pointer Mix': 14, 'West Highland Mix': 14, 'Bichon Frise Mix': 14, 'Pit Bull/Boxer': 14, 'Papillon Mix': 13, 'Great Pyrenees': 13, 'Cairn Terrier/Chihuahua Shorthair': 13, 'Dachshund/Beagle': 13, 'Labrador Retriever/Beagle': 13, 'Golden Retriever': 13, 'Australian Shepherd': 13, 'Italian Greyhound Mix': 12, 'Standard Schnauzer Mix': 12, 'Dogo Argentino Mix': 12, 'Jack Russell Terrier/Chihuahua Shorthair': 12, 'Catahoula/Labrador Retriever': 12, 'Rat Terrier': 12, 'Australian Shepherd/Labrador Retriever': 12, 'Labrador Retriever/Anatol Shepherd': 12, 'Wire Hair Fox Terrier Mix': 12, 'Yorkshire Terrier/Miniature Poodle': 12, 'Himalayan Mix': 12, 'English Bulldog': 12, 'Anatol Shepherd': 12, 'Pointer/Labrador Retriever': 11, 'Siberian Husky/German Shepherd': 11, 'Pug/Beagle': 11, 'Bulldog Mix': 11, 'Akita Mix': 11, 'Boxer/Labrador Retriever': 11, 'Boston Terrier': 11, 'Chesa Bay Retr Mix': 11, 'Lhasa Apso': 11, 'Labrador Retriever/Catahoula': 11, 'Basenji Mix': 11, 'Alaskan Husky Mix': 10, 'German Shepherd/Siberian Husky': 10, 'Siamese/Domestic Shorthair': 10, 'Ragdoll Mix': 10, 'Persian Mix': 10, 'Smooth Fox Terrier Mix': 10, 'Cairn Terrier': 10, 'Dalmatian Mix': 10, 'Cardigan Welsh Corgi/Chihuahua Shorthair': 10, 'Labrador Retriever/Rottweiler': 10, 'Dachshund Wirehair/Chihuahua Shorthair': 10, 'Chihuahua Shorthair/Yorkshire Terrier': 10, 'Labrador Retriever/Chinese Sharpei': 10, 'Beauceron Mix': 10, 'American Staffordshire Terrier': 10, 'Plott Hound/Labrador Retriever': 10, 'Havanese Mix': 10, 'Chihuahua Shorthair/Cairn Terrier': 9, 'Chihuahua Longhair': 9, 'Great Dane': 9, 'Chihuahua Shorthair/Beagle': 9, 'Australian Cattle Dog/Border Collie': 9, 'Dachshund Longhair': 9, 'Yorkshire Terrier/Chihuahua Shorthair': 9, 'Labrador Retriever/Basset Hound': 9, 'German Shepherd/Australian Cattle Dog': 9, 'Border Collie/Great Pyrenees': 9, 'Pharaoh Hound Mix': 9, 'Beagle/Dachshund': 9, 'Dachshund/Rat Terrier': 8, 'Beagle/Labrador Retriever': 8, 'American Shorthair Mix': 8, 'Bullmastiff Mix': 8, 'Cavalier Span Mix': 8, 'Standard Poodle Mix': 8, 'Labrador Retriever/Blue Lacy': 8, 'Leonberger Mix': 8, 'Pomeranian': 8, 'Dachshund/Manchester Terrier': 8, 'Rottweiler/Labrador Retriever': 8, 'Collie Rough Mix': 8, 'German Shepherd/Chow Chow': 8, 'Miniature Poodle/Maltese': 8, 'Anatol Shepherd/Labrador Retriever': 8, 'Beagle/German Shepherd': 8, 'Australian Cattle Dog/German Shepherd': 8, 'Greyhound Mix': 8, 'Chihuahua Shorthair/Miniature Pinscher': 8, 'Rottweiler/German Shepherd': 8, 'Yorkshire Terrier/Miniature Schnauzer': 8, 'Australian Cattle Dog/Pit Bull': 8, 'Toy Poodle': 7, 'Pit Bull/Catahoula': 7, 'German Shepherd/Border Collie': 7, 'Bloodhound Mix': 7, 'Dachshund Wirehair/Miniature Poodle': 7, 'Chinese Sharpei': 7, 'Angora Mix': 7, 'Border Collie/German Shepherd': 7, 'Chow Chow/Labrador Retriever': 7, 'Schipperke Mix': 7, 'St. Bernard Smooth Coat Mix': 7, 'Cocker Spaniel/Labrador Retriever': 7, 'Pbgv Mix': 7, 'American Eskimo Mix': 7, 'Yorkshire Terrier/Chihuahua Longhair': 7, 'Staffordshire': 7, 'Greyhound': 7, 'Great Pyrenees/Labrador Retriever': 7, 'Mastiff/Chinese Sharpei': 7, 'Vizsla Mix': 7, 'Finnish Spitz Mix': 7, 'Pit Bull/Pointer': 7, 'Bull Terrier': 7, 'Collie Smooth/Labrador Retriever': 7, 'Silky Terrier Mix': 7, 'Treeing Walker Coonhound Mix': 7, 'German Shepherd/Boxer': 7, 'Chihuahua Shorthair/Pomeranian': 7, 'Pit Bull/Chinese Sharpei': 7, 'Chihuahua Shorthair/Boston Terrier': 7, 'Shih Tzu/Miniature Poodle': 6, 'Affenpinscher Mix': 6, 'German Shepherd/Rottweiler': 6, 'Catahoula': 6, 'Anatol Shepherd/Great Pyrenees': 6, 'American Bulldog': 6, 'Tibetan Terrier Mix': 6, 'Toy Fox Terrier Mix': 6, 'Australian Shepherd/Anatol Shepherd': 6, 'Great Dane/Labrador Retriever': 6, 'Australian Kelpie': 6, 'German Shepherd/Mastiff': 6, 'Australian Shepherd/Border Collie': 6, 'Jack Russell Terrier/Australian Cattle Dog': 6, 'Labrador Retriever/Rhod Ridgeback': 6, 'Landseer Mix': 6, 'Pbgv': 6, 'Lhasa Apso/Miniature Poodle': 6, 'Boston Terrier/Chihuahua Shorthair': 6, 'French Bulldog Mix': 6, 'Blue Lacy/American Bulldog': 6, 'Newfoundland Mix': 6, 'Pit Bull/Chihuahua Shorthair': 6, 'Chihuahua Shorthair/Border Terrier': 6, 'Great Pyrenees/Border Collie': 6, 'Chihuahua Shorthair/Italian Greyhound': 6, 'Pit Bull/Australian Cattle Dog': 6, 'Boxer/Catahoula': 6, 'Yorkshire Terrier/Cairn Terrier': 6, 'Brittany Mix': 6, 'Dutch Shepherd Mix': 6, 'Bernese Mountain Dog Mix': 6, 'Airedale Terrier Mix': 5, 'Chow Chow/Australian Cattle Dog': 5, 'Siberian Husky/Labrador Retriever': 5, 'Bluetick Hound Mix': 5, 'Alaskan Malamute Mix': 5, 'German Shepherd/Alaskan Malamute': 5, 'West Highland': 5, 'Swedish Vallhund Mix': 5, 'Catahoula/Pit Bull': 5, 'English Coonhound Mix': 5, 'Golden Retriever/Labrador Retriever': 5, 'Rhod Ridgeback/Labrador Retriever': 5, 'Pit Bull/German Shepherd': 5, 'Australian Cattle Dog/Beagle': 5, 'Catahoula/Pointer': 5, 'Pekingese': 5, 'Chihuahua Shorthair/Miniature Schnauzer': 5, 'Bombay Mix': 5, 'Japanese Bobtail Mix': 5, 'Podengo Pequeno Mix': 5, 'Golden Retriever/Chow Chow': 5, 'Australian Cattle Dog/Pointer': 5, 'Catahoula/Australian Cattle Dog': 5, 'Cairn Terrier/Yorkshire Terrier': 5, 'Jack Russell Terrier/Dachshund': 5, 'Chow Chow/Pit Bull': 5, 'Labrador Retriever/Great Dane': 5, 'Welsh Terrier Mix': 5, 'Patterdale Terr Mix': 5, 'Balinese Mix': 5, 'Miniature Schnauzer/Yorkshire Terrier': 5, 'Border Terrier/Chihuahua Shorthair': 5, 'Feist Mix': 5, 'Border Collie/Australian Cattle Dog': 5, 'Shetland Sheepdog': 5, 'Irish Terrier Mix': 5, 'Labrador Retriever/Siberian Husky': 5, 'Keeshond Mix': 5, 'Bichon Frise': 5, 'Australian Shepherd/Australian Cattle Dog': 5, 'Jack Russell Terrier/Pit Bull': 5, 'Flat Coat Retriever/Papillon': 5, 'Black Mouth Cur': 5, 'Pointer/Pit Bull': 4, 'Boxer/Australian Cattle Dog': 4, 'Carolina Dog/Chihuahua Shorthair': 4, 'Wire Hair Fox Terrier/Chihuahua Shorthair': 4, 'Beagle/Basset Hound': 4, 'Weimaraner': 4, 'Pointer/Catahoula': 4, 'German Shepherd/Cardigan Welsh Corgi': 4, 'Miniature Poodle/Yorkshire Terrier': 4, 'Parson Russell Terrier': 4, 'Labrador Retriever/Flat Coat Retriever': 4, 'Greater Swiss Mountain Dog Mix': 4, 'Cane Corso Mix': 4, 'Labrador Retriever/Staffordshire': 4, 'Chihuahua Shorthair/Pit Bull': 4, 'Chow Chow': 4, 'Vizsla': 4, 'German Shepherd/Catahoula': 4, 'English Springer Spaniel Mix': 4, 'Dalmatian': 4, 'Boxer/Beagle': 4, 'Cocker Spaniel/Miniature Poodle': 4, 'Black Mouth Cur/Catahoula': 4, 'Beagle/Pug': 4, 'Treeing Cur Mix': 4, 'Cardigan Welsh Corgi/Australian Cattle Dog': 4, 'Miniature Poodle/Dachshund': 4, 'Australian Terrier Mix': 4, 'Schnauzer Giant Mix': 4, 'Labrador Retriever/Black/Tan Hound': 4, 'Manchester Terrier/Dachshund': 4, 'Labrador Retriever/Doberman Pinsch': 4, 'Jack Russell Terrier/Beagle': 4, 'Labrador Retriever/Golden Retriever': 4, 'Dachshund/Labrador Retriever': 4, 'Pit Bull/Basset Hound': 4, 'Rat Terrier/Beagle': 4, 'German Shorthair Pointer': 4, 'Blue Lacy': 4, 'Pomeranian/Chihuahua Longhair': 4, 'St. Bernard Rough Coat Mix': 4, 'Beagle/Boxer': 4, 'American Pit Bull Terrier': 4, 'Pembroke Welsh Corgi': 4, 'Yorkshire Terrier/Rat Terrier': 4, 'Standard Poodle/Labrador Retriever': 4, 'Great Pyrenees/Anatol Shepherd': 4, 'Anatol Shepherd/Redbone Hound': 4, 'German Shepherd/Chinese Sharpei': 4, 'Standard Poodle': 4, 'Pit Bull/Plott Hound': 4, 'Chow Chow/German Shepherd': 4, 'German Shepherd/Collie Rough': 4, 'Chihuahua Shorthair/Dachshund Wirehair': 4, 'Miniature Poodle/Cocker Spaniel': 4, 'Border Collie/Chow Chow': 4, 'Anatol Shepherd/Border Collie': 4, 'Australian Cattle Dog/Staffordshire': 3, 'Skye Terrier Mix': 3, 'Blue Lacy/Australian Kelpie': 3, 'Black/Tan Hound': 3, 'Labrador Retriever/Standard Poodle': 3, 'Tonkinese Mix': 3, 'Pointer': 3, 'Saluki Mix': 3, 'Chinese Crested Mix': 3, 'Rat Terrier/Cardigan Welsh Corgi': 3, 'Dachshund/Pit Bull': 3, 'Soft Coated Wheaten Terrier': 3, 'Irish Wolfhound Mix': 3, 'German Shepherd/Alaskan Husky': 3, 'Black Mouth Cur/Australian Cattle Dog': 3, 'Weimaraner/Labrador Retriever': 3, 'Pointer/Border Collie': 3, 'Old English Bulldog Mix': 3, 'Shih Tzu/Havanese': 3, 'Australian Cattle Dog/Jack Russell Terrier': 3, 'American Bulldog/Labrador Retriever': 3, 'Australian Shepherd/Chihuahua Shorthair': 3, 'Dachshund Wirehair/Border Terrier': 3, 'Cane Corso': 3, 'American Staffordshire Terrier/Labrador Retriever': 3, 'Blue Lacy/Pit Bull': 3, 'Cairn Terrier/Dachshund': 3, 'Lhasa Apso/Shih Tzu': 3, 'Chinese Sharpei/Labrador Retriever': 3, 'Australian Kelpie/Pit Bull': 3, 'Irish Setter/Pit Bull': 3, 'Boerboel Mix': 3, 'British Shorthair Mix': 3, 'Australian Cattle Dog/Cardigan Welsh Corgi': 3, 'Dachshund Wirehair': 3, 'Boxer/American Staffordshire Terrier': 3, 'Boxer/American Bulldog': 3, 'Labrador Retriever/Queensland Heeler': 3, 'Australian Cattle Dog/Catahoula': 3, 'Australian Cattle Dog/Chow Chow': 3, 'Labrador Retriever/Australian Kelpie': 3, 'Manchester Terrier/Beagle': 3, 'Dachshund/Australian Cattle Dog': 3, 'Jindo Mix': 3, 'Rat Terrier/Boston Terrier': 3, 'Border Terrier/Yorkshire Terrier': 3, 'Catahoula/Plott Hound': 3, 'Bedlington Terr Mix': 3, 'Chihuahua Shorthair/Wire Hair Fox Terrier': 3, 'Plott Hound': 3, 'Labrador Retriever/Jack Russell Terrier': 3, 'Black Mouth Cur/German Shepherd': 3, 'Mastiff/Rottweiler': 3, 'Chihuahua Shorthair/Manchester Terrier': 3, 'Glen Of Imaal Mix': 3, 'Doberman Pinsch/Labrador Retriever': 3, 'Boykin Span Mix': 3, 'Rottweiler/Australian Cattle Dog': 3, 'Yorkshire Terrier/Border Terrier': 3, 'Labrador Retriever/Dachshund': 3, 'Dogue De Bordeaux Mix': 3, 'German Shepherd/Golden Retriever': 3, 'Border Collie/Australian Shepherd': 3, 'Jack Russell Terrier/Shih Tzu': 3, 'Bengal Mix': 3, 'Canaan Dog Mix': 3, 'Boxer/Staffordshire': 3, 'Australian Cattle Dog/Boxer': 3, 'Rhod Ridgeback': 3, 'Border Collie/Boxer': 3, 'German Wirehaired Pointer Mix': 3, 'Tibetan Spaniel Mix': 3, 'German Shepherd/Doberman Pinsch': 3, 'Maltese/Toy Poodle': 3, 'Basset Hound/Labrador Retriever': 3, 'Miniature Schnauzer/Chihuahua Shorthair': 3, 'Pixiebob Shorthair Mix': 3, 'German Shepherd/Pit Bull': 3, 'Picardy Sheepdog Mix': 3, 'Carolina Dog/Labrador Retriever': 2, 'Chihuahua Longhair/Cardigan Welsh Corgi': 2, 'Norfolk Terrier/Yorkshire Terrier': 2, 'Dogo Argentino': 2, 'French Bulldog/Chihuahua Shorthair': 2, 'Brittany': 2, 'Siberian Husky/Australian Cattle Dog': 2, 'Boxer/Miniature Poodle': 2, 'Jack Russell Terrier/Labrador Retriever': 2, 'Pit Bull/Mastiff': 2, 'Schipperke/Chihuahua Shorthair': 2, 'Rhod Ridgeback/Pit Bull': 2, 'Chihuahua Shorthair/Basset Hound': 2, 'Siamese/Japanese Bobtail': 2, 'Pit Bull/Flat Coat Retriever': 2, 'Jack Russell Terrier/Miniature Poodle': 2, 'Finnish Spitz': 2, 'Chinese Sharpei/Border Collie': 2, 'Whippet/Dachshund': 2, 'Domestic Medium Hair/Siamese': 2, 'American Bulldog/Mastiff': 2, 'English Springer Spaniel': 2, 'Shih Tzu/Maltese': 2, 'Cairn Terrier/Border Collie': 2, 'American Eskimo': 2, 'Himalayan': 2, 'Labrador Retriever/American Bulldog': 2, 'Pit Bull/Beagle': 2, 'Bengal': 2, 'Wire Hair Fox Terrier': 2, 'Chihuahua Shorthair/Whippet': 2, 'Black Mouth Cur/Boxer': 2, 'Port Water Dog Mix': 2, 'Exotic Shorthair Mix': 2, 'Basset Hound/Beagle': 2, 'Great Pyrenees/Australian Cattle Dog': 2, 'Cavalier Span': 2, 'English Shepherd Mix': 2, 'Catahoula/Boxer': 2, 'Border Collie/Parson Russell Terrier': 2, 'Labrador Retriever/Black Mouth Cur': 2, 'Basenji/Chihuahua Longhair': 2, 'Domestic Longhair/Persian': 2, 'Ibizan Hound Mix': 2, 'Maltese/Yorkshire Terrier': 2, 'Alaskan Malamute/Border Collie': 2, 'Miniature Poodle/Lhasa Apso': 2, 'Australian Shepherd/Cocker Spaniel': 2, 'Boxer/Chinese Sharpei': 2, 'Boxer/Black Mouth Cur': 2, 'Pit Bull/Rottweiler': 2, 'Pomeranian/Chihuahua Shorthair': 2, 'Pit Bull/Siberian Husky': 2, 'Cairn Terrier/Miniature Schnauzer': 2, 'Pit Bull/Weimaraner': 2, 'Chihuahua Shorthair/Welsh Terrier': 2, 'English Setter Mix': 2, 'Black/Tan Hound/Black Mouth Cur': 2, 'Dachshund Longhair/Chihuahua Shorthair': 2, 'Australian Cattle Dog/Akita': 2, 'Flat Coat Retriever/Pit Bull': 2, 'Chihuahua Shorthair/Australian Cattle Dog': 2, 'Javanese Mix': 2, 'Old English Sheepdog': 2, 'Dachshund/Whippet': 2, 'English Foxhound': 2, 'Maine Coon': 2, 'Australian Kelpie/Australian Shepherd': 2, 'Australian Cattle Dog/Plott Hound': 2, 'Bull Terrier Miniature Mix': 2, 'Dachshund Longhair/Cardigan Welsh Corgi': 2, 'Staffordshire/Bull Terrier': 2, 'Scottish Terrier Mix': 2, 'Japanese Chin Mix': 2, 'Chihuahua Longhair/Cairn Terrier': 2, 'Harrier/Catahoula': 2, 'Manchester Terrier/Australian Kelpie': 2, 'Manchester Terrier/Jack Russell Terrier': 2, 'Miniature Poodle/Bichon Frise': 2, 'Basset Hound/Australian Cattle Dog': 2, 'American Bulldog/Pit Bull': 2, 'German Shepherd/Australian Shepherd': 2, 'Chihuahua Shorthair/Chinese Sharpei': 2, 'American Bulldog/Pointer': 2, 'American Pit Bull Terrier/Boxer': 2, 'Labrador Retriever/Collie Smooth': 2, 'Black Mouth Cur/Dachshund': 2, 'German Shepherd/Pembroke Welsh Corgi': 2, 'Pit Bull/Boston Terrier': 2, 'American Pit Bull Terrier/Labrador Retriever': 2, 'Dachshund/Cardigan Welsh Corgi': 2, 'Brittany/Labrador Retriever': 2, 'Plott Hound/Pit Bull': 2, 'Labrador Retriever/Vizsla': 2, 'Dachshund/Jack Russell Terrier': 2, 'Boxer/Great Dane': 2, 'Dachshund/Bull Terrier': 2, 'Alaskan Husky': 2, 'Australian Cattle Dog/Australian Shepherd': 2, 'Unknown Mix': 2, 'Great Pyrenees/Catahoula': 2, 'Labrador Retriever/Collie Rough': 2, 'American Eskimo/Border Collie': 2, 'Staffordshire/Boston Terrier': 2, 'Bearded Collie Mix': 2, 'Abyssinian Mix': 2, 'Labrador Retriever/Border Terrier': 2, 'Catahoula/Anatol Shepherd': 2, 'Australian Cattle Dog/Pembroke Welsh Corgi': 2, 'Golden Retriever/Border Collie': 2, 'Dachshund/Bloodhound': 2, 'Belgian Malinois': 2, 'Australian Shepherd/Chow Chow': 2, 'Great Dane/Mastiff': 2, 'Harrier': 2, 'Cymric Mix': 2, 'Miniature Schnauzer/Cairn Terrier': 2, 'Newfoundland/Labrador Retriever': 2, 'German Shepherd/Great Pyrenees': 2, 'Pug/Labrador Retriever': 2, 'Dachshund Longhair/Miniature Schnauzer': 2, 'Russian Blue': 2, 'Cocker Spaniel/Dachshund': 2, 'Turkish Van Mix': 2, 'Manx/Domestic Shorthair': 2, 'Boxer/Rhod Ridgeback': 2, 'Neapolitan Mastiff Mix': 2, 'Labrador Retriever/Redbone Hound': 2, 'Tibetan Terrier/Lhasa Apso': 2, 'Wirehaired Pointing Griffon Mix': 2, 'Australian Cattle Dog/Bloodhound': 2, 'Boxer/English Bulldog': 2, 'German Shepherd/Anatol Shepherd': 2, 'Jack Russell Terrier/Pug': 2, 'Collie Smooth/German Shepherd': 2, 'Labrador Retriever/Greyhound': 2, 'Yorkshire Terrier/Maltese': 2, 'Dachshund Wirehair/Toy Poodle': 2, 'Labrador Retriever/Cocker Spaniel': 2, 'Anatol Shepherd/Australian Cattle Dog': 2, 'Dachshund Longhair/Cocker Spaniel': 2, 'Basenji/Australian Cattle Dog': 2, 'Miniature Poodle/Labrador Retriever': 2, 'Siberian Husky/Pit Bull': 2, 'Shetland Sheepdog/Chihuahua Longhair': 2, 'Vizsla/Golden Retriever': 2, 'Sphynx': 2, 'Whippet/Labrador Retriever': 2, 'Standard Schnauzer': 2, 'Beagle/Pointer': 2, 'Golden Retriever/Standard Poodle': 2, 'Labrador Retriever/Pembroke Welsh Corgi': 2, 'Chihuahua Longhair/Pekingese': 2, 'Border Collie/Catahoula': 2, 'West Highland/Cairn Terrier': 2, 'Chihuahua Longhair/Dachshund': 2, 'American Pit Bull Terrier/Catahoula': 2, 'Belgian Sheepdog Mix': 2, 'Dachshund Wirehair/Chihuahua Longhair': 2, 'Manchester Terrier/Chihuahua Shorthair': 2, 'Catahoula/Cardigan Welsh Corgi': 2, 'Lhasa Apso/Miniature Schnauzer': 2, 'Alaskan Husky/Australian Shepherd': 2, 'Labrador Retriever/Miniature Poodle': 2, 'Collie Rough/Australian Shepherd': 2, 'Chihuahua Shorthair/Toy Fox Terrier': 2, 'Border Collie/Basenji': 2, 'Pointer/American Pit Bull Terrier': 2, 'Collie Rough/Labrador Retriever': 2, 'Pointer/Harrier': 2, 'German Wirehaired Pointer': 2, 'Chow Chow/Basset Hound': 2, 'Bullmastiff': 2, 'Golden Retriever/German Shepherd': 2, 'Akita/Siberian Husky': 2, 'Catahoula/Alaskan Husky': 2, 'Samoyed Mix': 2, 'Cardigan Welsh Corgi/Cocker Spaniel': 2, 'Chow Chow/Chinese Sharpei': 2, 'Rat Terrier/Australian Cattle Dog': 2, 'Beagle/Standard Poodle': 2, 'Miniature Poodle/Chihuahua Shorthair': 2, 'Dachshund/Harrier': 2, 'Border Collie/Dachshund': 2, 'Bruss Griffon/Chihuahua Shorthair': 2, 'Wire Hair Fox Terrier/Beagle': 2, 'Shih Tzu/Miniature Schnauzer': 2, 'Jack Russell Terrier/Cairn Terrier': 2, 'Pharaoh Hound': 2, 'Akita': 2, 'Jack Russell Terrier/Rat Terrier': 2, 'Boxer/Pointer': 2, 'Siberian Husky/Border Collie': 2, 'Pointer/Australian Cattle Dog': 2, 'Labrador Retriever/Newfoundland': 2, 'Pit Bull/Bulldog': 2, 'Snowshoe': 2, 'Pointer/Boxer': 2, 'Shiba Inu': 2, 'Australian Kelpie/Blue Lacy': 2, 'Australian Cattle Dog/Bull Terrier': 2, 'Doberman Pinsch/Pit Bull': 2, 'Catahoula/Beagle': 2, 'Anatol Shepherd/Catahoula': 2, 'Presa Canario Mix': 2, 'Border Collie/Pit Bull': 2, 'Australian Cattle Dog/Alaskan Husky': 2, 'Chihuahua Shorthair/German Shepherd': 2, 'Shih Tzu/Cocker Spaniel': 2, 'German Shepherd/Collie Smooth': 2, 'Australian Cattle Dog/Anatol Shepherd': 2, 'Beagle/Rat Terrier': 2, 'Dachshund/Miniature Pinscher': 2, 'American Foxhound Mix': 2, 'Rat Terrier/Miniature Poodle': 2, 'Rat Terrier/Dachshund': 2, 'Field Spaniel Mix': 2, 'Dachshund/Catahoula': 2, 'Plott Hound/Boxer': 2, 'Chihuahua Longhair/Maltese': 2, 'Cocker Spaniel/Chihuahua Shorthair': 2, 'Persian': 2, 'Maltese/Shih Tzu': 2, 'English Bulldog/Boxer': 1, 'Bernese Mountain Dog/Rottweiler': 1, 'Chihuahua Longhair/Pug': 1, 'Munchkin Longhair Mix': 1, 'Chinese Sharpei/Great Dane': 1, 'Rottweiler/Chow Chow': 1, 'Great Pyrenees/Rottweiler': 1, 'Jack Russell Terrier/Boston Terrier': 1, 'Shih Tzu/Pekingese': 1, 'Lhasa Apso/Cocker Spaniel': 1, 'Collie Smooth/Siberian Husky': 1, 'Catahoula/Black Mouth Cur': 1, 'American Bulldog/American Staffordshire Terrier': 1, 'Australian Cattle Dog/Golden Retriever': 1, 'Afghan Hound Mix': 1, 'Beagle/Pit Bull': 1, 'Australian Kelpie/Chinese Sharpei': 1, 'Airedale Terrier/Miniature Schnauzer': 1, 'St. Bernard Rough Coat/German Shepherd': 1, 'Beagle/Queensland Heeler': 1, 'Pit Bull/Queensland Heeler': 1, 'French Bulldog': 1, 'Border Terrier/Affenpinscher': 1, 'Beagle/Whippet': 1, 'Miniature Schnauzer/Soft Coated Wheaten Terrier': 1, 'Flat Coat Retriever/Golden Retriever': 1, 'Dogue De Bordeaux/American Bulldog': 1, 'Swiss Hound/Pit Bull': 1, 'Great Pyrenees/Standard Poodle': 1, 'Pekingese/Miniature Poodle': 1, 'Papillon/Skye Terrier': 1, 'Chinese Crested/Chihuahua Longhair': 1, 'Plott Hound/Blue Lacy': 1, 'St. Bernard Rough Coat': 1, 'Manx/Domestic Longhair': 1, 'Pug/Pomeranian': 1, 'Boston Terrier/Pit Bull': 1, 'Siberian Husky/Beagle': 1, 'Plott Hound/Australian Cattle Dog': 1, 'Boxer/Bulldog': 1, 'Dachshund Wirehair/Pbgv': 1, 'Boston Terrier/Labrador Retriever': 1, 'Australian Cattle Dog/Rat Terrier': 1, 'Patterdale Terr/Chihuahua Shorthair': 1, 'Lhasa Apso/West Highland': 1, 'Cardigan Welsh Corgi/Cardigan Welsh Corgi': 1, 'Cocker Spaniel/Toy Poodle': 1, 'Dachshund/Dachshund': 1, 'Labrador Retriever/Labrador Retriever': 1, 'Leonberger': 1, 'Hovawart Mix': 1, 'Golden Retriever/Dachshund': 1, 'Border Collie/Rottweiler': 1, 'Anatol Shepherd/Collie Rough': 1, 'Chow Chow/Cardigan Welsh Corgi': 1, 'Shetland Sheepdog/Dachshund Longhair': 1, 'Beagle/Boston Terrier': 1, 'Norfolk Terrier/Dachshund': 1, 'Shiba Inu/Dachshund': 1, 'Bernese Mountain Dog': 1, 'Dachshund/Miniature Poodle': 1, 'Greyhound/Great Dane': 1, 'Basset Hound/Pointer': 1, 'American Foxhound': 1, 'Maltese/Border Terrier': 1, 'American Pit Bull Terrier/American Bulldog': 1, 'Golden Retriever/Finnish Spitz': 1, 'Border Terrier/Dachshund': 1, 'Border Collie/Queensland Heeler': 1, 'Shih Tzu/Affenpinscher': 1, 'Dachshund/Yorkshire Terrier': 1, 'Beauceron': 1, 'Dachshund/Shetland Sheepdog': 1, 'Boxer/American Pit Bull Terrier': 1, 'Dachshund/Shih Tzu': 1, 'Chihuahua Shorthair/Affenpinscher': 1, 'Pit Bull/Cardigan Welsh Corgi': 1, 'Dachshund Wirehair/Cairn Terrier': 1, 'Catahoula/Bulldog': 1, 'Border Collie/English Pointer': 1, 'Dachshund Wirehair/Norfolk Terrier': 1, 'Chihuahua Shorthair/Shetland Sheepdog': 1, 'Whippet/Borzoi': 1, 'Miniature Schnauzer/Shih Tzu': 1, 'Labrador Retriever/Standard Schnauzer': 1, 'German Shepherd/Black Mouth Cur': 1, 'Australian Shepherd/Siberian Husky': 1, 'Black Mouth Cur/Labrador Retriever': 1, 'Australian Cattle Dog/Belgian Malinois': 1, 'Cairn Terrier/Affenpinscher': 1, 'Whippet/Jack Russell Terrier': 1, 'Beagle/Black Mouth Cur': 1, 'Cardigan Welsh Corgi/Jack Russell Terrier': 1, 'Australian Cattle Dog/Basenji': 1, 'Pekingese/Jack Russell Terrier': 1, 'Great Pyrenees/Australian Shepherd': 1, 'Pit Bull/Border Terrier': 1, 'Miniature Poodle/Golden Retriever': 1, 'Cairn Terrier/Miniature Poodle': 1, 'Dachshund Wirehair/Standard Poodle': 1, 'Domestic Shorthair/Manx': 1, 'Black/Tan Hound/German Shepherd': 1, 'Papillon/Australian Cattle Dog': 1, 'Basenji/Chow Chow': 1, 'Italian Greyhound/Chihuahua Shorthair': 1, 'Ocicat Mix': 1, 'French Bulldog/Miniature Schnauzer': 1, 'Bulldog': 1, 'Border Collie/Beagle': 1, 'Jack Russell Terrier/Welsh Terrier': 1, 'Border Terrier/Cardigan Welsh Corgi': 1, 'Cocker Spaniel/Chihuahua Longhair': 1, 'Dachshund Longhair/Cairn Terrier': 1, 'Queensland Heeler/Dachshund': 1, 'Border Collie/Anatol Shepherd': 1, 'Rat Terrier/Basenji': 1, 'Carolina Dog/Australian Cattle Dog': 1, 'Staffordshire/English Bulldog': 1, 'Manchester Terrier/Norfolk Terrier': 1, 'Pit Bull/English Bulldog': 1, 'Australian Shepherd/English Springer Spaniel': 1, 'Maltese/Chihuahua Shorthair': 1, 'Queensland Heeler/Great Dane': 1, 'Otterhound Mix': 1, 'Manx': 1, 'Pit Bull/Blue Lacy': 1, 'Cardigan Welsh Corgi/English Setter': 1, 'Australian Shepherd/Boxer': 1, 'Cardigan Welsh Corgi/Rat Terrier': 1, 'Snowshoe/Ragdoll': 1, 'British Shorthair': 1, 'Domestic Longhair/Russian Blue': 1, 'Blue Lacy/Labrador Retriever': 1, 'Boston Terrier/Dachshund': 1, 'Belgian Sheepdog': 1, 'Border Collie/Akita': 1, 'Rat Terrier/Pit Bull': 1, 'Newfoundland/Border Collie': 1, 'Australian Cattle Dog/Queensland Heeler': 1, 'Bruss Griffon/Cairn Terrier': 1, 'Golden Retriever/Australian Cattle Dog': 1, 'Cairn Terrier/Chihuahua Longhair': 1, 'Border Terrier/Shih Tzu': 1, 'Presa Canario': 1, 'Pit Bull/American Foxhound': 1, 'Collie Smooth/Golden Retriever': 1, 'English Bulldog/Cairn Terrier': 1, 'Wire Hair Fox Terrier/German Shepherd': 1, 'Sealyham Terr Mix': 1, 'American Bulldog/Chinese Sharpei': 1, 'Black Mouth Cur/American Staffordshire Terrier': 1, 'Labrador Retriever/Dalmatian': 1, 'Pointer/Brittany': 1, 'Australian Shepherd/Plott Hound': 1, 'English Bulldog/American Staffordshire Terrier': 1, 'Queensland Heeler': 1, 'Pembroke Welsh Corgi/Basset Hound': 1, 'Black Mouth Cur/Blue Lacy': 1, 'German Pinscher/Whippet': 1, 'Miniature Schnauzer/Whippet': 1, 'Collie Smooth': 1, 'Anatol Shepherd/German Shepherd': 1, 'Pit Bull/Rhod Ridgeback': 1, 'Siberian Husky/Anatol Shepherd': 1, 'Lhasa Apso/Havanese': 1, 'Cardigan Welsh Corgi': 1, 'Rhod Ridgeback/German Shepherd': 1, 'Maltese/Dachshund': 1, 'Doberman Pinsch/Rottweiler': 1, 'Chihuahua Shorthair/Cavalier Span': 1, 'Shetland Sheepdog/Keeshond': 1, 'Redbone Hound/Labrador Retriever': 1, 'Norwegian Elkhound Mix': 1, 'Basenji/Jack Russell Terrier': 1, 'Black Mouth Cur/Mastiff': 1, 'Spinone Italiano Mix': 1, 'Labrador Retriever/English Pointer': 1, 'Basset Hound/English Pointer': 1, 'Whippet/Australian Cattle Dog': 1, 'Maltese/Cocker Spaniel': 1, 'Lhasa Apso/Cairn Terrier': 1, 'Australian Shepherd/Alaskan Malamute': 1, 'Chihuahua Shorthair/Boxer': 1, 'German Shepherd/Black/Tan Hound': 1, 'Labrador Retriever/Chesa Bay Retr': 1, 'Miniature Poodle/Australian Cattle Dog': 1, 'Yorkshire Terrier/Toy Poodle': 1, 'Dachshund/English Foxhound': 1, 'Catahoula/Staffordshire': 1, 'Tibetan Spaniel': 1, 'Plott Hound/Carolina Dog': 1, 'Labrador Retriever/Mastiff': 1, 'Shetland Sheepdog/Cardigan Welsh Corgi': 1, 'Shetland Sheepdog/Brittany': 1, 'Pointer/Bull Terrier': 1, 'Havana Brown Mix': 1, 'Yorkshire Terrier/Pomeranian': 1, 'Rottweiler/Pit Bull': 1, 'American Staffordshire Terrier/French Bulldog': 1, 'Siberian Husky/Australian Shepherd': 1, 'Papillon/Pomeranian': 1, 'English Foxhound Mix': 1, 'Japanese Chin': 1, 'Miniature Pinscher/Maltese': 1, 'Dachshund/German Pinscher': 1, 'Rat Terrier/Chihuahua Longhair': 1, 'Kuvasz/Labrador Retriever': 1, 'Collie Rough/Pointer': 1, 'Pug/Staffordshire': 1, 'American Bulldog/Schnauzer Giant': 1, 'Catahoula/German Shepherd': 1, 'Alaskan Husky/German Shepherd': 1, 'Akita/Chow Chow': 1, 'Shetland Sheepdog/Cavalier Span': 1, 'Flat Coat Retriever/German Shepherd': 1, 'Cocker Spaniel/Standard Poodle': 1, 'Bull Terrier/Pit Bull': 1, 'Dutch Shepherd': 1, 'Border Collie/Whippet': 1, 'Australian Shepherd/Australian Kelpie': 1, 'Boxer/Mastiff': 1, 'Chinese Sharpei/Pit Bull': 1, 'Canaan Dog/Redbone Hound': 1, 'Labrador Retriever/American Staffordshire Terrier': 1, 'Vizsla/Staffordshire': 1, 'American Pit Bull Terrier/Chinese Sharpei': 1, 'Australian Shepherd/English Setter': 1, 'Border Terrier/West Highland': 1, 'Jack Russell Terrier/Whippet': 1, 'Newfoundland/Australian Cattle Dog': 1, 'Lhasa Apso/Pbgv': 1, 'Dachshund/Pug': 1, 'Jack Russell Terrier/Cardigan Welsh Corgi': 1, 'Australian Cattle Dog/German Shorthair Pointer': 1, 'Irish Wolfhound/Great Dane': 1, 'English Bulldog/Dachshund': 1, 'Norwich Terrier/Cairn Terrier': 1, 'American Foxhound/Pointer': 1, 'Standard Poodle/Whippet': 1, 'Staffordshire/Beagle': 1, 'Papillon/Chihuahua Shorthair': 1, 'St. Bernard Smooth Coat': 1, 'Domestic Longhair/Rex': 1, 'Vizsla/Boxer': 1, 'English Bulldog/Beagle': 1, 'Redbone Hound/Anatol Shepherd': 1, 'Miniature Schnauzer/Jack Russell Terrier': 1, 'Saluki': 1, 'Labrador Retriever/Boston Terrier': 1, 'West Highland/Chihuahua Shorthair': 1, 'Miniature Schnauzer/Labrador Retriever': 1, 'Dogo Argentino/Labrador Retriever': 1, 'Doberman Pinsch/Border Collie': 1, 'Great Dane/Boxer': 1, 'Redbone Hound': 1, 'Dachshund Longhair/Chihuahua Longhair': 1, 'Greyhound/Dalmatian': 1, 'English Coonhound/Australian Cattle Dog': 1, 'Nova Scotia Duck Tolling Retriever': 1, 'Nova Scotia Duck Tolling Retriever/Golden Retriever': 1, 'Bruss Griffon/Yorkshire Terrier': 1, 'Beagle/Treeing Walker Coonhound': 1, 'Queensland Heeler/Shetland Sheepdog': 1, 'Jack Russell Terrier/Miniature Schnauzer': 1, 'Doberman Pinsch/Australian Cattle Dog': 1, 'Miniature Schnauzer/West Highland': 1, 'Great Pyrenees/Pointer': 1, 'Jack Russell Terrier/Pointer': 1, 'Chinese Sharpei/Airedale Terrier': 1, 'Cane Corso/Mastiff': 1, 'Pug/Pit Bull': 1, 'Pug/Pekingese': 1, 'Pointer/Chinese Sharpei': 1, 'Pembroke Welsh Corgi/Chihuahua Shorthair': 1, 'Vizsla/Catahoula': 1, 'Bull Terrier/Jack Russell Terrier': 1, 'Australian Cattle Dog/Dachshund': 1, 'American Eskimo/Australian Shepherd': 1, 'Boerboel': 1, 'Dachshund/Chihuahua Longhair': 1, 'Catahoula/American Pit Bull Terrier': 1, 'Border Terrier/Miniature Poodle': 1, 'Black Mouth Cur/Basset Hound': 1, 'Catahoula/American Bulldog': 1, 'Catahoula/Border Collie': 1, 'Dachshund Wirehair/Miniature Schnauzer': 1, 'Blue Lacy/Great Dane': 1, 'Miniature Schnauzer/Australian Cattle Dog': 1, 'Shih Tzu/Yorkshire Terrier': 1, 'Pharaoh Hound/Border Collie': 1, 'Great Pyrenees/Collie Rough': 1, 'Shih Tzu/Dachshund': 1, 'Pembroke Welsh Corgi/Dachshund': 1, 'Miniature Poodle/English Cocker Spaniel': 1, 'Shiba Inu/Siberian Husky': 1, 'Beagle/Cavalier Span': 1, 'Great Pyrenees/German Shepherd': 1, 'Australian Kelpie/Chihuahua Shorthair': 1, 'Pointer/Anatol Shepherd': 1, 'Beagle/Staffordshire': 1, 'Pembroke Welsh Corgi/German Shepherd': 1, 'Rottweiler/Basset Hound': 1, 'Domestic Shorthair/Siamese': 1, 'Finnish Spitz/Dachshund': 1, 'American Staffordshire Terrier/American Bulldog': 1, 'Australian Shepherd/Pit Bull': 1, 'Miniature Poodle/Italian Greyhound': 1, 'Basenji/Chihuahua Shorthair': 1, 'Chihuahua Shorthair/Queensland Heeler': 1, 'Mastiff/Labrador Retriever': 1, 'Pit Bull/Pug': 1, 'Pit Bull/Border Collie': 1, 'Australian Kelpie/Finnish Spitz': 1, 'Australian Cattle Dog/Dalmatian': 1, 'Boxer/German Shepherd': 1, 'Border Terrier/Chihuahua Longhair': 1, 'Scottish Terrier/Cairn Terrier': 1, 'Brittany/Chihuahua Shorthair': 1, 'Pointer/Collie Smooth': 1, 'Jack Russell Terrier/American Staffordshire Terrier': 1, 'Dachshund/Cavalier Span': 1, 'Rat Terrier/Pug': 1, 'Dachshund/Havanese': 1, 'Norfolk Terrier/Dachshund Wirehair': 1, 'Lhasa Apso/Dachshund': 1, 'Toy Poodle/Yorkshire Terrier': 1, 'Golden Retriever/Brittany': 1, 'Anatol Shepherd/Australian Shepherd': 1, 'Carolina Dog/Pit Bull': 1, 'American Pit Bull Terrier/American Pit Bull Terrier': 1, 'Pointer/Rhod Ridgeback': 1, 'Yorkshire Terrier/Parson Russell Terrier': 1, 'Anatol Shepherd/Siberian Husky': 1, 'Jack Russell Terrier/Unknown': 1, 'Treeing Walker Coonhound/Labrador Retriever': 1, 'Australian Kelpie/Labrador Retriever': 1, 'Newfoundland/Queensland Heeler': 1, 'Pomeranian/Schipperke': 1, 'Border Collie/Shetland Sheepdog': 1, 'English Bulldog/Pit Bull': 1, 'Beagle/Australian Cattle Dog': 1, 'Norfolk Terrier/Border Terrier': 1, 'Papillon/Border Collie': 1, 'Miniature Poodle/Pomeranian': 1, 'Dachshund/American Staffordshire Terrier': 1, 'Boston Terrier/Beagle': 1, 'Pointer/Staffordshire': 1, 'Cocker Spaniel/Australian Shepherd': 1, 'Beagle/American Staffordshire Terrier': 1, 'Toy Fox Terrier/Dachshund': 1, 'Weimaraner/Pit Bull': 1, 'Whippet/Miniature Pinscher': 1, 'Black Mouth Cur/Staffordshire': 1, 'Pekingese/Lhasa Apso': 1, 'German Shepherd/Great Dane': 1, 'Border Collie/Doberman Pinsch': 1, 'Beagle/Manchester Terrier': 1, 'Catahoula/Rottweiler': 1, 'Whippet/Beagle': 1, 'Australian Cattle Dog/American Staffordshire Terrier': 1, 'Spanish Mastiff Mix': 1, 'Great Pyrenees/English Setter': 1, 'Dachshund Longhair/Australian Shepherd': 1, 'English Shepherd': 1, 'Burmese': 1, 'Dalmatian/Boxer': 1, 'Chow Chow/Australian Kelpie': 1, 'German Pinscher Mix': 1, 'Devon Rex': 1, 'Alaskan Malamute': 1, 'Border Collie/Plott Hound': 1, 'Ragdoll': 1, 'Keeshond': 1, 'Golden Retriever/Pit Bull': 1, 'Norfolk Terrier': 1, 'Shetland Sheepdog/Pomeranian': 1, 'German Shepherd/Swedish Vallhund': 1, 'Border Collie/Alaskan Husky': 1, 'Chow Chow/Border Collie': 1, 'Catahoula/Chinese Sharpei': 1, 'Rottweiler/Rhod Ridgeback': 1, 'Cairn Terrier/Shih Tzu': 1, 'Scottish Terrier/Basset Hound': 1, 'Bluetick Hound/Treeing Walker Coonhound': 1, 'Great Dane/Pit Bull': 1, 'Border Collie/Great Dane': 1, 'Chihuahua Shorthair/French Bulldog': 1, 'Border Terrier/Dachshund Wirehair': 1, 'Pekingese/Dachshund': 1, 'Irish Wolfhound/Great Pyrenees': 1, 'Dachshund/English Bulldog': 1, 'Airedale Terrier/Labrador Retriever': 1, 'Skye Terrier/Miniature Poodle': 1, 'Golden Retriever/Pembroke Welsh Corgi': 1, 'Border Terrier/Miniature Schnauzer': 1, 'Queensland Heeler/Chihuahua Shorthair': 1, 'Soft Coated Wheaten Terrier/Yorkshire Terrier': 1, 'Chihuahua Shorthair/Pembroke Welsh Corgi': 1, 'Plott Hound/Rhod Ridgeback': 1, 'Pit Bull/Bull Terrier': 1, 'Rat Terrier/Queensland Heeler': 1, 'Belgian Tervuren Mix': 1, 'Catahoula/Chow Chow': 1, 'Dachshund Longhair/Pembroke Welsh Corgi': 1, 'French Bulldog/English Bulldog': 1, 'Plott Hound/Black/Tan Hound': 1, 'Italian Greyhound': 1, 'Collie Rough/Chinese Sharpei': 1, 'American Bulldog/Great Pyrenees': 1, 'Pit Bull/Chow Chow': 1, 'Alaskan Malamute/German Shepherd': 1, 'Shetland Sheepdog/Border Collie': 1, 'Dachshund/German Shepherd': 1, 'Queensland Heeler/Border Collie': 1, 'Chinese Sharpei/Australian Cattle Dog': 1, 'Basset Hound/Beauceron': 1, 'Chihuahua Shorthair/Finnish Spitz': 1, 'Border Terrier/Pug': 1, 'Dachshund/Basset Hound': 1, 'Australian Shepherd/Beagle': 1, 'Bull Terrier/Boxer': 1, 'Norwegian Forest Cat Mix': 1, 'Treeing Tennesse Brindle': 1, 'Whippet/Shetland Sheepdog': 1, 'Boxer/Neapolitan Mastiff': 1, 'Akita/Australian Cattle Dog': 1, 'Border Collie/Standard Schnauzer': 1, 'Lowchen Mix': 1, 'Australian Cattle Dog/Great Pyrenees': 1, 'Bluetick Hound': 1, 'Australian Cattle Dog/Parson Russell Terrier': 1, 'Blue Lacy/Beagle': 1, 'St. Bernard Rough Coat/Labrador Retriever': 1, 'Catahoula/Australian Shepherd': 1, 'Golden Retriever/Akita': 1, 'Border Terrier/Bruss Griffon': 1, 'Border Collie/Mastiff': 1, 'Collie Smooth/Chow Chow': 1, 'Staffordshire/Boxer': 1, 'Havanese': 1, 'Queensland Heeler/Pointer': 1, 'Chihuahua Shorthair/Parson Russell Terrier': 1, 'Blue Lacy/Collie Smooth': 1, 'Great Pyrenees/Siberian Husky': 1, 'Australian Kelpie/Whippet': 1, 'Labrador Retriever/Alaskan Husky': 1, 'Golden Retriever/Beagle': 1, 'Dalmatian/Labrador Retriever': 1, 'Pointer/Queensland Heeler': 1, 'Bichon Frise/Miniature Poodle': 1, 'Flat Coat Retriever/Labrador Retriever': 1, 'St. Bernard Rough Coat/Standard Schnauzer': 1, 'Toy Poodle/Maltese': 1, 'Whippet/Australian Kelpie': 1, 'Golden Retriever/Australian Shepherd': 1, 'German Shorthair Pointer/Australian Cattle Dog': 1, 'Doberman Pinsch/Vizsla': 1, 'Labrador Retriever/Weimaraner': 1, 'Chihuahua Longhair/Pomeranian': 1, 'Jack Russell Terrier/Papillon': 1, 'Nova Scotia Duck Tolling Retriever Mix': 1, 'Akita/Labrador Retriever': 1, 'Akita/German Shepherd': 1, 'Pug/Italian Greyhound': 1, 'Finnish Spitz/Chow Chow': 1, 'Belgian Malinois/Australian Shepherd': 1, 'Harrier/Pointer': 1, 'Dachshund/Parson Russell Terrier': 1, 'Maltese/Jack Russell Terrier': 1, 'Staffordshire/French Bulldog': 1, 'Cardigan Welsh Corgi/German Shepherd': 1, 'Jack Russell Terrier/Italian Greyhound': 1, 'Mexican Hairless Mix': 1, 'Australian Shepherd/Rottweiler': 1, 'Saluki/Labrador Retriever': 1, 'Cocker Spaniel/Golden Retriever': 1, 'Australian Kelpie/Shiba Inu': 1, 'Bloodhound': 1, 'Italian Greyhound/Beagle': 1, 'Bull Terrier Miniature': 1, 'Pembroke Welsh Corgi/Australian Shepherd': 1, 'Greyhound/Labrador Retriever': 1, 'Doberman Pinsch/German Shepherd': 1, 'Australian Cattle Dog/Chinese Sharpei': 1, 'Cairn Terrier/Scottish Terrier': 1, 'Staffordshire/Blue Lacy': 1, 'Norfolk Terrier/Chihuahua Shorthair': 1, 'German Shepherd/Bull Terrier': 1, 'American Foxhound/Labrador Retriever': 1, 'Great Pyrenees/Boxer': 1, 'Rhod Ridgeback/Plott Hound': 1, 'Rat Terrier/Pointer': 1, 'Chinese Crested/Papillon': 1, 'Australian Shepherd/Nova Scotia Duck Tolling Retriever': 1, 'Labrador Retriever/Spanish Water Dog': 1, 'Dachshund/Pembroke Welsh Corgi': 1, 'Norfolk Terrier/Cairn Terrier': 1, 'Australian Kelpie/Alaskan Husky': 1, 'Scottish Terrier/Miniature Poodle': 1, 'Border Collie/Pointer': 1, 'Great Dane/Staffordshire': 1, 'Entlebucher Mix': 1, 'Black/Tan Hound/Labrador Retriever': 1, 'Bullmastiff/Boxer': 1, 'Australian Shepherd/Rhod Ridgeback': 1, 'English Coonhound/Italian Greyhound': 1, 'Dachshund/Australian Kelpie': 1, 'Miniature Schnauzer/Lhasa Apso': 1, 'Siberian Husky/Catahoula': 1, 'Border Terrier/Soft Coated Wheaten Terrier': 1, 'Shih Tzu/Cardigan Welsh Corgi': 1, 'Collie Rough/Pembroke Welsh Corgi': 1, 'Pointer/Jack Russell Terrier': 1, 'Shetland Sheepdog/Basenji': 1, 'Australian Cattle Dog/Collie Rough': 1, 'Labrador Retriever/St. Bernard Rough Coat': 1, 'Pembroke Welsh Corgi/Pit Bull': 1, 'Devon Rex Mix': 1, 'Lhasa Apso/Yorkshire Terrier': 1, 'Jack Russell Terrier/Dachshund Wirehair': 1, 'Basset Hound/Pit Bull': 1, 'Queensland Heeler/Basset Hound': 1, 'Chihuahua Shorthair/Shih Tzu': 1, 'Australian Kelpie/American Pit Bull Terrier': 1, 'Collie Rough/German Shepherd': 1, 'Cardigan Welsh Corgi/Miniature Pinscher': 1, 'Pit Bull/Pit Bull': 1, 'Chihuahua Shorthair/Lhasa Apso': 1, 'Dachshund/Chinese Sharpei': 1, 'Ibizan Hound/Pit Bull': 1, 'Pit Bull/American Bulldog': 1, 'Flat Coat Retriever/Australian Cattle Dog': 1, 'Basset Hound/Dachshund': 1, 'Chow Chow/Siberian Husky': 1, 'Pit Bull/Dachshund': 1, 'Pug/Schipperke': 1, 'Yorkshire Terrier/Bruss Griffon': 1, 'Miniature Pinscher/Pomeranian': 1, 'Pointer/Blue Lacy': 1, 'Australian Cattle Dog/American Foxhound': 1, 'Australian Shepherd/Dachshund': 1, 'Mastiff/Boxer': 1, 'Bull Terrier/Australian Kelpie': 1, 'Great Dane/German Shepherd': 1, 'Mastiff/Pit Bull': 1, 'Golden Retriever/Great Pyrenees': 1, 'Whippet/Chihuahua Shorthair': 1, 'Australian Shepherd/Parson Russell Terrier': 1, 'Airedale Terrier': 1, 'Swedish Vallhund/Miniature Poodle': 1, 'Welsh Springer Spaniel': 1, 'Dutch Shepherd/Anatol Shepherd': 1, 'Beagle/Australian Kelpie': 1, 'Standard Schnauzer/Toy Poodle': 1, 'Miniature Schnauzer/Queensland Heeler': 1, 'Maltese/Yorkshire': 1, 'Cardigan Welsh Corgi/Beagle': 1, 'Miniature Poodle/Shih Tzu': 1, 'Beagle/Jack Russell Terrier': 1, 'Alaskan Malamute/Akita': 1, 'Beagle/Cocker Spaniel': 1, 'Norwich Terrier/Pug': 1, 'Catahoula/Great Dane': 1, 'Yorkshire Terrier/Norfolk Terrier': 1, 'Chihuahua Longhair/West Highland': 1, 'Pomeranian/Border Terrier': 1, 'Bruss Griffon/Dachshund': 1, 'Harrier/Labrador Retriever': 1, 'Boxer/Akita': 1, 'Golden Retriever/Whippet': 1, 'Dachshund/Greyhound': 1, 'Border Terrier': 1, 'Labrador Retriever/American Pit Bull Terrier': 1, 'Chihuahua Longhair/Italian Greyhound': 1, 'Dachshund Wirehair/Rat Terrier': 1, 'Border Collie/Canaan Dog': 1, 'English Cocker Spaniel Mix': 1, 'Cornish Rex Mix': 1, 'Domestic Shorthair/British Shorthair': 1, 'German Shepherd/Greyhound': 1, 'English Bulldog/American Bulldog': 1, 'Domestic Shorthair/Domestic Medium Hair': 1, 'Cardigan Welsh Corgi/Chihuahua Longhair': 1, 'Border Terrier/Rat Terrier': 1, 'Beagle/Chinese Sharpei': 1, 'Boxer/Redbone Hound': 1, 'German Shepherd/Redbone Hound': 1, 'Collie Smooth/Jack Russell Terrier': 1, 'Border Collie/Greyhound': 1, 'Cardigan Welsh Corgi/Pointer': 1, 'Jack Russell Terrier/Basset Hound': 1, 'German Shepherd/Nova Scotia Duck Tolling Retriever': 1, 'Pharaoh Hound/Australian Cattle Dog': 1, 'Parson Russell Terrier/Chihuahua Shorthair': 1, 'Bruss Griffon': 1, 'Pekingese/Cavalier Span': 1, 'Pit Bull/Black Mouth Cur': 1, 'Basset Hound/English Cocker Spaniel': 1, 'English Pointer': 1, 'Boston Terrier/Pug': 1, 'Labrador Retriever/Harrier': 1, 'Labrador Retriever/Beauceron': 1, 'Papillon': 1, 'Boston Terrier/Miniature Schnauzer': 1, 'Whippet/Whippet': 1, 'Collie Rough/Australian Cattle Dog': 1, 'Soft Coated Wheaten Terrier/Labrador Retriever': 1, 'Cardigan Welsh Corgi/Cairn Terrier': 1, 'Pug/Border Terrier': 1, 'Miniature Schnauzer/Maltese': 1, 'Irish Terrier/Labrador Retriever': 1, 'Collie Rough': 1, 'Australian Cattle Dog/Collie Smooth': 1, 'Pembroke Welsh Corgi/Golden Retriever': 1, 'Chihuahua Shorthair/Pekingese': 1, 'Shih Tzu/Cavalier Span': 1, 'Jack Russell Terrier/Cavalier Span': 1, 'Alaskan Malamute/Australian Kelpie': 1, 'Jack Russell Terrier/Basenji': 1, 'Border Terrier/Labrador Retriever': 1, 'Boxer/Harrier': 1, 'Norwich Terrier/Border Terrier': 1, 'Irish Wolfhound/Australian Shepherd': 1, 'Dachshund Longhair/Pomeranian': 1, 'Catahoula/Whippet': 1, 'Pomeranian/Jack Russell Terrier': 1, 'Australian Cattle Dog/Rhod Ridgeback': 1, 'Vizsla/Rhod Ridgeback': 1, 'American Pit Bull Terrier/Pointer': 1, 'Rottweiler/Beagle': 1, 'Manchester Terrier/Toy Fox Terrier': 1, 'Shih Tzu/Norfolk Terrier': 1, 'Boxer/Boston Terrier': 1, 'Silky Terrier/Yorkshire Terrier': 1, 'Cardigan Welsh Corgi/Pit Bull': 1, 'Cavalier Span/Papillon': 1, 'Boykin Span/Dachshund': 1, 'Miniature Schnauzer/Scottish Terrier': 1, 'Chihuahua Shorthair/Smooth Fox Terrier': 1, 'Miniature Poodle/Havanese': 1, 'Pekingese/Chihuahua Shorthair': 1, 'Alaskan Husky/Border Collie': 1, 'Maltese/Papillon': 1, 'English Springer Spaniel/Cardigan Welsh Corgi': 1, 'Jack Russell Terrier/Border Collie': 1, 'Chihuahua Longhair/Papillon': 1, 'Newfoundland/Great Pyrenees': 1, 'Dachshund/Belgian Malinois': 1, 'St. Bernard Smooth Coat/Anatol Shepherd': 1, 'German Shepherd/Australian Kelpie': 1, 'Chihuahua Shorthair/Cocker Spaniel': 1, 'Bulldog/Boston Terrier': 1, 'Chesa Bay Retr': 1, 'Chihuahua Shorthair/Schipperke': 1, 'Soft Coated Wheaten Terrier/Standard Poodle': 1, 'Rat Terrier/Jack Russell Terrier': 1, 'English Coonhound/Border Collie': 1, 'St. Bernard Rough Coat/Border Collie': 1, 'Pit Bull/Dogue De Bordeaux': 1, 'German Shepherd/Akita': 1, 'Boxer/Chow Chow': 1, 'Chinese Sharpei/Basset Hound': 1, 'Shih Tzu/Australian Shepherd': 1, 'Cardigan Welsh Corgi/Australian Kelpie': 1, 'Yorkshire Terrier/Dachshund Wirehair': 1, 'Glen Of Imaal/Ibizan Hound': 1, 'Beagle/Pembroke Welsh Corgi': 1, 'Carolina Dog': 1, 'Pekingese/Pug': 1, 'Redbone Hound/Redbone Hound': 1, 'Pit Bull/Dalmatian': 1, 'Great Dane/Australian Cattle Dog': 1}), 'OutcomeSubtype': Counter({nan: 13595, 'Partner': 7816, 'Foster': 1800, 'SCRP': 1599, 'Offsite': 165, 'Barn': 2}), 'Name': Counter({nan: 6756, 'Max': 128, 'Bella': 127, 'Daisy': 103, 'Charlie': 101, 'Lucy': 92, 'Buddy': 79, 'Princess': 77, 'Rocky': 74, 'Luna': 67, 'Jack': 60, 'Lola': 59, 'Sadie': 57, 'Molly': 56, 'Maggie': 55, 'Shadow': 53, 'Chico': 51, 'Coco': 51, 'Lily': 50, 'Blue': 49, 'Oreo': 48, 'Toby': 48, 'Lucky': 47, 'Ginger': 46, 'Milo': 44, 'Lady': 44, 'Duke': 43, 'Cookie': 43, 'Sam': 43, 'Sophie': 43, 'Oliver': 41, 'Rosie': 41, 'Riley': 40, 'Leo': 40, 'Buster': 39, 'Ruby': 38, 'Bear': 38, 'Peanut': 37, 'Marley': 37, 'Rex': 37, 'Sasha': 37, 'Brownie': 36, 'Cooper': 35, 'Zeus': 35, 'Jake': 35, 'Chloe': 35, 'Roxy': 35, 'Minnie': 34, 'Penny': 34, 'Diamond': 34, 'Pepper': 34, 'Bailey': 33, 'Jasper': 33, 'Smokey': 33, 'Jasmine': 32, 'Gracie': 32, 'Mia': 31, 'Jackson': 31, 'Tiger': 30, 'Stella': 30, 'Zoey': 30, 'Abby': 30, 'Emma': 30, 'Nala': 29, 'Sugar': 29, 'Bruno': 29, 'Hank': 29, 'Lulu': 28, 'Rusty': 28, 'Louie': 28, 'Lilly': 28, 'Annie': 27, 'Fiona': 27, 'Oso': 27, 'Sammy': 27, 'Oscar': 27, 'Scout': 26, 'Simba': 26, 'Petey': 26, 'Dexter': 26, 'George': 26, 'Loki': 26, 'Sandy': 26, 'Harley': 25, 'Betty': 25, 'Luke': 25, 'Beau': 25, 'Roscoe': 24, 'Ellie': 24, 'Romeo': 24, 'Jax': 24, 'X': 24, 'Bonnie': 23, 'Piper': 23, 'Precious': 23, 'Mickey': 23, 'Baby': 23, 'Bandit': 23, 'Ranger': 22, 'Izzy': 22, 'Pearl': 22, 'Thor': 22, 'Willie': 22, 'Kitty': 22, 'Sally': 21, 'Honey': 21, 'Gus': 21, 'Willow': 21, 'Captain': 21, 'Heidi': 21, 'Angel': 21, 'Nina': 21, 'Apollo': 21, 'Maya': 21, 'Teddy': 21, 'Simon': 21, 'Austin': 20, 'Winston': 20, 'Bentley': 20, 'Ollie': 20, 'Midnight': 20, 'Patches': 20, 'Gizmo': 20, 'Star': 20, 'Baxter': 19, 'Dolly': 19, 'Zoe': 19, 'Pete': 19, 'Murphy': 19, 'Bo': 19, 'Athena': 19, 'Misty': 19, 'Olive': 19, 'Frankie': 19, 'Layla': 19, 'Missy': 19, 'Blackie': 18, 'Hazel': 18, 'Winnie': 18, 'Bobby': 18, 'Roxie': 18, 'Bruce': 18, 'Trixie': 18, 'Finn': 18, 'Maddie': 18, 'Onyx': 18, 'Tony': 18, 'Belle': 18, 'Tiny': 18, 'King': 18, 'Yogi': 17, 'Moose': 17, 'Millie': 17, 'Cash': 17, 'Kiki': 17, 'Spike': 17, 'Gigi': 17, 'Mimi': 17, 'Snickers': 17, 'Pumpkin': 17, 'Hannah': 16, 'Sunny': 16, 'Koda': 16, 'Rose': 16, 'Holly': 16, 'Peaches': 16, 'Cassie': 16, 'Spot': 16, 'Prince': 16, 'Red': 16, 'Henry': 16, 'Cody': 16, 'Ace': 16, 'Walter': 16, 'Lacey': 16, 'Sparky': 15, 'Fred': 15, 'Scooter': 15, 'Cleo': 15, 'Emily': 15, 'Pancho': 15, 'Tucker': 15, 'Petunia': 15, 'Joey': 15, 'Violet': 15, 'Hailey': 15, 'Alice': 15, 'Chester': 15, 'Wilson': 15, 'Lucas': 15, 'Dixie': 15, 'Eddie': 15, 'Diego': 15, 'Candy': 15, 'Rudy': 15, 'Katie': 15, 'Elvis': 15, 'Pinto': 14, 'June': 14, 'Pickles': 14, 'Canelo': 14, 'Louise': 14, 'Marty': 14, 'Copper': 14, 'Bubba': 14, 'Scooby': 14, 'Estrella': 14, 'Samantha': 14, 'Hercules': 14, 'Panda': 14, 'Zelda': 14, 'Tommy': 14, 'Biscuit': 14, 'Ella': 14, 'Alex': 14, 'Tank': 14, 'Bambi': 14, 'Greta': 13, 'Penelope': 13, 'Grace': 13, 'Juliet': 13, 'Pinky': 13, 'Socks': 13, 'Jojo': 13, 'Olivia': 13, 'Tilly': 13, 'Tyson': 13, 'Jade': 13, 'Cupcake': 13, 'Tina': 13, 'Gabby': 13, 'Polly': 13, 'Andy': 13, 'Jordan': 13, 'Georgia': 13, 'Champ': 13, 'Jessie': 13, 'Monkey': 13, 'Jewel': 13, 'Allie': 13, 'Dakota': 13, 'Ghost': 13, 'Sebastian': 13, 'Charlotte': 13, 'Tito': 12, 'Libby': 12, 'Monty': 12, 'Rufus': 12, 'Lizzie': 12, 'Ricky': 12, 'Tulip': 12, 'Boomer': 12, 'Miles': 12, 'Sarah': 12, 'Boss': 12, 'Franklin': 12, 'Johnny': 12, 'Scrappy': 12, 'Buffy': 12, 'Phoebe': 12, 'Rascal': 12, 'Ernie': 12, 'Mason': 12, 'Clyde': 12, 'Casper': 12, 'Blaze': 12, 'Ziggy': 12, 'Poppy': 12, 'Juno': 12, 'Leia': 12, 'Mocha': 12, 'Chewy': 12, 'Tigger': 12, 'Remy': 12, 'Reese': 11, 'Benny': 11, 'Cocoa': 11, 'Wilbur': 11, 'Butters': 11, 'Percy': 11, 'Moe': 11, 'Callie': 11, 'Levi': 11, 'Gypsy': 11, 'Mary': 11, 'Theodore': 11, 'Hope': 11, 'Dottie': 11, 'Gucci': 11, 'Baby Girl': 11, 'Lexi': 11, 'Chiquita': 11, 'River': 11, 'Sheba': 11, 'Little Bit': 11, 'Mona': 11, 'Chip': 11, 'Rocco': 11, 'Wally': 11, 'Ash': 11, 'Amber': 11, 'Rocko': 11, 'Rico': 11, 'Taz': 11, 'Gretel': 11, 'Joy': 11, 'Mikey': 11, 'Sophia': 11, 'Hershey': 11, 'Gordo': 11, 'Lobo': 11, 'Elsa': 11, 'Dallas': 11, 'Samson': 10, 'Cosmo': 10, 'Jesse': 10, 'Harry': 10, 'Cowboy': 10, 'Chelsea': 10, 'Happy': 10, 'Luigi': 10, 'Pixie': 10, 'Jimmy': 10, 'Cricket': 10, 'Silver': 10, 'Trudy': 10, 'Shelby': 10, 'Parker': 10, 'Sassy': 10, 'Faith': 10, 'Shiner': 10, 'Tux': 10, 'Ava': 10, 'Cotton': 10, 'Cinnamon': 10, 'Pepe': 10, 'Sierra': 10, 'Wilma': 10, 'Fluffy': 10, 'Sweetie': 10, 'Kane': 10, 'Batman': 10, 'Sylvester': 10, 'Barney': 10, 'Axel': 10, 'Mars': 10, 'Ringo': 10, 'Tabitha': 10, 'Chica': 10, 'Jenny': 10, 'Cali': 10, 'Sage': 10, 'Nelson': 9, 'Pablo': 9, 'Blanca': 9, 'Sherlock': 9, 'Eli': 9, 'Tom': 9, 'Steve': 9, 'Peter': 9, 'Sawyer': 9, 'Rambo': 9, 'Halo': 9, 'Bevo': 9, 'Nick': 9, 'Larry': 9, 'Chuck': 9, 'Diesel': 9, 'Sunshine': 9, 'Billy': 9, 'Daphne': 9, 'Storm': 9, 'Lacy': 9, 'Chuy': 9, 'Alvin': 9, 'Fritz': 9, 'Brodie': 9, 'Karma': 9, 'Paco': 9, 'Junior': 9, 'Eloise': 9, 'Noah': 9, 'Theo': 9, 'Sissy': 9, 'Hudson': 9, 'Kirby': 9, 'Gunner': 9, 'Jazz': 9, 'Delilah': 9, 'Harvey': 9, 'Ivy': 9, 'Arthur': 9, 'Harper': 9, 'Tex': 9, 'Iris': 9, 'Kelly': 9, 'Nugget': 9, 'Ashley': 9, 'Taco': 9, 'Jane': 9, 'Moon': 8, 'Lolly': 8, 'Blacky': 8, 'Nelly': 8, 'Ramona': 8, 'Boots': 8, 'Xena': 8, 'Watson': 8, 'Bubbles': 8, 'Ninja': 8, 'Gilbert': 8, 'Fifi': 8, 'Newton': 8, 'Mabel': 8, 'Avery': 8, 'Sampson': 8, 'Paloma': 8, 'Bob': 8, 'Jj': 8, 'Betsy': 8, 'Spencer': 8, 'Hunter': 8, 'Chance': 8, 'Sonny': 8, 'Autumn': 8, 'Dozer': 8, 'Gidget': 8, 'Paris': 8, 'Mike': 8, 'Buttercup': 8, 'Shasta': 8, 'Jerry': 8, 'Jinx': 8, 'Amelia': 8, 'Major': 8, 'Ladybird': 8, 'Junebug': 8, 'Muneca': 8, 'Angie': 8, 'Peewee': 8, 'Lizzy': 8, 'Elsie': 8, 'Comet': 8, 'Danny': 8, 'Josie': 8, 'Manny': 8, 'Suzie': 8, 'Annabelle': 8, 'Jupiter': 8, 'Amy': 8, 'Chula': 8, 'Maverick': 8, 'Zeke': 8, 'Otis': 8, 'Felix': 8, 'Leah': 8, 'Owen': 8, 'Clementine': 8, 'Queenie': 8, 'Clover': 8, 'Isis': 7, 'Bell': 7, 'Bernie': 7, 'Raven': 7, 'Travis': 7, 'Hector': 7, 'Hera': 7, 'Whiskey': 7, 'Flash': 7, 'Ariel': 7, 'Bishop': 7, 'Dash': 7, 'Timmy': 7, 'Mac': 7, 'Snoopy': 7, 'Mittens': 7, 'Davey': 7, 'Abigail': 7, 'Cherry': 7, 'Tootsie': 7, 'Rocket': 7, 'Sofia': 7, 'Titan': 7, 'Huey': 7, 'Yoda': 7, 'Miley': 7, 'Paisley': 7, 'Marco': 7, 'Azul': 7, 'Georgie': 7, 'Mindy': 7, 'Brandy': 7, 'Goldie': 7, 'Ryder': 7, 'Sky': 7, 'Lil Bit': 7, 'Rebel': 7, 'Domino': 7, 'Ophelia': 7, 'Basil': 7, 'Achilles': 7, 'Ajax': 7, 'Dutchess': 7, 'Hansel': 7, 'Lana': 7, 'Cindy': 7, 'Snowball': 7, 'Kilo': 7, 'Arya': 7, 'Scarlett': 7, 'Freckles': 7, 'Bert': 7, 'Claire': 7, 'Hanna': 7, 'Martin': 7, 'Kevin': 7, 'Spice': 7, 'Magic': 7, 'Anna': 7, 'Frisco': 7, 'Lala': 7, 'Hugo': 7, 'Peach': 7, 'Liza': 7, 'Bleu': 7, 'Chris': 7, 'Skittles': 7, 'Moses': 6, 'Goliath': 6, 'Puppy': 6, 'Savannah': 6, 'Beans': 6, 'Kit Kat': 6, 'Dale': 6, 'Nacho': 6, 'Frank': 6, 'Lila': 6, 'Sydney': 6, 'Snuggles': 6, 'Titus': 6, 'Nena': 6, 'Carl': 6, 'Trooper': 6, 'Ebony': 6, 'Trina': 6, 'Junie': 6, 'Charles': 6, 'Opie': 6, 'Cuddles': 6, 'Wyatt': 6, 'Spanky': 6, 'Crystal': 6, 'Ladybug': 6, 'Skeeter': 6, 'Dora': 6, 'Beth': 6, 'Logan': 6, 'Boo': 6, 'Mario': 6, 'Pandora': 6, 'Bullet': 6, 'Jackie': 6, 'Trevor': 6, 'Brutus': 6, 'Bowie': 6, 'Dino': 6, 'Twinkle': 6, 'Foxy': 6, 'Chevy': 6, 'Wrigley': 6, 'Buck': 6, 'Tinkerbell': 6, 'Cane': 6, 'Rosco': 6, 'Zane': 6, 'Coby': 6, 'Vera': 6, 'Tanner': 6, 'Grover': 6, 'Tippy': 6, 'Sirius': 6, 'Banjo': 6, 'Chato': 6, 'Eva': 6, 'Jules': 6, 'Sheila': 6, 'Toffee': 6, 'Ozzy': 6, 'Nikki': 6, 'Flynn': 6, 'Jill': 6, 'Norman': 6, 'Canela': 6, 'Trinity': 6, 'Zorro': 6, 'Pippa': 6, 'Trouble': 6, 'Cameron': 6, 'Frida': 6, 'Shiloh': 6, 'Susie': 6, 'Boogie': 6, 'Rory': 6, 'Mack': 6, 'Mya': 6, 'Whiskers': 6, 'Freya': 6, 'Darla': 6, 'Butterscotch': 6, 'Mila': 6, 'Summer': 6, 'Pebbles': 6, 'Seven': 6, 'Astro': 6, 'Seamus': 6, 'Bernard': 6, 'Ally': 6, 'Joe': 6, 'Sven': 6, 'Doc': 6, 'Skye': 6, 'Waylon': 6, 'Maximus': 6, 'Echo': 6, 'Scruffy': 6, 'Bebe': 6, 'Big Boy': 6, 'Valentine': 6, 'Woody': 6, 'Niko': 6, 'Caramel': 6, 'Skipper': 6, 'Stevie': 6, 'Maple': 6, 'Scarlet': 6, 'Muffin': 6, 'Pickle': 6, 'Colt': 6, 'Matilda': 6, 'Chulo': 6, 'Brody': 6, 'Chase': 6, 'Marie': 6, 'Dingo': 6, 'Fluff': 6, 'Prissy': 6, 'Julius': 5, 'Olaf': 5, 'Darcy': 5, 'Otter': 5, 'Howie': 5, 'Squirt': 5, 'Archie': 5, 'Booboo': 5, 'Kylie': 5, 'Biggie': 5, 'Remi': 5, 'Kona': 5, 'Zooey': 5, 'Josh': 5, 'Carter': 5, 'Butch': 5, 'Nadia': 5, 'Cain': 5, 'Remington': 5, 'Paul': 5, 'Suki': 5, 'Freddy': 5, 'Roo': 5, 'Benji': 5, 'Wesley': 5, 'Snowflake': 5, 'Zach': 5, 'Lewis': 5, 'Bowser': 5, 'Possum': 5, 'Chanel': 5, 'Chocolate': 5, 'Patsy': 5, 'Brooke': 5, 'Melvin': 5, 'Wren': 5, 'Griffin': 5, 'Dahlia': 5, 'Merlin': 5, 'Ian': 5, 'Trey': 5, 'Zena': 5, 'Rupert': 5, 'Chubbs': 5, 'Trigger': 5, 'Garfield': 5, 'Kayla': 5, 'Napoleon': 5, 'Marmalade': 5, 'Turbo': 5, 'Dylan': 5, 'Ethel': 5, 'Pico': 5, 'Tonka': 5, 'Odin': 5, 'Nemo': 5, 'Ruger': 5, 'Cher': 5, 'Sable': 5, 'Kira': 5, 'Rick': 5, 'Macy': 5, 'Gabriel': 5, 'Pip': 5, 'Carolina': 5, 'Tuna': 5, 'Liam': 5, 'Blu': 5, 'Bashful': 5, 'Chrissy': 5, 'Boris': 5, 'Venus': 5, 'William': 5, 'Francis': 5, 'Lou': 5, 'Ozzie': 5, 'Sabrina': 5, 'Nino': 5, 'Cesar': 5, 'Bodhi': 5, 'Stitch': 5, 'Darby': 5, 'Kiko': 5, 'Eleanor': 5, 'Hans': 5, 'Morgan': 5, 'Goose': 5, 'Tinker': 5, 'Katy': 5, 'Ralph': 5, 'Lisa': 5, 'Jazzy': 5, 'Bingo': 5, 'Vader': 5, 'Jelly Bean': 5, 'Tesla': 5, 'Carmen': 5, 'Leroy': 5, 'Frances': 5, 'Todd': 5, 'Margot': 5, 'Ginny': 5, 'Lydia': 5, 'Grizzly': 5, 'Puma': 5, 'Hambone': 5, 'Neo': 5, 'Jewels': 5, 'Rowdy': 5, 'Vegas': 5, 'Duncan': 5, 'Barley': 5, 'Kenny': 5, 'Bud': 5, 'Momo': 5, 'Nutmeg': 5, 'Osiris': 5, 'Aurora': 5, 'Atticus': 5, 'Kanga': 5, 'Jelly': 5, 'Butter': 5, 'Dasher': 5, 'Diva': 5, 'Lyle': 5, 'Scotty': 5, 'Skylar': 5, 'Sparkle': 5, 'Mouse': 5, 'Madison': 5, 'Fancy': 5, 'Walker': 5, 'Aspen': 5, 'Neville': 5, 'Rooster': 5, 'Dude': 5, 'Gloria': 5, 'Stewie': 5, 'Khloe': 5, 'Stanley': 5, 'Pierre': 5, 'Marvin': 5, 'Pancake': 5, 'Janet': 5, 'Grayson': 5, 'Maria': 5, 'Reggie': 5, 'Artemis': 5, 'Pluto': 5, 'Daffodil': 5, 'Harriet': 5, 'Malcolm': 5, 'Pookie': 5, 'Spartacus': 5, 'Maxwell': 5, 'Gwen': 5, 'Juniper': 5, 'Dobby': 5, 'Gavin': 5, 'Thomas': 5, 'Khaleesi': 5, 'Hero': 5, 'Clark': 5, 'Dog': 5, 'Jude': 5, 'Bones': 5, 'Doug': 5, 'Blake': 5, 'Giselle': 5, 'Mozart': 5, 'Sweet Pea': 5, 'Snow': 5, 'Samuel': 5, 'Pepito': 5, 'Mini': 5, 'Clifford': 5, 'Farrah': 5, 'Bobo': 5, 'Dill': 5, 'Mojo': 5, 'Django': 5, 'Chief': 5, 'Apple': 4, 'Gordon': 4, 'Vince': 4, 'Felicity': 4, 'Gabe': 4, 'Texas': 4, 'Halloween': 4, 'Bosco': 4, 'Carly': 4, 'Caesar': 4, 'Troy': 4, 'Mitzy': 4, 'Julie': 4, 'Noel': 4, 'Eliza': 4, 'Colby': 4, 'Spunky': 4, 'Isabella': 4, 'Petra': 4, 'Preston': 4, 'Tyler': 4, 'Gilly': 4, 'Kaiser': 4, 'Deuce': 4, 'Cashew': 4, 'Little Girl': 4, 'Ferguson': 4, 'Remus': 4, 'Sprinkles': 4, 'Heather': 4, 'Jamie': 4, 'Bam Bam': 4, 'Sid': 4, 'Ted': 4, 'Mandy': 4, 'Edward': 4, 'Nico': 4, 'Bianca': 4, 'Figaro': 4, 'Homer': 4, 'Manchas': 4, 'Reno': 4, 'Agatha': 4, 'Haley': 4, 'Casey': 4, 'Julia': 4, 'Rainey': 4, 'Perla': 4, 'Tango': 4, 'Edith': 4, 'Eve': 4, 'Sheldon': 4, 'Louis': 4, 'Archer': 4, 'Cole': 4, 'Maybelle': 4, 'Uno': 4, 'Barbie': 4, 'Xander': 4, 'Natasha': 4, 'Lori': 4, 'Sherman': 4, 'Indigo': 4, 'Clara': 4, 'Velvet': 4, 'Denver': 4, 'Thunder': 4, 'Mochi': 4, 'Bree': 4, 'Howard': 4, 'Aj': 4, 'Rita': 4, 'Fox': 4, 'Bean': 4, 'Sylvia': 4, 'Gia': 4, 'Hermes': 4, 'Lovey': 4, 'Mister': 4, 'Ares': 4, 'Tillie': 4, 'Jersey': 4, 'Juan': 4, 'Clarence': 4, 'Patrick': 4, 'Nitro': 4, 'Dudley': 4, 'Linus': 4, 'Piglet': 4, 'Princessa': 4, 'Freddie': 4, 'Waffles': 4, 'Jenna': 4, 'Mercedes': 4, 'Lightning': 4, 'Henrietta': 4, 'Macie': 4, 'John': 4, 'Cornelius': 4, 'Izy': 4, 'Carla': 4, 'Lalo': 4, 'Dawn': 4, 'Osa': 4, 'Toto': 4, 'Otto': 4, 'Tj': 4, 'Cloud': 4, 'Egypt': 4, 'Goofy': 4, 'Frannie': 4, 'Friday': 4, 'Ryan': 4, 'Queso': 4, 'Matty': 4, 'Albert': 4, 'Justin': 4, 'Mitzi': 4, 'Josephine': 4, 'Nikita': 4, 'Peluche': 4, 'Geronimo': 4, 'Hardy': 4, 'Wendy': 4, 'Leonard': 4, 'Tula': 4, 'Dancer': 4, 'Sabine': 4, 'Greg': 4, 'Mitch': 4, 'Polo': 4, 'Mary Jane': 4, 'Calvin': 4, 'China': 4, 'Madeline': 4, 'Negro': 4, 'Stormy': 4, 'Bosley': 4, 'Caleb': 4, 'Truffle': 4, 'Marigold': 4, 'Magnus': 4, 'Black': 4, 'Kiara': 4, 'Orson': 4, 'Yoshi': 4, 'Haven': 4, 'Jet': 4, 'Beanie': 4, 'Rhino': 4, 'Snow White': 4, 'Presley': 4, 'Curry': 4, 'Toothless': 4, 'Salsa': 4, 'Spider': 4, 'Lenny': 4, 'Kermit': 4, 'Milton': 4, 'Emerald': 4, 'Joanna': 4, 'Kyle': 4, 'Kia': 4, 'Ben': 4, 'Chiquis': 4, 'Robbie': 4, 'Huckleberry': 4, 'Evie': 4, 'Nigel': 4, 'Zip': 4, 'Collins': 4, 'Flower': 4, 'Mica': 4, 'Jessica': 4, 'Chata': 4, 'Debo': 4, 'Jordy': 4, 'Gemma': 4, 'Sushi': 4, 'Myrtle': 4, 'Sammie': 4, 'Elliot': 4, 'Leon': 4, 'Dusty': 4, 'Tiki': 4, 'Dot': 4, 'Rosemary': 4, 'Nova': 4, 'Truman': 4, 'Babs': 4, 'Prancer': 4, 'Gatsby': 4, 'Barkley': 4, 'Neko': 4, 'Rain': 4, 'Mina': 4, 'Lancelot': 4, 'Davis': 4, 'Mattie': 4, 'Alfie': 4, 'Randy': 4, 'Marshall': 4, 'Valentino': 4, 'Guero': 4, 'Deacon': 4, 'August': 4, 'Ivan': 4, 'Graham': 4, 'Reba': 4, 'Carson': 4, 'Lexie': 4, 'May': 4, 'Liberty': 4, 'Linda': 4, 'Chino': 4, 'Corey': 4, 'Marble': 4, 'Gibson': 4, 'Jones': 4, 'Starla': 4, 'Capone': 4, 'Vivian': 4, 'Birdie': 4, 'Coal': 4, 'Poncho': 4, 'Pancha': 4, 'James': 4, 'Obie': 4, 'Farley': 4, 'Jd': 4, 'Big Red': 4, 'Paige': 4, 'London': 4, 'Bronx': 4, 'Andre': 4, 'Lincoln': 4, 'April': 4, 'Willy': 4, 'Carrie': 4, 'Morty': 4, 'Vinny': 4, 'Beatrice': 4, 'Chachi': 4, 'Felicia': 4, 'Plex': 4, 'Suzy': 4, 'Jillian': 4, 'Drake': 4, 'Dana': 4, 'Bill': 3, 'Wayne': 3, 'Tyra': 3, 'Barnaby': 3, 'Doodle': 3, 'Marcus': 3, 'Quinn': 3, 'Meow': 3, 'Juneau': 3, 'Jingle': 3, 'Dodger': 3, 'Rosalie': 3, 'Arwen': 3, 'Kobe': 3, 'Muneco': 3, 'Michael': 3, 'Curly': 3, 'Einstein': 3, 'Gideon': 3, 'Babe': 3, 'Sundae': 3, 'Sancho': 3, 'Dobie': 3, 'Stewart': 3, 'Wesson': 3, 'Meatball': 3, 'Harlow': 3, 'Rolo': 3, 'Juliette': 3, 'Noodles': 3, 'Penny Lane': 3, 'Sansa': 3, 'Sienna': 3, 'Pia': 3, 'Salem': 3, 'Fergus': 3, 'Brisket': 3, 'Forest': 3, 'Suzette': 3, 'Alphonse': 3, 'Tequila': 3, 'Frenchy': 3, 'Lauren': 3, 'Thumper': 3, 'Mambo': 3, 'Punkin': 3, 'Turner': 3, 'Spots': 3, 'Lolita': 3, 'Aragorn': 3, 'Marla': 3, 'Bindi': 3, 'Rickon': 3, 'Man': 3, 'Bertha': 3, 'Emmie': 3, 'Carlos': 3, 'Dori': 3, 'Leslie': 3, 'Markie': 3, 'Wanda': 3, 'Niles': 3, 'Radar': 3, 'Rye': 3, 'Blessing': 3, 'Shaggy': 3, 'Cujo': 3, 'Mallory': 3, 'Dewey': 3, 'Monster': 3, 'Hamilton': 3, 'Luther': 3, 'Henny': 3, 'Sofie': 3, 'Wiley': 3, 'Ronnie': 3, 'Zeppelin': 3, 'Powder': 3, 'Stuart': 3, 'Gunther': 3, 'Lillian': 3, 'Tim': 3, 'Jameson': 3, 'Stripes': 3, 'Roberto': 3, 'Brian': 3, 'Julio': 3, 'Ali': 3, 'Melody': 3, 'Sparkles': 3, 'Snowy': 3, 'Stoli': 3, 'Donut': 3, 'Addison': 3, 'Sapphire': 3, 'Elvira': 3, 'Bunny': 3, 'Knight': 3, 'Martha': 3, 'Janie': 3, 'Higgins': 3, 'Dalton': 3, 'Sheeba': 3, 'Button': 3, 'Ridley': 3, 'Loverboy': 3, 'Berry': 3, 'Adam': 3, 'Brandi': 3, 'Jethro': 3, 'Miguel': 3, 'Twix': 3, 'Marlin': 3, 'Samba': 3, 'Nana': 3, 'Dizzy': 3, 'Maizy': 3, 'Tara': 3, 'Sleepy': 3, 'Flo': 3, 'B': 3, 'Bronson': 3, 'Bugsy': 3, 'Jayla': 3, 'Destiny': 3, 'Fat Boy': 3, 'Elroy': 3, 'Mowgli': 3, 'Rajah': 3, 'Pee Wee': 3, 'Richie': 3, 'Dinah': 3, 'Perkins': 3, 'Lina': 3, 'Shilo': 3, 'Nano': 3, 'Buttons': 3, 'Sister': 3, 'Aries': 3, 'Riku': 3, 'Gertie': 3, 'Dante': 3, 'Capitan': 3, 'Puff': 3, 'Pooh Bear': 3, 'Clancy': 3, 'Chucho': 3, 'Marbles': 3, 'Biskit': 3, 'Bane': 3, 'Spirit': 3, 'Maui': 3, 'Augustus': 3, 'Kitkat': 3, 'Veronica': 3, 'James Bond': 3, 'Chiko': 3, 'Lilac': 3, 'Prada': 3, 'Donny': 3, 'Alexander': 3, 'Crash': 3, 'Chipper': 3, 'Fantine': 3, 'Roy': 3, 'Jett': 3, 'Beast': 3, 'Drew': 3, 'Mika': 3, 'Lex': 3, 'Peony': 3, 'Zack': 3, 'Reeses': 3, 'Uma': 3, 'Puffy': 3, 'Minnie Mouse': 3, 'Zara': 3, 'Miracle': 3, 'Lotus': 3, 'Latte': 3, 'Sidney': 3, 'Bootsy': 3, 'Scruffles': 3, 'Koby': 3, 'Will': 3, 'Kuma': 3, 'Moxie': 3, 'Kitten': 3, 'Spruce': 3, 'Reuben': 3, 'Miso': 3, 'Asia': 3, 'Pietro': 3, 'Bart': 3, 'Delta': 3, 'Sassafrass': 3, 'Boone': 3, 'Jango': 3, 'Sara': 3, 'Karl': 3, 'Lilo': 3, 'Leonardo': 3, 'Honeybear': 3, 'Razz': 3, 'Sneezy': 3, 'Beauty': 3, 'Felipe': 3, 'Poochie': 3, 'Paddy': 3, 'Patty': 3, 'Mo': 3, 'Tarzan': 3, 'Chai': 3, 'Slim': 3, 'Rabbit': 3, 'Anya': 3, 'Doogie': 3, 'Judy': 3, 'Amos': 3, 'Shirley': 3, 'Monte': 3, 'Milly': 3, 'Harrison': 3, 'Deanna': 3, 'Reina': 3, 'Cleopatra': 3, 'Isa': 3, 'Smokie': 3, 'Hallie': 3, 'Frenchie': 3, 'Pikachu': 3, 'Ty': 3, 'Choco': 3, 'Audrey': 3, 'Kiwi': 3, 'Whitey': 3, 'Chapo': 3, 'Snoop': 3, 'Bully': 3, 'Little Foot': 3, 'Starburst': 3, 'Tallulah': 3, 'Rue': 3, 'Willa': 3, 'Helen': 3, 'Bobbie': 3, 'Fern': 3, 'Anubis': 3, 'Mick': 3, 'Thelma': 3, 'Tiger Lily': 3, 'Gunnar': 3, 'Memphis': 3, 'Unique': 3, 'Pinta': 3, 'Rio': 3, 'Blossom': 3, 'Agnes': 3, 'Benjamin': 3, 'Nash': 3, 'Lady Bug': 3, 'Harmony': 3, 'Handsome': 3, 'Jester': 3, 'Sweetie Pie': 3, 'Orange': 3, 'Frodo': 3, 'Tangerine': 3, 'Denny': 3, 'Pappy': 3, 'Mancha': 3, 'Abel': 3, 'Twinkie': 3, 'Houston': 3, 'Treasure': 3, 'Aster': 3, 'Koko': 3, 'Bobi': 3, 'Loco': 3, 'Byron': 3, 'Finley': 3, 'Mishka': 3, 'Ripley': 3, 'Calla': 3, 'Porter': 3, 'Lucinda': 3, 'Frosty': 3, 'Cora': 3, 'Abbie': 3, 'Charli': 3, 'Edgar': 3, 'Elwood': 3, 'Peanutbutter': 3, 'Dandy': 3, 'Deedee': 3, 'Julian': 3, 'Angus': 3, 'Kaya': 3, \"O'Malley\": 3, 'Jacob': 3, 'Juicy': 3, 'Fawn': 3, 'Zion': 3, 'Aldo': 3, 'Ralphie': 3, 'Dazzle': 3, 'Viola': 3, 'Pink': 3, 'Sylvie': 3, 'Jo': 3, 'Jodi': 3, 'Tuck': 3, 'Victoria': 3, 'Herbie': 3, 'Dex': 3, 'Simone': 3, 'Amanda': 3, 'Floyd': 3, 'Ice': 3, 'Peggy': 3, 'Clay': 3, 'Susan': 3, 'Rylie': 3, 'Leila': 3, 'Ms Kitty': 3, 'Bug': 3, 'Squeaky': 3, 'Chubs': 3, 'Blynken': 3, 'Checkers': 3, 'Meg': 3, 'Raisin': 3, 'Odie': 3, 'Yuki': 3, 'Pepita': 3, 'Dean': 3, 'Roco': 3, 'Paprika': 3, 'Midge': 3, 'Chispita': 3, 'Alfred': 3, 'Roger': 3, 'Killer': 3, 'Truffles': 3, 'Ferdinand': 3, 'Lucille': 3, 'Reyna': 3, 'Bj': 3, 'Brad': 3, 'Katrina': 3, 'Stacy': 3, 'Tess': 3, 'Peppermint': 3, 'Panther': 3, 'Alana': 3, 'Tuxedo': 3, 'Sparrow': 3, 'Munchkin': 3, 'Don': 3, 'Duffy': 3, 'Skyler': 3, 'Coqueta': 3, 'Ford': 3, 'Charm': 3, 'Saffron': 3, 'Mango': 3, 'Jon': 3, 'Chopper': 3, 'Plato': 3, 'Kato': 3, 'Amarillo': 3, 'J.D.': 3, 'Desi': 3, 'Ragnar': 3, 'Robin': 3, 'Gina': 3, 'Jolene': 3, 'Guapo': 3, 'Dotty': 3, 'Bb': 3, 'Pecan': 3, 'Cece': 3, 'Jellybean': 3, 'Jaime': 3, 'Chacha': 3, 'Mellow': 3, 'Buzz': 3, 'Bon Bon': 3, 'Pablito': 3, 'Cherie': 3, 'Claude': 3, 'Lassie': 3, 'Earl': 3, 'Clint': 3, 'Finnegan': 3, 'Cedar': 3, 'Katydid': 3, 'Bran': 3, 'Anthony': 2, 'Zachary': 2, 'Nell': 2, 'Brewster': 2, 'Bessy': 2, 'Waldo': 2, 'Curtis': 2, 'Bluebonnet': 2, 'Daria': 2, 'Gracie Lou': 2, 'Chaos': 2, 'Gretta': 2, 'Tobby': 2, 'Cliff': 2, 'Cupid': 2, 'Haze': 2, 'Pita': 2, 'Freyja': 2, 'Jodie': 2, 'Squishy': 2, 'Capo': 2, 'Hilda': 2, 'Amador': 2, 'Endo': 2, 'Gorgeous': 2, 'Sookie': 2, 'Rolly': 2, 'Addie': 2, 'Poptart': 2, 'Derek': 2, 'Smoke': 2, 'Blondie': 2, 'Richard': 2, 'Michonne': 2, 'Isaac': 2, 'Leona': 2, 'Alistair': 2, 'Mint': 2, 'Elaina': 2, 'Momma': 2, 'Oak': 2, 'Hannah Blue': 2, 'Quincy': 2, 'Eevee': 2, 'Macey': 2, 'Addy': 2, 'Chuey': 2, 'Sanchez': 2, 'Raz': 2, 'Ren': 2, 'Liko': 2, 'Lillie': 2, 'Barbarella': 2, 'Moon Pie': 2, 'Bradley': 2, 'Moby': 2, 'Lili': 2, 'Prudence': 2, 'Hobo': 2, 'Han Solo': 2, 'Girl': 2, 'Nolan': 2, 'Tigress': 2, 'Marilyn': 2, 'Austen': 2, 'Andrea': 2, 'Hugh': 2, 'Errol': 2, 'Jess': 2, 'Regan': 2, 'Lil Baby': 2, 'Kramer': 2, 'Bridget': 2, 'Compadre': 2, 'Huggy Bear': 2, 'Groot': 2, 'Smiley': 2, 'Canella': 2, 'Chita': 2, 'Joshua': 2, 'Dumpling': 2, 'Talia': 2, 'Ronin': 2, 'Oakley': 2, 'Jinxy': 2, 'Bindy': 2, 'Ken': 2, 'Connor': 2, 'Burt': 2, 'Pumkin': 2, 'Hammy': 2, 'Mischief': 2, 'Gretchen': 2, 'Yeti': 2, 'Nellie': 2, 'Tate': 2, 'Orangesicle': 2, 'Flint': 2, 'Squid': 2, 'Bluebell': 2, 'Apache': 2, 'Negra': 2, 'Laredo': 2, 'Riker': 2, 'Biggie Small': 2, 'Kojak': 2, 'Nessie': 2, 'Hogan': 2, 'Pollux': 2, 'Gage': 2, 'Bonita': 2, 'Berkley': 2, 'Skyla': 2, 'Holmes': 2, 'Fay': 2, 'Buddah': 2, 'Nia': 2, 'Pepsi': 2, 'Valentina': 2, 'Royce': 2, 'Billie': 2, 'Halle': 2, 'Danny Boy': 2, 'Mitchell': 2, 'Obi': 2, 'Carina': 2, 'Coral': 2, 'Donna': 2, 'Heinz': 2, 'Shakespeare': 2, 'Bongo': 2, 'Black Jack': 2, 'Pamela': 2, 'Rosalind': 2, 'Huck': 2, 'Halifax': 2, 'Papi': 2, 'Stacey': 2, 'Lyric': 2, 'Gladys': 2, 'Cecily': 2, 'Myles': 2, 'Lovie': 2, 'Zazu': 2, 'Christopher': 2, 'Cudi': 2, 'Cate': 2, 'Guthrie': 2, 'Strider': 2, 'Pedro': 2, 'Bolo': 2, 'Bull': 2, 'Filbert': 2, 'Ritzy': 2, 'Mcgregor': 2, 'Jello': 2, 'Gandolf': 2, 'Squirrel': 2, 'Mj': 2, 'Speedy': 2, 'Conrad': 2, 'Jefferson': 2, 'Jon Snow': 2, 'Leighla': 2, 'Eros': 2, 'Dawson': 2, 'Dulce': 2, 'Tiger Lilly': 2, 'Toast': 2, 'Krypto': 2, 'Rigby': 2, 'Easy': 2, 'Dorito': 2, 'Adrian': 2, 'Jay': 2, 'Bitsie': 2, 'Rasputin': 2, 'Fran': 2, 'Lika': 2, 'Marisol': 2, 'Winifred': 2, 'Kristoff': 2, 'Pequena': 2, 'Calypso': 2, 'Stephanie': 2, 'Journey': 2, 'Beauregard': 2, 'Timber': 2, 'Milhouse': 2, 'Mirinda': 2, 'Minkus': 2, 'Montana': 2, 'Estelle': 2, 'Boo Boo': 2, 'Darling': 2, 'Dina': 2, 'Widget': 2, 'Mr Orange': 2, 'Ruth': 2, 'Nancy': 2, 'D.O.G.': 2, 'Christie': 2, 'Jeeves': 2, 'Judge': 2, 'Beagle': 2, 'Alfonso': 2, 'Hubble': 2, 'Lilah': 2, 'Soraya': 2, 'Gonzo': 2, 'Solomon': 2, 'Ramsey': 2, 'Donald': 2, 'Dax': 2, 'Noche': 2, 'Lara': 2, 'Skippy': 2, 'Lolo': 2, 'Lee': 2, 'Katina': 2, 'Giovanni': 2, 'Laurel': 2, 'Althea': 2, 'Sharpie': 2, 'Robert': 2, 'Jesse James': 2, 'Tabby': 2, 'Daniel': 2, 'Beamer': 2, 'Lupe': 2, 'Tails': 2, 'Fitz': 2, 'Nero': 2, 'Angelina': 2, 'Spring': 2, 'Little John': 2, 'Azure': 2, 'Jonah': 2, 'Rainy': 2, 'Kovu': 2, 'Bo Bo': 2, 'Ricki': 2, 'Opossum': 2, 'Melly': 2, 'Lyra': 2, 'Lady Bird': 2, 'Kimmy': 2, 'Bastian': 2, 'Nani': 2, 'Ceasar': 2, 'Hades': 2, 'Shelly': 2, 'Beethoven': 2, 'Katniss': 2, 'Frito': 2, 'Snowbelle': 2, 'Spock': 2, 'Elmo': 2, 'Jason': 2, 'Boston': 2, 'Morris': 2, 'Rachel': 2, 'Belinda': 2, 'Harpo': 2, 'Frederick': 2, 'Forrest': 2, 'Asher': 2, 'Atlas': 2, 'Dynamite': 2, 'Cheeto': 2, 'Denali': 2, 'Wynken': 2, 'Shorty': 2, 'Orlando': 2, 'Manchita': 2, 'Dory': 2, 'Shrek': 2, 'Laika': 2, 'Popcorn': 2, 'Luci': 2, 'Alexis': 2, 'Paula': 2, 'Bach': 2, 'Cruiser': 2, 'Cass': 2, 'Marcel': 2, 'Meredith': 2, 'Flaco': 2, 'Mio': 2, 'Natalia': 2, 'Mayze': 2, 'Cheddar': 2, 'Chef': 2, 'Ming': 2, 'Bonny': 2, 'Charlene': 2, 'Trapper': 2, 'Zephyr': 2, 'Blueberry': 2, 'Foxie': 2, 'Arlo': 2, 'Teddy Bear': 2, 'Joseph': 2, 'Hana': 2, 'Keegan': 2, 'Jenni': 2, 'America': 2, 'Pabst': 2, 'Sloopy': 2, 'Lestat': 2, 'Deebs': 2, 'Glenn': 2, 'Maddi': 2, 'Cornbread': 2, 'Bagel': 2, 'Beaux': 2, 'Smoosh': 2, 'Yoakum': 2, 'David': 2, 'Kimbo': 2, 'Amigo': 2, 'Loretta': 2, 'Twink': 2, 'Ebert': 2, 'Nevil': 2, 'Vega': 2, 'Mustachio': 2, 'Iggy': 2, 'Miranda': 2, 'Double': 2, 'Appa': 2, 'Ruby Rose': 2, 'Chuco': 2, 'Herb': 2, 'Gandalf': 2, 'Dimond': 2, 'Woodrow': 2, 'Kai': 2, 'Frijolito': 2, 'Granny': 2, 'Terra': 2, 'Pretzel': 2, 'Purdy': 2, 'Merry': 2, 'Dally': 2, 'Pharaoh': 2, 'Cory': 2, 'Carmelo': 2, 'Twyla': 2, 'Hubert': 2, 'Johnny Cash': 2, 'Tessa': 2, 'Kennedy': 2, 'Elmer': 2, 'Magpie': 2, 'Corazon': 2, 'Chilli': 2, 'Romulus': 2, 'Pam': 2, 'Joni': 2, 'Zinnia': 2, 'Inez': 2, 'Maxie': 2, 'Obama': 2, 'Collin': 2, 'Torque': 2, 'Vixen': 2, 'Wishbone': 2, 'Janey': 2, 'Mira': 2, 'Tater Tot': 2, 'Osita': 2, 'Fletcher': 2, 'Hadley': 2, 'Rock': 2, 'Cami': 2, 'Jezzy': 2, 'Fernando': 2, 'Bristol': 2, 'Crissy': 2, 'Mark': 2, 'Eeyore': 2, 'Binx': 2, 'Soda Pop': 2, 'Quentin': 2, 'Cecil': 2, 'Lindsey': 2, 'Ruckus': 2, 'Baby Bear': 2, 'Xochitl': 2, 'Stryker': 2, 'Jacques': 2, 'Marlee': 2, 'Dennis': 2, 'Adina': 2, 'Peeta': 2, 'Dugan': 2, 'Vinnie': 2, 'Slate': 2, 'Isabel': 2, 'Baron': 2, 'Izabella': 2, 'Lion': 2, 'Kingston': 2, 'Sport': 2, 'Redford': 2, 'Macbeth': 2, 'Super': 2, 'Chichi': 2, 'Fig': 2, 'Coconut': 2, 'Franz': 2, 'Jemma': 2, 'Firulais': 2, 'Bea': 2, 'Dustin': 2, 'Zues': 2, 'Popeye': 2, 'Klaus': 2, 'Ling Ling': 2, 'Hendrix': 2, 'Gotti': 2, 'Cyan': 2, 'Sailor': 2, 'Azula': 2, 'Gustav': 2, 'Ingrid': 2, 'Roxanne': 2, 'Reece': 2, 'Javier': 2, 'Nod': 2, 'French Fry': 2, 'Ponyo': 2, 'Hibiscus': 2, 'Deena': 2, 'Joplin': 2, 'Ricardo': 2, 'Mariah': 2, 'Kate': 2, 'Brooklyn': 2, 'Esther': 2, 'Alfredo': 2, 'Melanie': 2, 'Bob Barker': 2, 'Chikis': 2, 'Cypress': 2, 'Harris': 2, 'Rosa': 2, 'Capulin': 2, 'Posh': 2, 'Gale': 2, 'Banana': 2, 'Chappie': 2, 'Elijah': 2, 'Brown': 2, 'Hunny': 2, 'Marius': 2, 'Sonic': 2, 'Barbara': 2, 'Boscoe': 2, 'Rosebud': 2, 'Jack Frost': 2, 'Firefly': 2, 'Camila': 2, 'Finch': 2, 'Orion': 2, 'Nathan': 2, 'Squeakers': 2, 'Cachito': 2, 'Montgomery': 2, 'Smudge': 2, 'Cyrus': 2, 'Becky': 2, 'Siren': 2, 'Miller': 2, 'Connie': 2, 'Elaine': 2, 'Hobbes': 2, 'Porky': 2, 'Messi': 2, 'Corky': 2, 'Eric': 2, 'Kya': 2, 'Jeremiah': 2, 'Sitka': 2, 'Kingsley': 2, 'Greyson': 2, 'Barry': 2, 'Ed': 2, 'Gino': 2, 'Wiggles': 2, 'Tater': 2, 'Betty Boop': 2, 'Totoro': 2, 'Peabody': 2, 'Caroline': 2, 'Sprout': 2, 'Auggie': 2, 'Kneeko': 2, 'Wallace': 2, 'Cruz': 2, 'Cassidy': 2, 'Francie': 2, 'Cally': 2, 'Livia': 2, 'Tramp': 2, 'Wellington': 2, 'Wombat': 2, 'Jeffrey': 2, 'Maggie Mae': 2, 'Tino': 2, 'Indie': 2, 'Elizabeth': 2, 'Mama': 2, 'Chunk': 2, 'Matthew': 2, 'Crosby': 2, 'Murray': 2, 'Fitzwilliam': 2, 'Chubby': 2, 'Tifa': 2, 'Silas': 2, 'Glen': 2, 'Celia': 2, 'Tupac': 2, 'Tullia': 2, 'Sneakers': 2, 'Cheyenne': 2, 'Mitty': 2, 'Chauncey': 2, 'Bumble': 2, 'Damon': 2, 'Tasha': 2, 'Edie': 2, 'Chinchilla': 2, 'Phillis': 2, 'Bartholomew': 2, 'Orville': 2, 'Friskey': 2, 'Tessie': 2, 'Bolt': 2, 'Lamar': 2, 'Vincent': 2, 'Rello': 2, 'Tori': 2, 'Hopper': 2, 'Feather': 2, 'Chili': 2, 'Lonestar': 2, 'Celeste': 2, 'Chucky': 2, 'Herc': 2, 'Dee Dee': 2, 'Marcia': 2, 'Ducky': 2, 'Ron': 2, 'Ciara': 2, 'Groucho': 2, 'Nene': 2, 'Winky': 2, 'Action': 2, 'Abbey': 2, 'Maestro': 2, 'Aria': 2, 'Dixon': 2, 'Tyrone': 2, 'Maybe': 2, 'Dali': 2, 'Blizzard': 2, 'Hollywood': 2, 'Myka': 2, 'Charcoal': 2, 'Sandrina': 2, 'Simona': 2, 'Snickerdood': 2, 'Fido': 2, 'Pippin': 2, 'AmÃ©lie': 2, 'Guera': 2, 'Dunkin': 2, 'Sherry': 2, 'Treble': 2, 'Scooby Doo': 2, 'Nicolas': 2, 'White': 2, 'Talulah': 2, 'Kit': 2, 'Sia': 2, 'Kari': 2, 'Wes': 2, 'Adelaide': 2, 'Delgado': 2, 'Leelou': 2, 'Jam': 2, 'Bumper': 2, 'Rob': 2, 'Chestnut': 2, 'Quin': 2, 'Arielle': 2, 'Sly': 2, 'Wolfie': 2, 'Poquito': 2, 'Carlisle': 2, 'Seth': 2, 'Ronaldo': 2, 'Rich': 2, 'Lil Dude': 2, 'Florence': 2, 'Caddie': 2, 'Cammie': 2, 'Castor': 2, 'Tinker Bell': 2, 'Cassiopeia': 2, 'Cassandra': 2, 'Chicken': 2, 'Spicy': 2, 'Lonnie': 2, 'Laura': 2, 'Brenna': 2, 'Aggie': 2, 'Mcqueen': 2, 'Moo': 2, 'Vaughn': 2, 'Big Head': 2, 'Fudge': 2, 'Coop': 2, 'Ebbie': 2, 'Leonidas': 2, 'Paulie': 2, 'Dell': 2, 'Ani': 2, 'Prieto': 2, 'Moonpie': 2, 'Temple': 2, 'Claudia': 2, 'Maddy': 2, 'Ida': 2, 'Terry': 2, 'Bruiser': 2, 'Coda': 2, 'Ezra': 2, 'Shakira': 2, 'Rango': 2, 'Mackenzie': 2, 'Rumi': 2, 'Moonlight': 2, 'Kat': 2, 'Pilar': 2, 'Tora': 2, 'Frisky': 2, 'Nike': 2, 'Selena': 2, 'Genki': 2, 'Kujo': 2, 'Meadow': 2, 'Pru': 2, 'Cha Cha': 2, 'Sprite': 2, 'Grey': 2, 'Nikko': 2, 'Mini Mouse': 2, 'Crixus': 2, 'Wednesday': 2, 'Lazlo': 2, 'Moxy': 2, 'Gary': 2, 'Nebula': 2, 'Mariposa': 2, 'Lillith': 2, 'Freeway': 2, 'Bodi': 2, 'Duchess': 2, 'Patch': 2, 'Little Man': 2, 'Tatiana': 2, 'Sullivan': 2, 'Boxer': 2, 'Pokey': 2, 'Chimi': 2, 'Desmo': 2, 'Teacup': 2, 'Puzzles': 2, 'Crimson': 2, 'Shiva': 2, 'Crispin': 2, 'Patricia': 2, 'Levon': 2, 'Sinatra': 2, 'Amie': 2, 'Dinky': 2, 'Bernice': 2, 'Sparks': 2, 'Bama': 2, 'Tug': 2, 'Darwin': 2, 'Wolf': 2, 'Toad': 2, 'Tuxedo Mask': 2, 'Bucky': 2, 'Zipper': 2, 'Negrito': 2, 'Pio': 2, 'Papa': 2, 'Coronel': 2, 'Tripp': 2, 'Robbin': 2, 'Turtle': 2, 'Bono': 2, 'Norma Jean': 2, 'Ettie': 2, 'Sox': 2, 'Elliott': 2, 'Booker': 2, 'Taylor': 2, 'Essie': 2, 'Cinderella': 2, 'Sir': 2, 'Gemini': 2, 'Glacier': 2, 'Angela': 2, 'Rembrandt': 2, 'Daenerys': 2, 'Nila': 2, 'Sachi': 2, 'Charming': 2, 'Blitz': 2, 'Foster': 2, 'Ernest': 2, 'Priscilla': 2, 'Freda': 2, 'Baby Boy': 2, 'Kitty Kitty': 2, 'Elf': 2, 'Skip': 2, 'Melinda': 2, 'Alaska': 2, 'Stumpy': 2, 'Crook': 2, 'Bruce Wayne': 2, 'Miss': 2, 'Ike': 2, 'Bandito': 2, 'Stormie': 2, 'Phoenix': 2, 'Pistol': 2, 'Stetson': 2, 'Remmy': 2, 'Justice': 2, 'West': 2, 'Arnold': 2, 'Pearce': 2, 'Racco': 2, 'Victor': 2, 'Coach': 2, 'Birch': 2, 'Topper': 2, 'Louisa': 2, 'Luca': 2, 'Smidge': 2, 'Lennon': 2, 'Link': 2, 'Cat': 2, 'Wolverine': 2, 'Baker': 2, 'Pauly': 2, 'Talisa': 2, 'Aiden': 2, 'Peeka': 2, 'Brinkley': 2, 'Lavender': 2, 'Chrissie': 2, 'Merri': 2, 'Vida': 2, 'Badger': 2, 'Riddle': 2, 'Burton': 2, 'Blitzen': 2, 'Miki': 2, 'Brook': 2, 'Sandi': 2, 'Cairo': 2, 'Bacon': 2, 'Zero': 2, 'Opal': 2, 'Sanders': 2, 'Rae': 2, 'Pork Chop': 2, 'Tila': 2, 'Alfalfa': 2, 'Gaby': 2, 'Mcgruff': 2, 'Nickel': 2, 'Tinsel': 2, 'Faline': 2, 'Patience': 2, 'Cinder': 2, 'Gromit': 2, 'Fergie': 2, 'Lorna': 2, 'Misha': 2, 'Lionel': 2, 'Spooky': 2, 'Ohana': 2, 'Roja': 2, 'Zuzu': 2, 'Sallie': 2, 'Lance': 2, 'Bravo': 2, 'Odette': 2, 'Parsnip': 2, 'Bettie': 2, 'Fanny': 2, 'Minerva': 2, 'Niblet': 2, 'Dollar': 2, 'Maryjane': 2, 'Cedric': 2, 'Russell': 2, 'Ashes': 2, 'Juanito': 2, 'Gambit': 2, 'Scottie': 2, 'Indy': 2, 'Palomo': 2, 'Rollo': 2, 'Arnie': 2, 'Chavez': 2, 'Renee': 2, 'Lea': 2, 'Kyra': 2, 'Strudel': 2, 'Sami': 1, 'Rice': 1, 'Billy Bob': 1, 'Toulouse': 1, 'Ebis': 1, 'Gavroche': 1, 'Payne': 1, 'Mr Pink': 1, 'Catsby': 1, 'Henderson': 1, 'Packard': 1, 'Optimusprime': 1, 'Glo': 1, 'Malachi': 1, 'Rasgo': 1, 'Lois': 1, 'Miko': 1, 'Esteban': 1, 'Jonny Cat': 1, 'Ashworth': 1, 'Lohman': 1, 'Fridy Katy': 1, 'Wyatts': 1, 'Valerie': 1, 'Gil': 1, 'Mr. Skippy': 1, 'Falkor': 1, 'Quince': 1, 'Megatron': 1, 'Bently': 1, 'Jazzmen': 1, 'Jiggs': 1, 'Templeton': 1, 'Gray': 1, 'Lumos': 1, 'P.J.': 1, 'Raylan': 1, 'Granger': 1, 'Ancho': 1, 'Rommel': 1, 'Vela': 1, 'Chencho': 1, 'Pockets': 1, 'Azule': 1, 'Perinola': 1, 'Chokolate': 1, 'Nicole': 1, 'Grizzley': 1, 'Mortimer': 1, 'Mr Fabulous': 1, 'Samwise': 1, 'Luda': 1, 'Pulgi': 1, 'Capulina': 1, 'Luz': 1, 'Fideo': 1, 'Miyokee': 1, 'Bethany': 1, 'Match': 1, 'Howdy': 1, 'Swade': 1, 'Riggins': 1, 'Cherica': 1, 'Sherra': 1, 'Gorobei': 1, 'Little Missy': 1, 'Buckee': 1, 'Chickadee': 1, 'Corral': 1, 'Love Bug': 1, \"Punkin'\": 1, 'Karli': 1, 'Infamous': 1, 'Gabriella': 1, 'Windsor': 1, 'Yellow': 1, 'Hildago': 1, 'Runah': 1, 'Juanita': 1, 'Rossco': 1, 'Aniwaya': 1, 'Sondrea': 1, ' Joanie': 1, 'Shug': 1, 'Cohen': 1, 'Little Miss': 1, 'Janna': 1, 'Fritter': 1, 'Haylie': 1, 'Baby Kitty': 1, 'Ginger Cat': 1, 'Shichiroji': 1, 'Hersheys': 1, 'Pequina': 1, 'Champion': 1, 'Reg': 1, 'Caliopy': 1, 'Diana': 1, 'Myah': 1, 'Siesta': 1, 'Azia': 1, 'Buppie': 1, 'Corny': 1, 'Jumpin Jax': 1, 'Zilla': 1, 'Mary Anne': 1, 'Feeny': 1, 'Dijiba': 1, 'Little Eddie': 1, 'Dolley': 1, 'Prieta': 1, 'Prim': 1, 'Versace': 1, 'Bosales': 1, 'Benson': 1, 'Littletyrone': 1, 'Beowoof': 1, 'Babyruth': 1, 'Hanna Jo': 1, 'Lynne': 1, 'Jim': 1, 'Coca': 1, 'Jumbo': 1, 'Sen': 1, 'Norah Jones': 1, 'Chap': 1, 'Archive': 1, 'Samhain': 1, 'Mocha Bean': 1, 'Vigo': 1, 'Randall': 1, 'Holt': 1, 'Lambchop': 1, 'Vicky': 1, 'Nd': 1, 'Kassidy': 1, 'Bosha': 1, 'Barristan': 1, 'N': 1, 'Paully': 1, 'Emile': 1, 'Gazu': 1, 'Camelot': 1, 'Molly Blue': 1, 'Pie De Choco': 1, 'Q Ball': 1, 'Little Bug': 1, 'Tasser': 1, 'Magnum': 1, 'Fate': 1, 'Brando': 1, 'Sunday': 1, 'Tubbins Mclo': 1, 'Alanis': 1, 'Brenda': 1, 'Toro': 1, 'Oasis': 1, 'Bast': 1, 'Geoffrey': 1, 'Daly': 1, 'Silvi': 1, 'Mo Mo': 1, 'Booskie': 1, 'Pinkie Pie': 1, 'Weez': 1, 'Pixel': 1, 'Rumor': 1, 'Philomena': 1, 'Chinook': 1, 'Zippee': 1, 'Macah': 1, 'Lollipop': 1, 'Kylo': 1, 'Tutmosis': 1, 'Gruffy': 1, 'Rubio': 1, 'Noto': 1, 'Laila Fifi': 1, 'Nevins': 1, 'Karhu': 1, 'Bernabe': 1, 'Nickels': 1, 'Evette': 1, 'Blue Meadow': 1, 'Lennox': 1, 'Selleck': 1, 'Emilie': 1, 'Aimee': 1, 'Hamburger': 1, 'Twister': 1, 'Iphy': 1, 'Pelusa': 1, 'Cookie Monst': 1, 'Kelley': 1, 'Milcha': 1, 'Guido': 1, 'Chad': 1, 'Annie Mae': 1, 'Marnie': 1, 'Arby': 1, 'Lona': 1, 'Ruffles': 1, 'Holland': 1, 'Zimm': 1, 'Ducati': 1, 'Emmylou': 1, 'Jonse': 1, 'Chica Loca': 1, 'Tiny Louise': 1, 'Pear': 1, 'Kings': 1, 'Vicente': 1, 'Papuchon': 1, 'Magic Hat': 1, 'Olympia': 1, 'Curious': 1, 'Tona': 1, \"S'Mores\": 1, 'Johnnie': 1, 'St. Nicks': 1, 'Minion': 1, 'Nightshadow': 1, 'Eight Ball': 1, 'Four': 1, 'Stan': 1, 'Sally Jessy': 1, 'Baracus': 1, 'Cheeseball': 1, 'Cucko': 1, 'Cow': 1, 'Larkspur': 1, 'Tweak': 1, 'Georgiana': 1, 'Zahrah': 1, 'Pie': 1, 'Oracle': 1, 'Knuckles': 1, 'Frisbee': 1, 'Nettie Bo': 1, 'Winnifred': 1, 'Thalia': 1, 'Moonshadow': 1, 'Kettle': 1, 'Quennie': 1, 'Thomasina': 1, 'Chop': 1, 'Henry Jones': 1, 'Darcey': 1, 'Ray Ray': 1, 'Ms. Whiskers': 1, 'Izac': 1, 'Kawhi': 1, 'Schubert': 1, 'Jace': 1, 'Elphaba': 1, 'Splenda': 1, 'Cortez': 1, 'Carbon': 1, 'Kouga': 1, 'Goldilocks': 1, 'Roxi': 1, 'Orangejello': 1, 'Smurfy': 1, 'Kooli': 1, 'Fly': 1, 'Charli Brown': 1, 'Linux': 1, 'Zena Susi': 1, 'Davinci': 1, 'Landry': 1, 'Liz': 1, 'Jonsi': 1, 'Dodge': 1, 'Toledo': 1, 'Fat King Lou': 1, 'Madonna': 1, 'Chicho': 1, 'Ned': 1, 'Juni': 1, 'Elly Mae': 1, 'Jammer': 1, 'Pagani': 1, 'Kizma': 1, 'Noodle': 1, 'Hilde': 1, 'Rascel': 1, 'Calcifer': 1, 'Chaca': 1, 'Sonnie': 1, 'Roswell': 1, 'Nuno': 1, 'Big Chief': 1, 'Joannie': 1, 'Pixie Stick': 1, 'Muffy': 1, 'Rascah': 1, 'Nippy': 1, 'Worf': 1, 'Lukas': 1, 'Luna Bella': 1, 'Pasqual': 1, 'P.T. Barnum': 1, 'Bugs': 1, 'Meow Meow': 1, 'Sukura': 1, 'Phife': 1, 'Miss Piggy': 1, 'Sunflower': 1, 'Sparky Rex': 1, 'Ziven': 1, 'Chiky': 1, 'Johnny Cat': 1, 'Mustachala': 1, 'Pfieffer': 1, 'Winston Theo': 1, 'Thelonious': 1, 'Hollister': 1, 'Baiya': 1, 'Fumanchu': 1, 'Cevrus': 1, 'Jc': 1, 'Balto': 1, 'Elise': 1, 'Junies': 1, 'Hiram': 1, 'Squirmy': 1, 'Montie': 1, 'Shipley': 1, 'Zafira': 1, 'Terence': 1, 'Hickup': 1, 'Shya': 1, 'Fennel': 1, 'Jrewpy': 1, 'Miss Lucky': 1, 'Home Girl': 1, 'Guru Ramdas': 1, 'Mr. Pink': 1, 'Pinky Pie': 1, 'Sabana': 1, \"D'Artagnan\": 1, 'Anita': 1, 'Snowcream': 1, 'Xarren': 1, 'Silly': 1, 'Bahgeera': 1, 'Carmel': 1, 'Phoebes': 1, 'Flynn Ryder': 1, 'Boulder': 1, 'Irma': 1, 'Orchard': 1, 'Saya': 1, 'Norma': 1, 'Gq': 1, 'Tabo': 1, 'Joyce': 1, 'Chito': 1, 'Salamay': 1, 'Rufuss': 1, 'Jody': 1, 'Diane': 1, 'Suzi': 1, 'Columbus': 1, 'Zila': 1, 'Grissy': 1, 'Yomo': 1, 'Nanny': 1, 'Prometheus': 1, 'Kash': 1, 'Gizzmo': 1, 'Cobi': 1, 'Bilbo': 1, 'Mongo': 1, 'Kuppuru': 1, 'Crunchella': 1, 'Bo Peep': 1, 'Tasha Yar': 1, 'Lenora': 1, 'Vienna': 1, 'Baby Cow': 1, 'Skippy Jon': 1, 'Cassy': 1, 'Jeezy': 1, 'Cholo': 1, 'Tashi': 1, 'Schmellow': 1, 'Carlton': 1, 'Rutter': 1, 'Sardine': 1, 'Lotusblosso': 1, 'She-Ra': 1, 'Jenny Tyson': 1, 'Speck': 1, 'Salaria': 1, 'Capper': 1, 'Amari': 1, 'Sarita': 1, 'Will Jr.': 1, 'Glynnis': 1, 'Zeppo': 1, 'Sabra': 1, 'Jaguar': 1, 'Hurley': 1, 'B.C.': 1, 'Gazul': 1, 'Gracie Bear': 1, 'Giant': 1, 'Seymore': 1, 'Luka': 1, 'Tink Tink': 1, 'Middie': 1, 'Corkie': 1, 'Niiv': 1, 'Spoon': 1, 'Cyrano': 1, 'Capote': 1, 'Brooster': 1, 'Turtle Cake': 1, 'Royston': 1, 'Arlow': 1, 'Carmella': 1, 'Mako': 1, 'Scamp': 1, 'Bellona': 1, 'Imelda': 1, 'Long John': 1, 'Bidz': 1, 'Bochy': 1, 'Perlita': 1, 'T.C.': 1, 'Earlene': 1, 'Moomoo': 1, 'Stark': 1, 'Francisella': 1, 'Krusty': 1, 'Banshee': 1, 'Shaye': 1, 'Holli': 1, 'Salty': 1, 'Freeda': 1, 'Chesnut': 1, 'Tanya': 1, 'Barca': 1, 'Tigz': 1, 'Springdale': 1, 'Reggie Veggi': 1, 'Munec0': 1, 'Pony Boy': 1, 'Mitten': 1, 'Orwell': 1, 'Hooper': 1, 'Half Pint': 1, 'Kako': 1, 'Bells': 1, 'Asuna': 1, 'Dahmer': 1, 'Lana Del Rey': 1, 'Murdock': 1, 'Superhero': 1, 'Skywalker': 1, 'Mindy Lou': 1, 'Money': 1, 'Dynah': 1, 'Vitani': 1, 'Laurn': 1, 'You': 1, 'Nobbs': 1, 'Pulga': 1, 'Dalai': 1, 'Sugar Foot': 1, 'Little Boo': 1, 'Truly': 1, 'Kent': 1, 'Pretty Boy': 1, 'Jillaroo': 1, 'Javiersita': 1, 'Anna Nicole': 1, 'Jago': 1, 'Lola Bear': 1, 'Manson': 1, 'Douglas': 1, 'Cranberry': 1, 'Leeloo': 1, 'Slava': 1, 'Bibble': 1, 'Oogie': 1, 'Briggs': 1, 'Bello': 1, 'Frassina': 1, 'Quartz': 1, 'Fausto': 1, 'Toba': 1, 'Suzu': 1, 'Morpheus': 1, 'Jacy': 1, 'Smores': 1, 'D Dog': 1, 'Xia': 1, 'Gabrielle': 1, 'Dave': 1, 'Brownie Jr': 1, 'Shadowfax': 1, 'Moto': 1, 'Torment': 1, 'Auslyn': 1, 'Pivo': 1, 'Lugh': 1, 'Tut': 1, 'Roxxy': 1, 'Lilith': 1, 'Scai': 1, 'Fozzy Bear': 1, 'Collaway': 1, 'Snapper': 1, 'Jayme': 1, 'Kimmie': 1, 'Karen': 1, 'Scott': 1, 'Lora': 1, 'La Paz': 1, 'Fuzzo': 1, 'Annelise': 1, 'Layla Lee': 1, 'Dunga': 1, 'Satusma': 1, 'Hyla': 1, 'Milt Jackson': 1, 'Nighthawk': 1, 'Kaden': 1, 'Nadda': 1, 'Moca': 1, 'Clement': 1, 'Manches': 1, 'Boudreaux': 1, 'Mcneal': 1, 'Harriett': 1, 'Leif': 1, 'Ondeado': 1, 'M Aybelle': 1, 'Churchill': 1, 'Jock': 1, 'Acadia': 1, 'Saphire': 1, 'Sully': 1, 'Moby Dixson': 1, 'Chaz': 1, 'Tank Girl': 1, 'Snickrdoodl': 1, 'Baby Doll': 1, 'Art': 1, 'Ashleigh': 1, 'Butterfly': 1, 'Aberdeen': 1, 'Ojoe': 1, 'Mr. Peabody': 1, 'Bella Boo': 1, 'Vanillapie': 1, 'Dari': 1, 'Kimi': 1, 'Grisha': 1, 'Borris': 1, 'Kennex': 1, 'Chemmie': 1, 'Butterbean': 1, 'Riddick': 1, 'Spartus': 1, \"Reese'S\": 1, 'Nirvana': 1, 'Gabi': 1, 'Yo Yo': 1, 'Sylvio': 1, 'Sammi': 1, 'Lokita': 1, 'Bolou': 1, 'Aden': 1, 'Periwinkle': 1, 'Cheesebrgr': 1, 'Alexei': 1, 'Other': 1, 'Peter Cotton': 1, 'Guiness': 1, 'Dezzie': 1, 'Cimba': 1, 'Graves': 1, 'Aussimoon': 1, 'Brindle': 1, 'Romo': 1, 'Buttrscotch': 1, 'Erika': 1, 'Mommas': 1, 'Teah': 1, 'Nevado': 1, 'Brit': 1, 'Queen': 1, 'Hedwig': 1, 'Zilkie': 1, 'Bizzy': 1, 'Apricot': 1, 'Terrance': 1, 'Legolas': 1, 'Cerberus': 1, 'Binks': 1, 'Mclean': 1, 'Tort': 1, 'Butterball': 1, 'Misa': 1, 'Blues': 1, 'Brynden': 1, 'Ryo': 1, 'Mr. Fuzzy': 1, 'Tee-Nee': 1, 'Sprocket': 1, 'Spud': 1, 'Little Ricky': 1, 'Junko': 1, 'Kathy': 1, 'Kibo': 1, 'Mr.Whiskers': 1, 'Zan': 1, 'Vance': 1, 'Baldo': 1, 'B.J.': 1, 'Little Sox': 1, 'Makita': 1, 'Bao Zi': 1, 'Francesca': 1, 'Donnatelo': 1, 'Marcie': 1, 'Lonna': 1, 'Weezy': 1, 'Dempsy': 1, 'Squish': 1, 'Akori': 1, 'Dukesa': 1, 'Bagheera': 1, 'Bibie': 1, 'Porsche': 1, 'Luke Skywalk': 1, 'Wade': 1, 'Sir Pounce': 1, 'Kenney': 1, 'Mocho': 1, 'Bunnies': 1, 'Small Fry': 1, 'Angel Marie': 1, 'Chaparro': 1, 'Champagne': 1, 'Honeydew': 1, 'Xenia': 1, 'Gillian': 1, 'Flicka': 1, 'Decker': 1, 'Chapeau': 1, 'Poppa': 1, 'Ebenezer': 1, 'Best Friend': 1, 'Potsy': 1, 'M.F Jones': 1, 'Loomi': 1, 'Mayleen': 1, 'Rigbee': 1, 'Susannah': 1, 'Pechula': 1, 'Twiggy': 1, 'Hiro': 1, 'Yaira': 1, 'Disco': 1, 'Lucia': 1, 'Herschel': 1, 'Biggles': 1, 'Kyba': 1, 'Dyce': 1, 'Trent': 1, 'Dayz': 1, 'Ellis': 1, 'Corra': 1, 'Cloe': 1, 'Ms. Boe': 1, 'Daredevil': 1, 'Jolie': 1, 'Mr. Cuddles': 1, 'Emmitt': 1, 'Jean Luc': 1, 'Lemon Drop': 1, 'Dagger Lee': 1, 'Fallerina': 1, 'Chops': 1, 'Kitzi': 1, 'Charlize': 1, 'Wilhemina': 1, 'Neron': 1, 'Raphael': 1, 'Yoyo': 1, 'Poseidon': 1, 'Denby': 1, 'Boom': 1, 'Lagarto': 1, 'Thunderdog': 1, 'Keenan': 1, 'Rhodes': 1, 'Peking': 1, 'Lencho': 1, 'Breezy': 1, 'C': 1, 'Hormiga': 1, 'Midnite': 1, 'Rugby': 1, 'Teri Teri': 1, 'Splash': 1, 'Rolf': 1, 'Lamb': 1, 'Zeta': 1, 'Sgt Finley': 1, 'Vangogh': 1, 'Sherbet': 1, 'Rengie': 1, 'Smitty': 1, 'Shalimar': 1, 'Marshmallow': 1, 'Golondrina': 1, 'Wiz Catifa': 1, 'Trout': 1, 'Samus': 1, 'Meowski': 1, 'Turkey': 1, 'Micro': 1, 'Janice': 1, 'Giuseppe': 1, 'Primor': 1, 'Cordelia': 1, 'Nettle': 1, 'Yaris': 1, 'Miriam': 1, 'Vanna': 1, 'Baldr': 1, 'Lovely': 1, 'Fynn': 1, 'CariÃ±o': 1, 'Abbadon': 1, 'Judith': 1, 'Tea-Tee': 1, 'Rome': 1, 'Tiffany': 1, 'Darrell': 1, 'Fields': 1, 'Walt': 1, 'Olympus': 1, 'G Money': 1, 'Barky': 1, 'Janeane': 1, 'Steamer': 1, 'Lexy': 1, 'Shine': 1, 'Horatio': 1, 'Tiny Tim': 1, 'Rolex': 1, 'Takeshi': 1, 'Jack Nick': 1, 'Romen': 1, 'Spreckles': 1, 'Pinino': 1, 'Yummie': 1, 'Bear Bear': 1, 'Kibby': 1, 'Omar': 1, 'Pup 1': 1, 'Baby Princes': 1, 'Pat': 1, 'Peyton': 1, 'Santino': 1, 'Perfect': 1, 'Susuwatari': 1, 'Gambler': 1, 'Doogle': 1, 'Brystal': 1, 'Bueller': 1, 'Miori': 1, 'Creamsicle': 1, 'Pamplemousse': 1, 'Sugar Baby': 1, 'Bite Cat': 1, 'Capri': 1, 'Lee Anne': 1, 'Bruja': 1, 'Bozo': 1, 'Han': 1, 'Aideen': 1, 'Appi': 1, 'K': 1, 'Camden': 1, 'Bey': 1, 'Ozma': 1, 'Moon Doggie': 1, 'Mikko': 1, 'Booma': 1, 'Bedo': 1, 'Wubsey': 1, 'Angelo': 1, 'Wambach': 1, 'Frick': 1, 'Brooks': 1, 'Obi-Wan': 1, 'Doobie': 1, 'Navaho': 1, 'Bruce Bruce': 1, 'Hog': 1, 'Flicker': 1, 'Shredder': 1, \"Kaua'I\": 1, 'Batty': 1, 'Prof Butters': 1, 'Yety': 1, 'Jennifer': 1, 'Juliep': 1, 'Allison': 1, 'Tokyo': 1, 'Jimmy Page': 1, 'Rhett': 1, 'Wimberly': 1, 'B.G.': 1, 'Indiana': 1, 'Rider': 1, 'Lorne': 1, 'Lapsidaisy': 1, 'Mae': 1, 'Yodi': 1, 'Autie': 1, 'Betsy Lou': 1, 'Bootsie': 1, 'Vesper': 1, 'Kenzi': 1, 'John Locke': 1, 'Bando': 1, 'Kip': 1, 'Mallo': 1, 'Chadwyck': 1, 'Shep': 1, 'Ferbie': 1, 'Annabella': 1, 'Juju': 1, 'Porches': 1, 'Henry Ford': 1, 'Ethyl': 1, 'Fall': 1, 'Chiquito': 1, 'Supreme': 1, 'Raul': 1, 'Andromeda': 1, 'Tigerwoods': 1, 'Paolo': 1, 'Chansy': 1, 'Rhianna': 1, 'Garfunkel': 1, 'Chaka': 1, 'Princess Lea': 1, 'Pastel': 1, 'Lucho': 1, 'Tookies': 1, 'Saverina': 1, 'Sandra Dee': 1, 'Skoll': 1, 'Mr. B': 1, 'Roz': 1, 'Roddy': 1, 'Tod': 1, 'Garbanzo': 1, 'Chiva': 1, 'Crush': 1, 'Collette': 1, 'Richardson': 1, 'R-Two': 1, 'Harold': 1, 'Mega': 1, 'Sargento': 1, 'Shelton': 1, 'Alexandra': 1, 'D-Wayne': 1, 'Margie': 1, \"Mama'S\": 1, 'Minne': 1, 'Neptune': 1, 'Sarge': 1, 'Rumble': 1, 'Aidan': 1, 'Poppi': 1, 'Kaui': 1, 'Mancho': 1, 'Mister Man': 1, 'Keaton': 1, 'Stubs': 1, 'Passion': 1, 'Uffa': 1, 'Cierra': 1, 'Sombra': 1, 'Becca': 1, 'Nelli': 1, 'Spikey': 1, 'Beyonce': 1, 'Meggy': 1, 'Dwight': 1, 'Snow Toes': 1, 'Mirabai': 1, 'Garcia': 1, 'Big Joe': 1, 'Hanley': 1, 'Cat 1': 1, 'Blackbird': 1, 'Bonnie Blue': 1, 'Heidi Lee': 1, 'Lilly Bell': 1, 'Margo': 1, 'Raji': 1, 'Atreyu': 1, 'Smooches': 1, 'Pringle': 1, 'Maddison': 1, 'Pecas': 1, 'Mo Cuishle': 1, 'Merryweather': 1, 'Puppies': 1, 'Nicholas': 1, 'V': 1, 'Jager': 1, 'Lissa': 1, 'Mandisa': 1, 'Gecko': 1, 'Mystic': 1, 'Brady': 1, 'Harvey Dent': 1, 'Keeton': 1, 'Christine': 1, 'Sader': 1, 'Mugs': 1, 'Veza': 1, 'Gordy': 1, 'Pokey Dot': 1, 'Kieran': 1, 'Constable': 1, 'Mutt': 1, 'Sledge': 1, 'Jaws': 1, 'Stallone': 1, 'Pitufa': 1, 'Silvia': 1, 'Curley': 1, 'Aaron Elvis': 1, 'Lars': 1, 'Tally': 1, 'Rado': 1, 'Gabbie': 1, 'Danby': 1, 'Kinley': 1, 'Clive': 1, 'Stars': 1, 'Pan': 1, 'Steel': 1, 'Lewis Leelo': 1, 'Meena': 1, 'Artie': 1, 'Geraldo': 1, 'Aladin': 1, 'Lilia': 1, 'Rubble': 1, 'Starry': 1, 'Mrs Cat': 1, 'Ethal': 1, 'Louie Pepper': 1, 'Grif': 1, 'Neba': 1, 'Gerald': 1, 'Francine': 1, 'Pooney': 1, 'Ponyboy': 1, 'Mary Kate': 1, 'Rainn': 1, 'Brosco': 1, 'Choni': 1, 'Honeybee': 1, 'Boswell': 1, 'Moo Moo': 1, 'Cusi': 1, 'Bogart': 1, 'Shatu': 1, 'Chardonnay': 1, 'Marky Mark': 1, 'Oils': 1, 'Venture': 1, 'Morocco': 1, 'Dubbs': 1, 'Padre': 1, 'Trixi': 1, 'Dobi': 1, 'Zenia': 1, 'Sandro': 1, 'Melbourne': 1, 'Granato': 1, 'Sweetums': 1, 'Shortround': 1, 'Esmerelda': 1, 'Rudolf': 1, 'Trunks': 1, 'Solobino': 1, 'Aloha': 1, 'Matt': 1, 'Nilla Bean': 1, 'Pricilla Sue': 1, 'Cokito': 1, 'Wendell': 1, 'Glenda': 1, 'Persimmon': 1, 'Bee Bee': 1, 'Suzze': 1, 'Speedeni': 1, 'Shellby': 1, 'Aisha': 1, 'Yarndi': 1, 'Shtinker': 1, 'Nib': 1, 'Bock': 1, 'Soot': 1, 'Red Tex': 1, 'Kitty Pie': 1, 'Kelvi': 1, 'Lover': 1, 'Mouphtaou': 1, 'June-Bug': 1, 'Chilito': 1, 'Desdemona': 1, 'Elly': 1, 'Afina': 1, 'Kasami': 1, 'Rowen': 1, 'Cloudy': 1, 'Topi': 1, 'Miami': 1, 'Bounce': 1, 'Yayo': 1, 'Sugar Cane': 1, 'Macaroni': 1, 'Cc': 1, 'R-Three': 1, 'Payton': 1, 'Davie': 1, 'Amps': 1, 'Kuki': 1, 'Trace': 1, 'Grey Boy': 1, 'Mamas': 1, 'Schmitz': 1, 'Tarva': 1, 'Dutches': 1, 'Brimmer': 1, 'Campion': 1, 'Sugg': 1, 'Kade': 1, 'Fish': 1, 'Ramone': 1, 'Sugar Bear': 1, 'Sesame': 1, 'Hyden': 1, 'Cynda': 1, 'Cabron': 1, 'Jeff': 1, 'Nooli': 1, 'Sniper': 1, 'Brent': 1, 'Costello': 1, 'Marga': 1, 'Rasta': 1, 'Nelen': 1, 'Earth': 1, 'Muchkin': 1, 'Xane': 1, 'Mini Cooper': 1, \"Puddin'\": 1, 'Rylee': 1, 'Tugboat': 1, 'Camillo': 1, 'Garland': 1, 'Kitty Cat': 1, 'Norm': 1, 'Favor': 1, 'Esmeralda': 1, 'Kokomo': 1, 'Cersei': 1, 'Lyfe': 1, 'Fella': 1, 'Miss Etta': 1, 'Macavoy': 1, 'Night Fury': 1, 'Carlie': 1, 'Cisco': 1, 'Little Mama': 1, 'Lady J': 1, 'Santana': 1, 'Marybell': 1, 'Polka': 1, 'Flap Jack': 1, 'Maytag': 1, 'Choncho': 1, 'Guadalupe': 1, 'Kimba': 1, 'Jaco': 1, 'Falcon': 1, 'Zulma': 1, 'Ali Lou': 1, 'Lorenzo': 1, 'Philemon': 1, 'Pinochle': 1, 'Daniel Leon': 1, 'Pigui': 1, 'Tica': 1, 'Eowyn': 1, 'Chicle': 1, 'Nala Faith': 1, 'Nibbler': 1, 'Crockett': 1, 'Schultz': 1, 'Disa': 1, 'Chancellor': 1, 'Lindsay': 1, 'Cato': 1, 'Cabel': 1, 'Boosts': 1, 'Mr. Meowgi': 1, 'Pup 6M': 1, 'Caty': 1, 'PadmÃ©': 1, 'Kora': 1, 'Ursa': 1, 'Chalmers': 1, 'Winslow': 1, 'Chupitos': 1, 'Sheryl': 1, 'Fluffy Butt': 1, 'Shy Boy': 1, 'Fayah': 1, 'Bronco': 1, 'Fallon': 1, 'Stephen': 1, 'Navi': 1, 'Camino': 1, 'Chartreuse': 1, 'Arty': 1, 'Tennyson': 1, 'Maru': 1, 'Zoom': 1, 'Kokis': 1, 'Jimbo': 1, 'Jonathon': 1, 'Bauer': 1, 'Flowtron': 1, 'D. J.': 1, 'Teddy B': 1, 'Spider Man': 1, 'Maximiliano': 1, 'Amir Dunmore': 1, 'Big Otis': 1, 'Lover Boy': 1, 'Noi-Na': 1, 'Delia': 1, 'Trini': 1, 'Liam 2': 1, 'Gusgus': 1, 'Bazil': 1, 'Kazy': 1, 'Butternut': 1, 'Damian': 1, 'Skillet': 1, 'Gunny': 1, 'Calypto': 1, 'Digit': 1, 'Izz': 1, 'Furby': 1, 'Zz': 1, 'Sosa': 1, 'Picard': 1, 'W': 1, 'Geno': 1, 'Ace Regalado': 1, 'Jenkins': 1, 'Monday': 1, 'Tortuga': 1, 'Horton': 1, 'Pils': 1, 'Bonzai': 1, 'Hunner': 1, 'Milburn': 1, 'Etta': 1, 'Freddi': 1, 'Dublin': 1, 'Fisk': 1, 'Sirka': 1, 'Norbert': 1, 'Judah': 1, 'Irwin': 1, 'Albus': 1, 'Oreto': 1, 'Paws': 1, 'Nyx': 1, 'Alyssa': 1, 'Moma': 1, 'Merlyn': 1, 'Orangina': 1, 'Lazy': 1, 'Cafeara': 1, 'Lazaro': 1, 'Roko': 1, 'Greenbean': 1, 'Kodah': 1, 'Rogue Momo': 1, 'Joker': 1, 'Lbee': 1, 'Acorn': 1, 'Foley': 1, 'Q': 1, 'Scoot': 1, 'Sammy Pants': 1, 'Dillon': 1, 'Capulli': 1, 'Brigid': 1, 'Zeezou': 1, 'Colonel': 1, 'Frieda': 1, \"O'Hara\": 1, 'Boti': 1, 'Coraline': 1, 'Tee': 1, 'Henney': 1, 'Neymar': 1, 'Cookie Lynn': 1, 'Big Ben': 1, 'Enyo': 1, 'Tamago': 1, 'Kloe': 1, 'Cornflake': 1, 'Weto': 1, 'Shoe': 1, 'Carley': 1, 'Si': 1, 'Phillia': 1, 'Big John': 1, 'Asma': 1, 'Snoopette': 1, 'Aztec': 1, 'Kailah': 1, 'Kountry': 1, 'Traveler': 1, 'Cambot': 1, 'Furgus Mckit': 1, 'Velo': 1, 'Popcornpeter': 1, 'Socky': 1, 'Justinian': 1, 'Lake': 1, 'Shawn': 1, 'Baby Blue': 1, 'Baby Bella': 1, 'Chekov': 1, 'Windu': 1, 'Heisenberg': 1, 'C.C.': 1, 'Peppy': 1, 'Tennessee': 1, 'Jolli': 1, 'Fluffs': 1, 'Manchitas': 1, 'Antonio': 1, 'Emma Lou': 1, 'Hava': 1, 'Chewbacca': 1, 'Vic': 1, 'Stella Luna': 1, 'Minneloa': 1, 'Mame': 1, 'Wind': 1, 'Spiderman': 1, 'Combo': 1, 'Love': 1, 'Knox': 1, 'Doggie': 1, 'Panzon': 1, 'Terri': 1, 'Peqqy': 1, 'Tooter': 1, 'Lucy Lou': 1, 'Frankenstein': 1, 'Nicky': 1, 'Rawhide': 1, 'Ayo': 1, 'Bertrand': 1, 'Gracie Belle': 1, 'Shalanda': 1, 'Rinker': 1, 'Freebie': 1, 'Alonzo': 1, 'Rey': 1, 'Blinky': 1, 'Soko': 1, 'Riley Grace': 1, 'Whiskey Girl': 1, 'Cyril': 1, 'Perdita': 1, 'Marina': 1, 'Kit Kit': 1, 'Derrick': 1, 'Pyrex': 1, 'Billy Jean': 1, 'Shelley': 1, 'White Snake': 1, 'Ulysses': 1, 'Delfino': 1, 'Thibodaux': 1, 'Melo': 1, 'Guppy': 1, 'Cosima': 1, 'Pogeaux': 1, 'Hydro': 1, 'Starr': 1, 'Saxton': 1, 'Starbuck': 1, 'Shanti': 1, 'Elie-Mae': 1, 'Terrell': 1, 'Ann': 1, 'Bun Bun': 1, 'Mathias': 1, 'Mortisha': 1, 'Lulu Belle': 1, 'Coronado': 1, 'Jeb': 1, 'Ludwig': 1, 'Leanda': 1, 'Kit Cat': 1, 'Kyrie': 1, 'Mew': 1, 'Tit Tat': 1, 'Sumi': 1, 'Loo': 1, 'Daquiri': 1, 'Laya': 1, 'Nata': 1, 'Pradagy': 1, 'Portia': 1, 'Disel': 1, 'Boner': 1, 'Lucie': 1, 'Turbo 2': 1, 'Kodiak': 1, 'Dolce': 1, 'Dharma': 1, 'Spinoza': 1, 'Nite': 1, 'Clairees': 1, 'Sassycat': 1, 'Glitter': 1, 'Amherst': 1, 'Che': 1, 'Rocca': 1, 'Sopi': 1, 'Mags': 1, 'Zora': 1, 'Rush': 1, 'Bueford': 1, 'Pesto': 1, 'Charger': 1, 'Dominick': 1, 'Lady Grey': 1, 'Jacki': 1, 'Toadstool': 1, 'Kalee': 1, 'Mayhem': 1, 'Cola': 1, 'Carleton': 1, 'Marinda': 1, 'Israel': 1, 'Gable': 1, 'Tracie': 1, 'Skitches': 1, 'Lady Isis': 1, 'Pelos': 1, 'Nn': 1, 'Adrianna': 1, 'Kapie': 1, 'Pecos': 1, 'Phat Phat': 1, 'Syrah': 1, 'Dane': 1, 'Spit Fire': 1, 'Clemmie': 1, 'Heathcliff': 1, 'Kila': 1, 'Regio': 1, 'Mari': 1, 'Ooli': 1, 'Raton': 1, 'Jaxson': 1, 'Mumble': 1, 'Jordana': 1, 'Jalapeno': 1, 'Pi': 1, 'Milan': 1, 'Lula Belle': 1, 'Quattro': 1, 'Leilo': 1, 'Maisy': 1, 'Yoruichi': 1, 'Snow Ball': 1, 'Tellison': 1, 'Svi': 1, 'Martinet': 1, 'Selisa': 1, 'Tuffy': 1, 'Caprice': 1, 'Zorrito': 1, 'Campbell': 1, 'Lucy Lu': 1, 'Brat': 1, 'Tia': 1, 'Bucho': 1, 'Pajuela': 1, 'Mr.Belvedere': 1, 'Chanell': 1, 'Dalinda': 1, 'Nahti': 1, 'Onny': 1, 'Kojax': 1, 'Manuka': 1, 'Rickie': 1, 'Bodie': 1, 'Charlie Bear': 1, 'Adella': 1, 'Mistic': 1, 'Cuzzin': 1, 'Chiwa': 1, 'Boss Hogg': 1, 'Bastet': 1, 'Phantom': 1, 'Mummum': 1, 'Bella Swan': 1, 'Lainey': 1, 'Cadillac': 1, 'Dijon': 1, 'Dr. Dog': 1, 'Puchi': 1, 'Meowser': 1, 'Nettie': 1, 'Rookie': 1, 'Blue Bell': 1, 'Chavo': 1, 'Perrito': 1, 'Crayon': 1, 'Red Bull': 1, 'Voyager': 1, 'Dice': 1, 'Kwazii': 1, 'Elia': 1, 'Day': 1, 'Kaleysee': 1, 'Reptar': 1, 'Melindra': 1, 'Mugsie': 1, 'Chowder': 1, 'Lion Cat': 1, 'Cake': 1, 'Javi': 1, 'Momba': 1, \"Lil' Mama\": 1, 'Renji': 1, 'Morrow': 1, 'Vito': 1, \"Lil' Bit\": 1, 'Two Bit': 1, 'Oodle': 1, 'Origami': 1, 'Serrano': 1, 'Neice': 1, 'Carol': 1, 'Evelyn': 1, 'Slider': 1, 'Scotch': 1, 'Pippy': 1, 'Vern': 1, 'Baylah': 1, 'Catniss': 1, 'Tilly May': 1, 'Poly': 1, 'Karina': 1, 'J.J.': 1, 'Kelee': 1, 'Tripod': 1, 'Schotzy': 1, 'Prinsess Joj': 1, 'Sadee Lynn': 1, 'Spudz': 1, 'Thurston': 1, 'Beulah': 1, 'Glinda': 1, 'Loba': 1, 'Little B': 1, 'Rigger': 1, 'Poopy': 1, 'Scamper': 1, 'Palona1': 1, 'Ramond Juan': 1, 'Calie': 1, 'Moon Light': 1, 'Mr. Blue': 1, 'Aeris': 1, 'Tiva': 1, 'Teeger': 1, 'Rudolph': 1, 'Miss Black': 1, 'Widow': 1, 'Delores': 1, 'Faux': 1, 'Porka': 1, 'Bri-Bri': 1, 'Amalia': 1, 'Cowgirl': 1, 'Ellen': 1, 'Mandarin': 1, 'Ransom': 1, 'Mr. Magoo': 1, 'Maddox': 1, 'Cubbie': 1, 'Villy Pixel': 1, 'Sace': 1, 'Pavlov': 1, 'Little One': 1, 'Shabba': 1, 'Charlee': 1, 'Zari': 1, 'Hooker': 1, 'Berdie': 1, 'Dejah': 1, 'Garbage': 1, 'Tidus': 1, 'Ben Ben': 1, 'Ellabelle': 1, 'Keishla': 1, 'Skitty': 1, 'Renalda': 1, 'Hellen': 1, 'Mr. Fluffers': 1, 'Korg': 1, 'Boz': 1, 'Stacks': 1, 'Jalepeno': 1, 'Pepperonirol': 1, 'Billy Goat': 1, 'Soyrizo': 1, 'P. Pistol': 1, 'Macho': 1, 'Anabel': 1, 'Solo': 1, 'Roltan': 1, 'Johannes': 1, 'Buckey': 1, 'Catie': 1, 'Straya': 1, 'Snooky': 1, 'Digby': 1, 'Little Grey': 1, 'Jeffie': 1, 'Tequilla': 1, 'Itty Bitty K': 1, 'Lady Red': 1, 'Charley': 1, 'Joanie': 1, 'Topo': 1, 'Teri': 1, 'Coast': 1, 'Chipmunk': 1, 'Arenal': 1, 'Inky': 1, 'Cara': 1, 'Webster': 1, 'Sunny Bunny': 1, 'Jayden': 1, 'Direwolf': 1, 'Garth': 1, 'Pango': 1, 'Edmund': 1, 'Snuggle': 1, 'Spatz': 1, 'Caney': 1, 'Benzo': 1, 'Moscow': 1, 'Taquita': 1, 'Ander': 1, 'Kerubina': 1, 'Mr. Bones': 1, 'Lamb Chop': 1, 'Calla Lily': 1, 'Nukeem': 1, 'Azteca': 1, 'Katinka': 1, 'Fairbanks': 1, 'Pecan Pie': 1, 'Hawthorne': 1, 'Taffy': 1, 'Fuego': 1, 'Godzilla': 1, 'Brunhilde': 1, 'Timmie': 1, 'Maunster': 1, 'Meerka': 1, 'Craig': 1, 'Kreydos': 1, 'Tre': 1, 'Falken': 1, 'Mr. West': 1, 'Ham': 1, 'Shay': 1, 'Hildee': 1, 'Argos': 1, 'Dolo': 1, 'Henly': 1, 'Laney': 1, 'Yo': 1, 'Mccoy': 1, 'Nacha': 1, 'Skylos': 1, 'Fanniemae': 1, 'Dapper Dan': 1, 'Argus': 1, 'Baily': 1, 'Chikilin': 1, 'Mr Bentley': 1, 'Cammy': 1, 'Italia': 1, 'Serena': 1, 'Makarov': 1, 'Telli': 1, 'Derby': 1, 'Fluttershy': 1, 'Paivi': 1, 'Plume': 1, 'Sweetheart': 1, 'Morticia': 1, 'Mckitty': 1, 'Hatch': 1, 'Brock': 1, 'Pilgrim': 1, 'Fuzz': 1, 'Hey Boy': 1, 'Flintstone': 1, 'Sugar Mama': 1, 'Chuck Taylor': 1, 'Hoffy': 1, 'Icy': 1, 'Nookie': 1, 'Tenshi': 1, 'Dilute': 1, 'Luno': 1, 'Ruexb': 1, 'Concho': 1, 'Jeevees': 1, 'Julep': 1, 'Brunie': 1, 'Rajeh': 1, 'Chiquilla': 1, 'Eren': 1, 'Hydel': 1, 'Polar Bear': 1, 'Cutie': 1, 'Morena': 1, 'Mei Mei': 1, 'Maxi': 1, 'Jaxton': 1, 'Mitch Zuniga': 1, 'Haelo': 1, 'Lem Lem': 1, 'Leela': 1, 'Pistachio': 1, 'Puchis': 1, 'Fisher': 1, 'Wiz': 1, 'Hal': 1, 'Sinjin': 1, 'Jamocha': 1, 'Boxochocolat': 1, 'Khyra': 1, 'Pasco': 1, 'Goldielux': 1, 'Rakscha': 1, 'Herby': 1, 'Shyla': 1, 'Mundo': 1, 'Meerkat': 1, 'Carol Anne': 1, 'Maxy': 1, 'Lyla': 1, 'Eustace': 1, 'Pocas': 1, 'Macduff': 1, 'Dr. Pepper': 1, 'Minni': 1, 'Benvolio': 1, 'Mugen': 1, 'Kahri': 1, 'Emme': 1, 'Cru': 1, 'Ennis': 1, 'Amor': 1, 'Meathead': 1, 'Whopper': 1, 'Speedygonz': 1, 'Charisma': 1, 'Pachonsito': 1, 'Puddin': 1, 'Tostada': 1, 'Dark Knight': 1, 'Myrcelly': 1, 'Kaley': 1, 'Quint': 1, 'Boy Named Su': 1, 'Leoara': 1, 'Jubilee': 1, 'Ria': 1, 'Joel': 1, 'Rachelle': 1, 'Colbie': 1, 'Link Iii': 1, 'Anatoly': 1, 'Sadie Gray': 1, 'Porthos': 1, 'Emmy Lou': 1, 'Fin': 1, 'Joy Smeagle': 1, 'Hastings': 1, 'Big Daddy': 1, 'Laramie': 1, 'Herrod': 1, 'Cali Knight': 1, 'Higgs': 1, 'Rella': 1, 'Fabrizio': 1, 'Sterling': 1, 'Grimsby': 1, 'Galleta': 1, 'Asap': 1, 'Pascal': 1, 'Silvy': 1, 'Batgirl': 1, 'M.J.': 1, 'Shwayze': 1, 'Freesia': 1, 'Korra': 1, 'Asti': 1, 'Bode': 1, 'Steve-O': 1, 'Albright': 1, 'Tory': 1, 'Lambeau': 1, 'Miss Sugar': 1, 'Grumpy': 1, 'Bernadette': 1, 'Redlei': 1, 'Sauerkraut': 1, 'Tiney': 1, 'Ukiah': 1, 'Scully': 1, 'Braveheart': 1, 'Reynaldo': 1, 'Beauford': 1, 'Edna': 1, 'Guerro': 1, 'Baby 2': 1, 'Peter Pan': 1, 'Squeek': 1, 'Moscato': 1, 'Sera': 1, 'Bryce': 1, 'Syl': 1, 'Jadey': 1, 'Princeton': 1, 'Zen': 1, 'Skunk': 1, 'Renolds': 1, 'Madgi': 1, 'Nibbles': 1, 'Bebop': 1, 'Riz': 1, 'Teddy Lucas': 1, 'Taco Cat': 1, 'Grandy': 1, 'Fusion': 1, 'Flakey': 1, 'Lady White': 1, 'Henri': 1, 'Beany': 1, 'Kimby': 1, 'Growler': 1, 'Mimzy': 1, 'Griswald': 1, 'Kit Tay': 1, 'Pocahontas': 1, 'Avalak': 1, 'Duffus': 1, 'Johnny B': 1, 'Dusty Rose': 1, 'Tufty': 1, 'Starbucks': 1, 'Pillsbury': 1, 'Biko': 1, 'Drusilla': 1, 'Cinch': 1, 'Lil Behr': 1, 'Kenga Roo-Ro': 1, 'Lucus': 1, 'Shrekann': 1, 'Esme': 1, 'Platypus': 1, 'Scrabbles': 1, 'Weenie': 1, 'Drewster': 1, 'Nyxie': 1, 'Faye': 1, 'Baretta': 1, 'Orton': 1, 'Pywackett': 1, 'Bunnie': 1, 'Gizzy': 1, 'Eggs': 1, 'Catnip': 1, 'Karrie': 1, 'Little Dog': 1, 'White Girl': 1, 'Rayne': 1, 'Elfie': 1, 'Celste': 1, 'Marv': 1, 'Custer': 1, 'Thane': 1, 'Rosalee': 1, 'Danzig': 1, 'Dragon': 1, 'Satan/Ebony': 1, 'Audra': 1, 'Mr.Cookie': 1, 'Squeak': 1, 'Anne Bonnie': 1, 'Beetle': 1, 'Horus': 1, 'Ziegen': 1, 'Ziti': 1, 'Andi': 1, 'Stranger': 1, 'Pingpong': 1, 'Prince Dubbi': 1, 'Loosey': 1, 'Shimi': 1, 'Nola': 1, 'Moon Cat': 1, 'Hiddles': 1, 'Preciouso': 1, 'Bigfoot': 1, 'Tiny Dancer': 1, 'Ballou': 1, 'Kanani': 1, 'Cheeks': 1, 'Tootsie Roll': 1, 'Piru': 1, 'Ms Roper': 1, 'Snowbell': 1, 'Coco Bear': 1, 'Miramar': 1, 'Lizzard': 1, 'Trudge': 1, 'Tywin': 1, 'Shanudie': 1, 'Fuzzbox': 1, 'Outlaw': 1, 'Sodapop': 1, 'Flavia': 1, 'Noelle': 1, 'Tejota': 1, 'Goowa': 1, 'Seis': 1, 'Jack-O-Lant': 1, 'Fritzy': 1, 'Rapunzel': 1, 'Ruffo': 1, 'Prissies': 1, 'Darma': 1, 'Ivak': 1, 'Kit-Kat': 1, 'Mimsy': 1, 'California': 1, 'Jose': 1, 'Hashbrown': 1, 'Mamba': 1, 'Seymour': 1, 'Carrot Cake': 1, 'Wolfgang': 1, 'Ceelo': 1, 'Peluchin': 1, 'Fenrir': 1, 'Stu': 1, 'Danica': 1, 'Leelah': 1, 'Perdy': 1, 'Leonora': 1, 'Kyuss': 1, 'Tigre': 1, 'Harly': 1, 'Scrappypower': 1, 'Yaya Annie': 1, 'Pup 2': 1, 'Dachs': 1, 'Balthasar': 1, 'Osito': 1, 'Shawna': 1, 'Kino': 1, 'Nube': 1, 'Sprinkle': 1, 'Bartledby': 1, 'Vana White': 1, 'Sugars': 1, 'Corban': 1, 'Madi': 1, 'Samosa': 1, 'Devereaux': 1, 'Henna': 1, 'Bennie': 1, 'Kergy': 1, 'Bond': 1, 'Willabee': 1, 'Gee': 1, 'Yogi Bear': 1, 'Armani': 1, 'Datsun': 1, 'Jesebel': 1, 'Miss Kitty': 1, 'Zu Zu': 1, 'Tazbo': 1, 'Alley Cat': 1, 'Tinkerbelle': 1, 'Woogie': 1, 'Vidalia': 1, 'Heihachi': 1, 'Chupychu': 1, 'Spyder': 1, 'Oz': 1, 'Jaycup': 1, 'Snipe': 1, 'Handlebar': 1, 'Tomato': 1, 'Coraje': 1, 'Glacie': 1, 'Cinnimon': 1, 'Chuli': 1, 'Josephina': 1, 'Chuchi': 1, 'Sugar Bella': 1, 'Squeaker': 1, 'Dot Dot': 1, 'Maynard': 1, 'Legs': 1, 'Razor': 1, 'Dio': 1, 'Mama Bear': 1, 'Jada': 1, 'Boosie': 1, 'Taboo': 1, 'Roma': 1, 'Bonita Bubbl': 1, 'Brinley': 1, 'Lena': 1, 'Wendall': 1, 'Shy-Anne': 1, 'Minx': 1, 'Bricks': 1, 'Boo D.': 1, 'Shaun': 1, 'Tiko': 1, 'Kinta': 1, 'Five': 1, 'Sonya': 1, 'Armen': 1, 'Rena': 1, 'George W': 1, 'Player': 1, 'Crackers': 1, 'Nitzia': 1, 'Deablo': 1, 'Dove': 1, 'Yumyum': 1, 'Nik-O': 1, 'Mento': 1, 'Belvedere': 1, 'Polonius': 1, 'Tosca': 1, 'Shade': 1, 'Erin Dawn': 1, 'Amazon': 1, 'Eggy': 1, 'Cragen': 1, 'Pinocchio': 1, 'Naples': 1, 'Coco Chanel': 1, 'Hugsly': 1, 'Prume': 1, 'Leti': 1, 'Jingles': 1, 'Axle': 1, 'Vincente': 1, 'Ivana': 1, 'Rainbow': 1, 'Scootches': 1, 'Suzzy': 1, 'Evan': 1, 'Moira': 1, 'Beebee': 1, 'Cymbale': 1, 'Leanna': 1, 'Isabaux': 1, 'Ting Ting': 1, 'Left Eye': 1, 'Twiggie': 1, 'Cosette': 1, 'Adara': 1, 'Little Bear': 1, 'Merida': 1, 'Poldark': 1, 'Gerome': 1, 'Osha': 1, 'Flufferkins': 1, 'Jemina': 1, 'Camshaft': 1, 'Sancha': 1, 'Kief': 1, 'Kita': 1, 'Tulsi': 1, 'Menches': 1, 'Qually': 1, 'Munecca Meoe': 1, 'Pugsly': 1, 'Ottis': 1, 'Meeper': 1, 'Delphine': 1, 'Jager Run': 1, 'Big Dog': 1, 'Anakin': 1, 'Picqui': 1, 'Bogie Motors': 1, 'Dom': 1, 'Slade': 1, 'Broaddus': 1, \"S'More\": 1, 'Coyote': 1, 'Shinyuu': 1, 'Lukah': 1, 'Sir Alexande': 1, 'Clipper': 1, 'Terpie': 1, 'Snkaefarm': 1, 'Tugg': 1, 'Mr. Pickles': 1, 'Heaven': 1, 'Mackerel': 1, 'Wild Child': 1, 'Rebecca': 1, 'Black Fire': 1, 'Parvati': 1, 'Toodles': 1, 'Hot Dog': 1, 'Pyewackett': 1, 'Meechum': 1, 'Aquiles': 1, 'Shruffy': 1, 'Derrida': 1, 'Beckham': 1, 'Ebee': 1, 'Lupita': 1, 'Winkie': 1, 'Twizzler': 1, 'Schotzie': 1, 'Quita': 1, 'Pachuco': 1, 'Dewey 2': 1, 'Juice': 1, 'Farrelly': 1, 'Kelby': 1, 'Scrapper': 1, 'Gracy': 1, 'Bossette': 1, 'Mr. Kitty': 1, 'Draco': 1, 'Tator Tot': 1, 'Rote': 1, 'Gato': 1, 'Bouncer': 1, 'Puffer Cat': 1, 'Wild Bill': 1, 'Dumaris': 1, 'Martie': 1, 'Franklin Jr.': 1, 'Beullah': 1, 'Ananas': 1, 'Challino': 1, 'Topher': 1, 'Rowan': 1, 'Reynolds': 1, 'Cyprus': 1, 'Sweet Dee': 1, 'Cedrick': 1, 'Sheos': 1, 'Mr. Hunter': 1, 'Snookie': 1, 'Twitter': 1, 'Silvercloud': 1, 'Gilda': 1, 'Indio': 1, 'Lott': 1, 'Cuddy': 1, 'Chadwick': 1, 'Lindy': 1, 'Aida': 1, 'Kalina': 1, 'Tido': 1, 'Kookie': 1, 'Beryl': 1, 'Emilio': 1, 'Chalky': 1, 'Santiago': 1, 'Katie Lou': 1, 'Mr Eddy': 1, 'Mundy': 1, 'Yabba': 1, 'Para': 1, 'Danger': 1, 'T-Bone': 1, 'Roger Roger': 1, 'Don Juan': 1, 'Lauttie': 1, 'Togo': 1, 'Jeramiah': 1, 'Ann Richards': 1, 'Joan H': 1, 'Hop': 1, 'Bone': 1, 'Oxford': 1, 'Teagan': 1, 'Marsha': 1, 'Alley': 1, 'Calliope': 1, 'Hydie': 1, 'Chaser': 1, 'Clarissa': 1, 'Dream': 1, 'Bossco': 1, 'Fara': 1, 'Hayes': 1, 'Faleas': 1, 'Lyndon': 1, 'Ms. Piggy': 1, 'Bettie Page': 1, 'Stripey': 1, 'Emmett': 1, 'Keller': 1, 'Agamemnon': 1, 'Ceballo': 1, 'Pouncers': 1, 'Ligra': 1, 'Eclipse': 1, 'Chantilly': 1, 'Duqueza': 1, 'Dipper': 1, 'Daryl': 1, 'Jed': 1, 'Magoo': 1, 'Bambam': 1, 'October': 1, 'Chucha': 1, 'Bubblegum': 1, 'Sasha Fierce': 1, 'Baux': 1, 'Saxon': 1, 'Tator Tots': 1, 'Mrs. Norris': 1, 'Carino': 1, 'Sir Winsor': 1, 'Keyshia': 1, 'Bebee': 1, 'Lloyd': 1, 'Mr. Bonanny': 1, 'Mox': 1, 'T-Rex': 1, 'Sinclair': 1, 'Lelouch': 1, 'Macintosh': 1, 'Thing 2': 1, 'Wobbles': 1, 'Sonja': 1, 'Kid': 1, 'Onion': 1, 'Brinn': 1, 'Blue Boy': 1, 'Arrow': 1, 'Roy Jones': 1, 'Dolly Lou': 1, 'Dopey': 1, 'Tolouse': 1, 'Beckman': 1, 'Tigra': 1, 'Ryanne': 1, 'Peeps': 1, 'Monet': 1, 'Tyron': 1, 'Herlinda': 1, 'Coogi': 1, 'Calka': 1, 'White Cat': 1, 'Kambei': 1, 'Keesa': 1, 'Chuckie': 1, 'Orbit': 1, 'Fez': 1, 'Oden': 1, 'Bryson': 1, 'Stampy': 1, 'Wubbins': 1, 'Rihanna': 1, 'Sailas': 1, 'Sochi': 1, 'Margaret': 1, 'Sponge': 1, 'Marfa': 1, 'Penelope Ros': 1, 'Caid': 1, 'Buddy Buddy': 1, 'Merce': 1, 'Tedi': 1, 'Hello Kitty': 1, 'Aitana': 1, 'Nortina': 1, 'Molina': 1, 'Mooney': 1, 'Buggs': 1, 'Daphnie': 1, 'Grady': 1, 'Shane': 1, 'Cheeco': 1, 'Saedi': 1, 'Whittaker': 1, 'Yugi': 1, 'Emma Bella': 1, 'Wrinkle': 1, 'Tamara': 1, 'Jerrid': 1, 'Peachy': 1, 'Macarron': 1, 'Santa Girl': 1, 'Lola Bleu': 1, 'Rooney': 1, 'Blair': 1, 'Hoggy': 1, 'Bella B.': 1, 'Mr. Roper': 1, 'Girlie': 1, 'Fire': 1, 'Willie Nel': 1, 'Oswald': 1, 'Juma': 1, 'Magilla': 1, 'Blakie': 1, 'Spunky Chuck': 1, 'Thunderkit': 1, 'Smilla': 1, 'Uhmi': 1, 'Planet': 1, 'Mary Lou': 1, 'Ricko': 1, 'Percival': 1, 'Armand': 1, 'Kalamazzoo': 1, 'Keen': 1, 'The General': 1, 'Little Red': 1, 'Teague': 1, 'Bandido': 1, 'York': 1, 'Salamander': 1, 'Seren': 1, 'Fania': 1, 'Mercutio': 1, 'Smaug': 1, 'Tempo': 1, 'Susie Q': 1, 'Cosmos': 1, 'Demetri': 1, 'Goobey': 1, 'Oona': 1, 'Lacey 3': 1, 'Akon': 1, 'Trip': 1, 'Buki': 1, 'Lady Sasha': 1, 'Brussels': 1, 'Precocious': 1, 'Lu-Ann': 1, 'Umijio': 1, 'Avery Mae': 1, 'Manna Mou': 1, 'Weda': 1, 'Castle': 1, 'Daisee': 1, 'Keno': 1, 'Nexus': 1, 'Xavier': 1, 'Hardball': 1, 'Daniela': 1, 'Milky': 1, 'Dingo Starr': 1, 'Candy Cane': 1, 'Zariah': 1, 'J': 1, 'Channel': 1, 'Maxx': 1, 'Kim': 1, 'Riot': 1, 'Sparticus': 1, 'Felix Jupe': 1, 'Lourdes': 1, 'Bluto': 1, 'Vail': 1, 'Alphones': 1, 'Scout Jupe': 1, 'Annika': 1, 'Fenek': 1, 'Brie': 1, 'Jil': 1, 'Diesle': 1, 'Kell': 1, 'Kallie': 1, 'Mr. Pibb': 1, 'Garrison': 1, 'Snickrdoodle': 1, 'Silka': 1, 'Boo!': 1, 'Pollydoodle': 1, 'Maize': 1, 'Scar': 1, 'Lunette': 1, 'Gilley': 1, 'Pez': 1, 'Asner': 1, 'Deezel': 1, 'M. Kiki': 1, 'Cydney': 1, 'Beauby': 1, 'Sheri': 1, 'Bullett': 1, 'Trexl': 1, 'Mort': 1, 'Firecracker': 1, 'Ember': 1, 'Striker': 1, 'Sandman': 1, 'Jensie': 1, 'Romer': 1, 'Quebee': 1, 'Susan B': 1, 'Deliah': 1, 'Teeny': 1, 'Stella 4': 1, 'Ulrika': 1, 'Eclair': 1, 'Christoff': 1, 'Rillo': 1, 'Scoobie': 1, 'Dietz': 1, 'Susey': 1, 'Peluchi': 1, 'Chaquito': 1, 'Boly': 1, 'Krane': 1, 'Dinero': 1, 'Camilla': 1, 'Captain Binx': 1, 'Gopher': 1, 'Gigglez': 1, 'Green Bean': 1, 'Dandelion': 1, 'Sugarberry': 1, 'Biscotti': 1, 'Dug': 1, 'Alix': 1, 'Solstice': 1, 'Shaw May': 1, 'Kyuzo': 1, 'Guinevere': 1, 'Tibby': 1, 'Sewanee': 1, 'Jadah': 1, 'Woofie': 1, 'Nubzie': 1, 'Riley Mae': 1, 'Chapara': 1, 'Suca': 1, 'Tia Rae': 1, 'Bloosie': 1, 'Lemming': 1, 'Lollie': 1, 'Calamari': 1, 'Jirah': 1, 'Spotty': 1, 'Dogtor Roxo': 1, 'Norris': 1, 'Sam Buster': 1, 'Maja': 1, 'Posie': 1, 'Stefanie': 1, 'Flecha': 1, 'Thoth': 1, 'Buckley': 1, 'Brahma': 1, 'Muffins': 1, 'Eubie': 1, 'Clio': 1, 'Queen Padme': 1, 'Fluffette': 1, 'Shotzy': 1, 'Pep': 1, 'Draper': 1, 'Dee': 1, 'Magna': 1, 'Haddie': 1, 'Tweety': 1, 'Newt': 1, 'Pichus': 1, 'Chacota': 1, 'Dermott': 1, 'Chief Lemon': 1, 'Kida': 1, 'Tukufu': 1, 'Safari': 1, 'Meri': 1, 'Chuchu': 1, 'Dustie': 1, 'Pinguena': 1, 'Luckey': 1, 'Bailee': 1, 'Anthrosol': 1, 'Shadoe': 1, 'Bee-Boh': 1, 'Bollita': 1, 'Benchley': 1, 'Starspangle': 1, 'Massimo': 1, 'Tipper': 1, 'Chapito': 1, 'Maury': 1, 'Tubby': 1, 'Georgia Grac': 1, 'Dirk': 1, 'Katsushiro': 1, 'Aladdin': 1, 'Bohdi': 1, 'Z': 1, 'Yelena': 1, 'Sisi': 1, 'Assam': 1, 'Sandra': 1, 'Popki': 1, 'Sweety Pie': 1, 'Tybalt': 1, 'Rocky Road': 1, 'Kara': 1, 'Cassi': 1, 'Bobby Lee': 1, 'Michaelscott': 1, 'Bil Bo': 1, 'Stoops': 1, '3Buster': 1, 'Kahuna': 1, 'Clem': 1, 'Paw': 1, 'Jumbly': 1, 'Corina': 1, 'Navarro': 1, 'Phany': 1, 'Shoshonna': 1, 'Shayla': 1, 'J.B.': 1, 'Littlejerry': 1, 'Cookie-Poo': 1, 'Jorge': 1, 'Darion': 1, 'Merci': 1, 'Sachmo': 1, 'Jenny Lind': 1, 'Azucar': 1, 'Sheriff': 1, 'Canon': 1, 'Emmie Lou': 1, 'Hank Cowdog': 1, 'Multipass': 1, 'Stomper': 1, 'Anabele': 1, 'Pya': 1, 'Coketa': 1, 'So': 1, 'Chips': 1, 'Harbor': 1, 'Katja': 1, 'Luffy': 1, 'Kota': 1, 'Chewey': 1, 'Flack': 1, 'Didi': 1, 'Ceecee': 1, 'Hilton': 1, 'Niner': 1, 'Jonesy': 1, 'Cholula': 1, 'Hardware': 1, 'Callie-O': 1, 'Doe Girl': 1, 'Mollie': 1, 'Wizard': 1, 'Kiowa': 1, 'Tris': 1, 'Desmond': 1, 'Pavel': 1, 'Thurgood': 1, 'Fetty': 1, 'Flopsy': 1, 'Rikki Tikki': 1, 'Ruxpin': 1, 'Panchas': 1, 'Bruce Willis': 1, 'Miss Crush': 1, 'Cari Blue': 1, 'Demarcia': 1, 'Cena': 1, 'Ghia': 1, 'Piolin': 1, 'Leena': 1, 'Buttros': 1, 'Chomper Jr': 1, 'Nomad': 1, 'Magenta': 1, 'Moonbrain': 1, 'Frogger': 1, 'Kush': 1, 'Maxwell 2': 1, 'Dozier': 1, 'Grace Kelly': 1, 'Colton': 1, 'Jimminee': 1, 'Hailey 2': 1, 'Chihiro': 1, 'Cindi Lou': 1, 'Zaza Zula': 1, 'Emmaline': 1, 'Jakey': 1, 'Trula': 1, 'Christmas': 1, 'Michaelangel': 1, 'Kaiman': 1, 'Jenner': 1, 'Schroeder': 1, 'Robby': 1, 'Heine': 1, 'Grant': 1, 'Micki': 1, 'Momma Kitty': 1, 'Sohpie Jean': 1, 'Abbott': 1, 'Nalu': 1, 'Phyllis': 1, 'Xan': 1, 'Glitzy': 1, 'Saja': 1, 'Smooshie': 1, 'Lily Pearl': 1, 'Mcdermot': 1, 'Corrie': 1, 'Eponine': 1, 'Boko': 1, 'July': 1, 'Cosco': 1, 'Meyer': 1, 'Fargo': 1, 'Tarek': 1, 'Cho-Cho': 1, 'Phil': 1, 'Marcos': 1, 'Tres': 1, 'Idgie': 1, 'Martial': 1, 'Adorable': 1, 'Curlytail': 1, 'Aya': 1, 'Erwin Frank': 1, 'Dez Peanut': 1, 'Lil Sis': 1, 'Uh-Oh Calico': 1, 'Qwayzar': 1, 'Makato': 1, 'Josette': 1, 'Jack Bauer': 1, 'Fonzi': 1, 'Ichigo': 1, 'Bessie': 1, 'Keyla': 1, 'Emerson': 1, 'Raymond': 1, 'Minie': 1, 'Minestrone': 1, 'Cuddlebug': 1, 'Balboa': 1, 'Dongkae': 1, 'Lola Vida': 1, 'Chispa': 1, 'Tracker': 1, 'Periwiggles': 1, 'Renley': 1, 'Dreyfus': 1, 'Cigarette': 1, 'T.T.': 1, 'Tiberius': 1, 'Lulis': 1, 'Caliman': 1, \"O'Reily\": 1, 'Greyworm': 1, 'Prnc Charm': 1, 'Ferris': 1, 'Kuro': 1, 'Oberto': 1, 'Laverne': 1, 'Rafe': 1, 'Pris': 1, 'Scuffy': 1, 'Parmer': 1, 'Mufasa': 1, 'Saddie': 1, 'Dena': 1, 'Paddington': 1, 'Meisha': 1, 'Trousers': 1, 'Gaspi': 1, 'Kolben': 1, 'Hathor': 1, 'Moet': 1, 'Africa': 1, 'Skinny': 1, 'Swoberdie': 1, 'Graciela': 1, 'Jugete': 1, 'Shippo': 1, 'Kourtney': 1, 'Zazzle': 1, 'Mandie': 1, 'Scherbert': 1, 'Darry': 1, 'Girly': 1, 'Fuzzy': 1, 'Blanco': 1, 'Lark': 1, 'Tammy': 1, 'Redbud': 1, 'Lewey': 1, 'Zed': 1, 'Lil Girl': 1, 'Mary Jo': 1, 'Frost': 1, 'Kiah': 1, 'Bravi': 1, 'Sweetcheeks': 1, 'Bellatrix': 1, 'Bahkara': 1, 'Chueko': 1, 'Jay Jay': 1, 'Booboos': 1, 'Bess': 1, 'Willis': 1, 'Jazzbo': 1, 'Anders': 1, 'Copperfield': 1, 'Nunki': 1, 'Zeda': 1, 'Nym': 1, 'Matisse': 1, 'Dinker': 1, 'Neriah': 1, 'Cochi': 1, 'Willey': 1, 'Pippi': 1, 'Limon': 1, 'Spaghetti': 1, 'Coffee': 1, 'Mona Lisa': 1, 'Moki': 1, 'Chris Angel': 1, 'Kringle': 1, 'Juan Pelota': 1, 'Mr. Anderson': 1, 'Peebee': 1, 'Hilly': 1, 'Littig': 1, 'Teo': 1, 'Symphonia': 1, 'Wuesos': 1, 'Dolly P': 1, 'Huitzi': 1, 'Dev': 1, 'Cookie2': 1, 'Randalls Cub': 1, 'Gufi': 1, 'Jonathan': 1, 'Cactus': 1, 'Renner': 1, 'Jasmin': 1, 'Kody': 1, 'Lasienaga': 1, 'Takis': 1, 'Teller': 1, 'Blackie Boy': 1, 'Kitty Lou': 1, 'Lory': 1, 'Dirty': 1, 'Bad Boy': 1, 'Wilbert': 1, 'Vella': 1, 'Ossie': 1, 'Alpha': 1, 'Dartmouth': 1, 'Almonzo': 1, 'Kiva': 1, 'Buda': 1, 'Coltrane': 1, 'Mee Mee': 1, 'Cal': 1, 'Munster': 1, 'Dorado': 1, 'Verbena': 1, 'Sis': 1, 'Wiiu': 1, 'Martty': 1, 'Blue Lover': 1, 'Digger': 1, 'Purrsie': 1, 'Elvin': 1, 'Purrsimmon': 1, 'Howler': 1, 'Kirkland': 1, 'Little Cat': 1, 'Kahleesi': 1, 'Des': 1, 'Harlem': 1, 'Trick': 1, 'Gregory': 1, 'Bowmore': 1, 'Shades': 1, 'Nutlet': 1, 'Archilles': 1, 'Iota': 1, 'Curly Q': 1, 'Gotham': 1, 'Vanessa': 1, 'Snuflupagus': 1, 'Mowmow': 1, 'Cuatemo': 1, 'Sybil': 1, 'Bria': 1, 'Mystical': 1, 'Big Foot': 1, 'The Admiral': 1, 'Pima': 1, 'Fanchon': 1, 'Mr. Johnson': 1, 'Mico': 1, 'Mr Puppy': 1, 'France': 1, 'Brown Butt': 1, 'Zeak': 1, 'Zippy': 1, 'Charmy': 1, 'Susette': 1, 'Dismiss': 1, 'Kanene': 1, 'Genghis': 1, 'Ebray': 1, 'Centurion': 1, 'Roper': 1, 'Castro': 1, 'Nix': 1, 'Moonshine': 1, 'Holly Berry': 1, 'Hop A Long': 1, 'Lauralie': 1, 'Gala': 1, 'Iago': 1, 'Hemi': 1, 'Necrobutcher': 1, 'Pirate': 1, 'Hitler': 1, 'Esmee': 1, 'Milli': 1, 'Calvert': 1, 'Hoku': 1, 'Rollie': 1, 'Dually': 1, 'Juan Diego': 1, 'Righteous': 1, 'Buhner': 1, 'Suey': 1, 'Xeno': 1, 'Herman': 1, 'Crickett': 1, 'Shoshes': 1, 'Davio': 1, 'Clause': 1, 'Sheba Baby': 1, 'Pony Girl': 1, 'Reesie': 1, 'Bodacious': 1, 'Nub': 1, 'Kyzer': 1, 'Tom Cat': 1, 'Shaft': 1, 'Tabs': 1, 'Anatoli': 1, 'Marylyn': 1, 'Moosifer': 1, 'Java': 1, 'Dro': 1, 'Kindo': 1, 'Lousiana': 1, 'Twitch': 1, 'Benz': 1, 'Kaia': 1, 'Allonsdanser': 1, 'Kurt': 1, 'Shadows': 1, 'Von Winkler': 1, 'Morton': 1, 'Tuli': 1, 'Asher Finn': 1, 'Kaira': 1, 'Barkly': 1, 'Ozziepawsbor': 1, 'Yolanda': 1, 'Churley': 1, 'Assassin': 1, 'Yeshua': 1, 'Ziva': 1, 'Oliver Dean': 1, 'Kendall': 1, 'Tortellini': 1, 'Cynthia': 1, 'Zsa-Zsa': 1, 'Cabbage': 1, 'Chakal': 1, 'Ivory': 1, 'Bettina': 1, 'Jujude': 1, 'Felina': 1, 'Andie': 1, 'Giblet': 1, 'Danka': 1, 'Zeek': 1, 'Big Worm': 1, 'Shady': 1, 'Cota': 1, 'Tyrion': 1, 'Lou Lou': 1, 'Teena': 1, 'Lorenza': 1, 'Prince Charm': 1, 'Barack': 1, 'Declan': 1, 'Ginger Peace': 1, 'Quibos': 1, 'Claus': 1, 'Mightykitty': 1, 'Vin Diesel': 1, 'Darwen': 1, 'Jerrico': 1, 'Bilby': 1, 'Kanye': 1, 'Jilly Pattyc': 1, 'Nuka': 1, 'Karis': 1, 'Sandy Boy': 1, 'Brandon': 1, 'Catera': 1, 'Perrywinkle': 1, 'Buggsy': 1, 'Iron Man': 1, 'Raja': 1, 'Westin': 1, 'Lopez': 1, 'Pookie Bear': 1, 'Boudreau': 1, 'Mr. Pepper': 1, 'Cookiemonst': 1, 'Nino Brown': 1, 'Jamaica': 1, 'Wags': 1, 'Oberon': 1, 'Diablo': 1, 'Spark': 1, 'Ryuuko': 1, 'Fina': 1, 'Narles Barkl': 1, 'Netty': 1, 'Rampage': 1, 'Wedo': 1, 'Persephone': 1, 'Doris': 1, 'Avery Grace': 1, 'Klause': 1, 'Daddy': 1, 'Cat Woman': 1, 'Billie Jean': 1, 'Handsom': 1, 'Milkshake': 1, 'Frump': 1, 'Harrah': 1, 'Hillery': 1, 'Mcallister': 1, 'Jezebel': 1, 'Madeleine': 1, 'Koala': 1, 'Mitsy Bitsy': 1, 'Hudson Hawk': 1, 'Peetie': 1, 'Pop Tart': 1, 'James Raeh': 1, 'Alejandro': 1, 'Trix': 1, 'Cattington': 1, 'Athos': 1, 'Josef': 1, 'Aqua': 1, 'Lynette': 1, 'Behemoth': 1, 'Mick Jagger': 1, 'Kluts': 1, 'Root Beer': 1, 'Olivie': 1, 'Beebees': 1, 'Cheetah': 1, 'Leana': 1, 'Consuela': 1, 'Dr Cat': 1, 'Diana Lee': 1, 'Selina': 1, 'Guinness': 1, 'Ronan': 1, 'Moogi': 1, 'Jumo': 1, 'Chick': 1, 'Pasqualli': 1, 'Warf': 1, 'Amadeus': 1, 'Gill': 1, 'Mulligan': 1, 'Brix': 1, 'Baylee': 1, 'Crema': 1, 'Pollie': 1, 'Crunch': 1, 'Pocus': 1, 'Libby 2': 1, 'Nattie': 1, 'Piccolo': 1, 'Hawkeye': 1, 'Midas': 1, 'Itty Bitty': 1, 'Munchies': 1, 'Maymay': 1, 'Louanne': 1, 'Emily Rae': 1, 'Silky Coco': 1, 'MuÃ±eca': 1, 'Della': 1, 'Viviane': 1, 'Elle': 1, 'Blue Grit': 1, 'Zapp': 1, 'Roberta': 1, 'Korbindallas': 1, 'Izzie': 1, 'Blue Jeans': 1, 'Raga': 1, 'Queen Bee': 1, 'Figgy': 1, 'Halie': 1, 'Lotto': 1, 'Yolee': 1, 'Waffle': 1, 'Scarface': 1, 'Nelda': 1, 'Lottie': 1, 'Travieso': 1, 'Lunchbox': 1, 'Chikito': 1, 'Slash': 1, 'Driver': 1, 'Eula': 1, 'Dempsey': 1, 'Clutch': 1, 'Charlie Roge': 1, 'Cookies': 1, 'Doofy': 1, 'Jellie': 1, 'Ruffs': 1, 'Shandee': 1, 'Gypsy Girl': 1, 'Toonami': 1, 'Dobbie': 1, 'Janine': 1, 'Two': 1, 'Gertrude': 1, 'Lynndy': 1, 'Suesue': 1, 'Doshia': 1, 'Ronni': 1, 'Bambino': 1, 'Hattrick': 1, 'Bonbon': 1, 'Chiki': 1, 'CÃ©line': 1, 'Severus': 1, 'Jerico': 1, 'Capeice': 1, 'Cherish': 1, 'Amenia': 1, 'Hoss': 1, 'Pewter': 1, 'Chickla': 1, 'Jacque': 1, 'Nitty': 1, 'Elena': 1, 'King Bacon': 1, 'Zander': 1, 'Dickens': 1, 'Mosley': 1, 'E.J Legend': 1, 'Pj': 1, 'Korovyov': 1, 'Mantequilla': 1, 'Mr. Pip': 1, 'Q.T.': 1, 'Naveah': 1, 'Quanah': 1, 'Stubbs': 1, 'South': 1, 'Merriweather': 1, 'Fia': 1, 'Klondike': 1, 'Kinsey': 1, 'Vena': 1, 'Jean': 1, 'Nermal': 1, 'Serious': 1, 'Aerie': 1, 'Lady Hazel': 1, 'Jambalaya': 1, 'Joc': 1, 'Teddy Roosev': 1, 'Chapelle': 1, 'Saki': 1, 'Scruffy Joe': 1, 'Bunk': 1, 'Tofurkey': 1, 'Aslan': 1, 'Music': 1, 'Tanzy': 1, 'Tennesse': 1, 'Pacino': 1, 'Kikuchiyo': 1, 'Bird': 1, 'Donovan': 1, 'Claudius': 1, 'Enid': 1, 'Marilu': 1, 'Kayne': 1, 'Emmy': 1, 'Kiss': 1, 'Mesha': 1, 'Dum Dum': 1, 'Grape': 1, 'Pekeen': 1, 'B. Dog': 1, 'Amy Lou': 1, 'Pantera': 1, 'Barb': 1, 'Fennec': 1, 'Tangelo': 1, 'Seattle': 1, 'Arizona': 1, 'Steven': 1, 'Heems': 1, 'Natalie': 1, 'Cobalt': 1, 'Katie Kat': 1, 'Tali': 1, 'Giblets': 1, 'Moog': 1, 'Swirly': 1, 'Oj': 1, 'Alejo': 1, 'Pumba': 1, 'Frio': 1, 'Dino Dan': 1, 'Gunthor': 1, 'Pulucha': 1, 'Johnson': 1, 'Jr': 1, 'Brisk': 1, 'Bombon': 1, 'Tipi': 1, 'Hot Rod': 1, 'Lupe Fleasco': 1, 'Lovett': 1, 'Swisha': 1, 'Bette': 1, 'Garen': 1, 'North': 1, 'Skinny Pete': 1, 'Meera': 1, 'Raphaela': 1, 'Mad Max': 1, 'Popy Jr': 1, 'Doodlebug': 1, 'Aphrodite': 1, 'Struggle': 1, 'L.A.': 1, 'Ramses': 1, 'Hilary': 1, 'Michelle': 1, 'Catsy Cline': 1, 'Ms. Scott': 1, 'Lebowski': 1, 'Candy 2': 1, 'Charro': 1, 'Chicago': 1, 'Brik': 1, 'Mi Mi': 1, 'Trapperjohn': 1, 'Speckle Lady': 1, 'Doggie Doo': 1, 'Almond': 1, 'Twixy': 1, 'Randy Quaid': 1, 'Ein': 1, 'Tumblr': 1, 'Garden': 1, 'Blackberry': 1, 'Eames': 1, 'Sparkly': 1, 'Jabon': 1, 'Whittlesey': 1, 'Chaco': 1, 'Brayson': 1, 'Hicks': 1, 'Beasly': 1, 'Jynx': 1, 'Joaquin': 1, 'Dovey': 1, 'Tink': 1, 'Snake Finder': 1, 'Shinji': 1, 'Cecilia': 1, 'Chalupa': 1, 'Louden': 1, 'Nutsy': 1, 'Jericho': 1, 'Yuki Kisses': 1, 'Choko': 1, 'Thayer': 1, 'Rafiki': 1, 'Runt Runt': 1, 'Amedeus': 1, 'Sweet Tart': 1, 'Mister Frodo': 1, 'Jaycee': 1, 'Sereno': 1, 'June Bug': 1, 'Ceniza': 1, 'Olivier': 1, 'Parsley': 1, 'Merrick': 1, 'Francois': 1, 'Wero': 1, 'Lil Sister': 1, 'Anderson': 1, 'Niki': 1, 'Maurice': 1, 'Sun': 1, 'Cindy Lou': 1, 'Orejas': 1, 'Daniella': 1, 'Adestria': 1, 'Bandita': 1, 'Vanilla': 1, 'Page': 1, 'Martini': 1, 'Hazel Grace': 1, 'Kc': 1, 'G.O.D.': 1, 'Rojo': 1, 'Third': 1, 'Merlow': 1, 'Loulou': 1, 'Mercury': 1, 'Dessau': 1, 'Chingon': 1, 'Bricklyn': 1, 'Carlo': 1, 'Darlingdear': 1, 'Lil Bear': 1, 'Kai Franco': 1, 'Chivito': 1, 'Melissa': 1, 'Tish': 1, 'Rj': 1, 'Denton': 1, 'Pebble': 1, 'Carnegie': 1, 'Soze': 1, 'Friskie': 1, 'El Titi': 1, 'Alphia': 1, 'Rainy Bow': 1, 'Lil Man': 1, 'Salt': 1, 'Saturn': 1, 'Keiser Soze': 1, 'Braxton': 1, 'Mogwai': 1, 'Ditch': 1, 'Hayworth': 1, 'Bran Schulz': 1, 'Tracy': 1, 'Guzman': 1, 'Donnor': 1, 'Magneto': 1, \"'Stache\": 1, 'Summa': 1, 'Mozzy': 1, 'Lucy Fox': 1, 'Orlith': 1, 'Penny Lou': 1, 'Tee Nine E': 1, 'Zac': 1, 'Summit': 1, 'Buddha': 1, 'Noori': 1, 'Alamo': 1, 'Lucca': 1, 'Hildie': 1, 'Santa': 1, 'Shyanne': 1, 'Schatzie': 1, 'Kofi': 1, 'Anne': 1, 'Harlie': 1, 'Mishiro': 1, 'Kumani': 1, 'Sedona Bell': 1, 'Marseau': 1, 'Gosthy': 1, 'Tristan': 1, 'Bandie': 1, 'Hampton': 1, 'Pig': 1, 'Rangel': 1, 'Tibbers': 1, 'Preciosa': 1, 'Ck': 1, 'Gypsi': 1, 'Nemesis': 1, 'King Richard': 1, 'Salliemae': 1, 'Ruby Red': 1, 'Afton': 1, 'Kinki': 1, 'Drummond': 1, 'Scampy': 1, 'Rumierre': 1, 'Cocco': 1, 'Banana Split': 1, 'Saul': 1, 'Alabaster': 1, 'Prya': 1, 'Jaron': 1, 'Eberhart': 1, 'Donatello': 1, 'Leu': 1, 'Backlash': 1, 'Dart': 1, 'Jeet': 1, 'Michi': 1, 'Nali': 1, 'Shaka': 1, 'Dosha': 1, 'Gracey': 1, 'Bobbin': 1, 'Blaise': 1, 'Leeland': 1, 'Mariska': 1, 'Harlan': 1, 'Mitt': 1, 'Vernon': 1, 'Bombay': 1, 'Smore': 1, 'Gibbs': 1, 'Picasso': 1, 'Young Blood': 1, 'Daisy 1': 1, 'Sweeney Todd': 1, 'Reye': 1, 'Hunca Munca': 1, 'Oso Jr': 1, 'Kozi': 1, 'Saber': 1, 'Chona': 1, 'Blue Cheese': 1, 'Conan': 1, 'Kuku': 1, 'Dody Becerra': 1, 'Evee': 1, 'Moonie': 1, 'Romero': 1, 'Patti': 1, 'Ada': 1, 'Allysia': 1, 'Peppa': 1, 'Lester': 1, 'Snax': 1, 'Boxers': 1, 'Nadira': 1, 'Modelo': 1, 'Kio': 1, 'Prinsesa': 1, 'Cliffy': 1, 'Armando': 1, 'Bratt': 1, 'Zuchinni': 1, 'Khaos': 1, 'Sgt. Buddy': 1, 'Kizzy': 1, 'Chelsie': 1, 'Wellesley': 1, 'Norton': 1, 'Posey': 1, 'Parry': 1, 'Kera': 1, 'Nanette': 1, 'Moon Shadow': 1, 'Pigeon': 1, 'Veruca': 1, 'Viper': 1, 'Cheese': 1, 'Cha-Chi': 1, 'Mug': 1, 'Beka': 1, 'Doughie Bear': 1, 'Kimchi': 1, 'Osyrus': 1, 'Pitachio': 1, 'Aquarius': 1, 'Volcom': 1, 'Ashara': 1, 'Cue': 1, 'Uliana': 1, 'Cocoa Kelis': 1, 'Troubles': 1, 'Pugster': 1, 'Jorgo': 1, 'Karamel': 1, 'Tomatillo': 1, 'Tiny Tinker': 1, 'Kali': 1, 'Beemo': 1, 'Lova': 1, 'Sarsa': 1, 'Olson': 1, 'Robin Hood': 1, 'Calseta': 1, 'Tom Collins': 1, 'Heart': 1, 'Lisbeth': 1, 'Normal': 1, 'Alastair': 1, 'Jessa': 1, 'Tilda': 1, 'Tutu': 1, 'Pig Pen': 1, 'Edina': 1, 'Aloysius': 1, 'Maxey': 1, 'Rorschach': 1, 'Bramble Pelt': 1, 'Lonnie G.': 1, 'Bonbo': 1, 'Sascha': 1, 'Krash': 1, 'Jazzie': 1, 'Kingoflove': 1, 'Kayro': 1, 'Texas Kisses': 1, 'Quill': 1, 'Bitsy': 1, 'Eris': 1, 'Potato': 1, 'Ruby Q': 1, 'Mamma Mia': 1, 'Guzi': 1, 'Estrellita': 1, 'Marky Bark': 1, 'Pancho Wolf': 1, 'Letti': 1, 'Churaca': 1, 'Kerby': 1, 'Anton': 1, 'Bruno Beau': 1, 'Fungus': 1, 'Tomas': 1, 'Lucrecia': 1, 'Crusher': 1, 'Shaina': 1, 'Sinch': 1, 'Mili': 1, 'Road Dog': 1, 'Moosey': 1, 'Treat': 1, 'Eedo': 1, 'Sauce': 1, 'Dorian': 1, 'Honey Bear': 1, 'Tyoma': 1, 'Malkin': 1, 'Dooley': 1, 'Nickles': 1, 'Truluck': 1, 'Catman': 1, 'Nightshade': 1, 'Manda': 1, 'Johanna': 1, 'Cai': 1, 'Fatboy': 1, 'Switch': 1, 'Europa': 1, 'Rajun': 1, 'Simbad': 1, 'Lylah': 1, 'Mr. Potato': 1, 'Bronwyn': 1, 'Halpert': 1, 'Jacey': 1, 'Chalupa Btmn': 1, 'Furiosa': 1, 'Ob1': 1, 'Charms': 1, 'Franky': 1, 'Chuyee': 1, 'Babalou': 1, 'Melania': 1, 'Buster G': 1, 'Milonia': 1, 'Alezea': 1, 'Tudor': 1, 'Viscious': 1, 'Miss Fish': 1, 'Houdini': 1, 'Roscco': 1, 'Rage': 1, 'Hook': 1, 'Splinter': 1, 'Ginger Paris': 1, 'Jerbyz': 1, 'Devil': 1, 'Lucille Ball': 1, 'Gizzard': 1, 'Inie': 1, 'Castiel': 1, 'Mork': 1, 'Prince C.': 1, 'Curlysue': 1, 'Moebius': 1, 'Kami': 1, 'Yosemite': 1, 'Galadriel': 1, 'Baltazar': 1, 'Inca': 1, 'Pipkin': 1, 'Martina': 1, 'Creamcicle': 1, 'Prof Griffin': 1, 'Saroc': 1, 'Scampi': 1, 'Charlie 2': 1, 'Deisel': 1, 'Perry': 1, 'Baby Elic': 1, 'Lola Bear V.': 1, 'Basher': 1, 'Faxon': 1, 'Hannibal': 1, 'Niche': 1, 'Promise': 1, 'Pooh': 1, 'Maton': 1, 'Twin': 1, 'Alan-A-Dale': 1, 'Devon': 1, 'Octavio': 1, 'Rounder': 1, 'Neva': 1, 'Sojo': 1, 'Chikita': 1, 'Kristy': 1, 'Puffball': 1, 'Ms. Birdy': 1, 'Cee Cee': 1, 'Carsen': 1, 'Little Dan': 1, 'Eagle': 1, 'Zillah': 1, 'Tobias': 1, 'Sinsae': 1, 'Jaqueline': 1, 'Toonchi': 1, 'G-Unit': 1, 'Morowdy': 1, 'Mystery': 1, 'Ollily': 1, 'Carlos Perez': 1, 'Barnabas': 1, 'Gisele': 1, 'Briana': 1, 'Isadora': 1, 'Altina': 1, 'Dan': 1, 'Chui': 1, 'Channell': 1, 'Dos': 1, 'Itsy Bitsy': 1, 'Benito': 1, 'Twila': 1, 'Leyah': 1, 'Kontiki': 1, 'Mckinley': 1, 'Tuff': 1, 'Whisper': 1, 'Goyo': 1, 'He-Man': 1, 'Cheesy Puff': 1, 'Pudding': 1, 'Miyu': 1, 'Achado': 1, 'More': 1, 'Ottie': 1, 'Fraggle': 1, 'Elezabeth': 1, 'Smokeybear': 1, 'Nabi': 1, 'Judas': 1, 'Bartleby': 1, 'Omi': 1, 'Miloe': 1, 'Octavious': 1, 'Mistery': 1, 'Kub': 1, 'Iceman': 1, 'Pinguis': 1, 'Meli': 1, 'Porkchop': 1, 'Papita': 1, 'Dakilah': 1, 'Ross': 1, 'Shah': 1, 'Night': 1, 'Sugar Sugar': 1, 'Zio': 1, 'Madilion': 1, 'Faloo': 1, 'Leyla': 1, 'Pugsley': 1, 'Bijoux': 1, 'Frack': 1, 'Neeley': 1, 'Cusca': 1, 'Miss Pheobe': 1, 'Tawanee': 1, 'Hymn': 1, 'Lemmy': 1, 'Brown Dog': 1, 'Isla': 1, 'Liffy': 1, 'Dougal': 1, 'Miss Sally': 1, 'Q-Tip': 1, 'Organa (Ana)': 1, 'Rogue': 1, 'Kelli': 1, 'Tazz': 1, 'Lorelai': 1, 'Aleman': 1, 'Cutie Beauty': 1, 'Rebekah': 1, 'Primo': 1, 'Ryland': 1, 'Sedona': 1, 'Emo': 1, 'Gem': 1, 'John Boy': 1, '007': 1, 'Emmit': 1, 'Delisa': 1, 'Kahlua': 1, 'Mopac': 1, 'Cassius': 1, 'Westley': 1, 'Karmen': 1, 'Boy': 1, 'Jack Black': 1, 'Abe': 1, 'Malarkey': 1, 'Fluffernutt': 1, 'Octavia': 1, 'Brittle': 1, 'Nika': 1, 'Savvy': 1, 'Sambo': 1, 'Slugger': 1, 'Sarang': 1, 'Graziella': 1, 'Dav-3': 1, 'Asparagus': 1, 'Avalanche': 1, 'Grenas': 1, 'Tigg': 1, 'Marvin Gaye': 1, 'Shania': 1, 'Kaylee': 1, 'Bejon': 1, 'Stefani': 1, 'Leska': 1, 'Amaranth': 1, 'Idris': 1, 'Tuco': 1, 'Chumino': 1, 'House': 1, 'Heath': 1, 'Chi Chi': 1, 'Slinky': 1, 'T Rex': 1, 'Pops': 1, 'Josilyn': 1, 'Ballini': 1, 'Mr.Gray': 1, 'Pontiac': 1, 'Brett': 1, 'Bramwell': 1, 'Smalls': 1, 'Anna Mae': 1, 'Special Kit': 1, 'Queens': 1, 'Yager': 1, 'Franka': 1, 'Mama Dog': 1, 'Dodie': 1, 'Gus-Gus': 1, 'Phedre': 1, 'Klaatu': 1, 'Helio': 1, 'Chewie': 1, 'Taurus': 1, 'Thing 3': 1, 'The Captain': 1, 'Xbox': 1, 'Curly Sue': 1, 'Kismit': 1, 'Doxie': 1, 'Cassiel': 1, 'Churps': 1, 'Lanie': 1, 'Graybles': 1, 'Hoshi': 1, 'Casanova': 1, 'Minka': 1, 'Bertram': 1, 'Anasa': 1, 'Tuzi': 1, 'Hops': 1, 'Pocky': 1, 'Aloisius': 1, 'Bud E.': 1, 'Aziz': 1, 'Isabelle': 1, 'Poot': 1, 'Klo Dog': 1, 'Starlit': 1, 'Carrott': 1, 'Kelsie': 1, 'Beda': 1, 'Arti': 1, 'Chachacci': 1, 'Dewi': 1, 'Carlotta': 1, 'Pongo': 1, 'Dagwood': 1, 'Loli': 1, 'Kisses': 1, 'Jhonny': 1, 'Whit': 1, 'Ms. Piper': 1, 'Patti Ann': 1, 'Mikal': 1, 'Chowda': 1, 'Desiree': 1, 'Lareine': 1, 'Mily': 1, 'Tinkle': 1, 'Missy Santa': 1, 'Gogo': 1, 'Baguette': 1, 'Dela': 1, 'Annabell': 1, 'Jessye Jane': 1, 'Chiquillin': 1, 'The Dude': 1, 'Sausalito': 1, 'Miette': 1, 'Naomi': 1, 'Snuffle': 1, 'Morrocco': 1, 'Big Cat': 1, 'Wisteria': 1, 'Dmitri': 1, 'Roti/Haji': 1, 'Valent': 1, 'Aaron': 1, 'Manchia': 1, 'Zee': 1, 'Luca Lopez': 1, 'Crash Davis': 1, 'Clams': 1, 'Peterrabbit': 1, 'Shenanigan': 1, 'Flip': 1, 'Darren': 1, 'Mit Mit': 1, 'Durango': 1, 'Lexus': 1, 'Linnea': 1, 'Stephon': 1, 'Walter White': 1, 'Kano': 1, 'Roman': 1, 'Landen': 1, 'Willie B': 1, 'Snickerdoodl': 1, 'Swagger-Swag': 1, 'Degas': 1, 'Hotpocket': 1, 'Kelio': 1, 'Tye': 1, 'Leandra': 1, 'Sputnik': 1, 'Pooffy': 1, 'Chapi': 1, 'Ragzee': 1, 'Roger Rabbit': 1, 'Gorda': 1, 'Meowmix': 1, 'Cinnabun': 1, 'K.J.': 1, 'Lazey': 1, 'Ana': 1, 'Bellivia': 1, 'Miss Oliver': 1, 'Tippy Tail': 1, 'Chomps': 1, 'Krunch': 1, 'Peekaboo': 1, 'Kasey': 1, 'Tobi': 1, 'Calderono': 1, 'Romy': 1, 'Opal Jane': 1, 'Cottontail': 1, 'Ms Houdini': 1, 'Big Mac': 1, 'Winnebago': 1, 'Sassafras': 1, 'Maxine': 1, 'Rutherford': 1, 'Boyd': 1, 'Sa': 1, 'Chedder': 1, 'Yum Yum': 1, 'Jaydee': 1, 'Sunset': 1, 'Gobble': 1, 'Quixote': 1, 'Teal': 1, 'Sofi': 1, 'Sweet Boy': 1, 'Maeve': 1, 'Ene': 1, 'Akiko (Snow)': 1, 'Camille': 1, 'Quidditch': 1, 'Macchio': 1, 'Coco Puffs': 1, 'Aura': 1, 'Kerra': 1, 'Dimu': 1, 'Mel': 1, 'Yams': 1, 'Riggs': 1, 'Mountainman': 1, 'Selah': 1, 'Jezzabelle': 1, 'Apollonia': 1, 'Baby Cat': 1, 'Miche': 1, 'Rizzo': 1, 'Pennie': 1, 'Oats': 1, 'Dez': 1, 'Marlyin': 1, 'Paka': 1, 'Rodeo': 1, 'Umi': 1, 'Warner': 1, 'Marian': 1, 'Boi': 1, 'Kathrine': 1, 'Mr Weenie': 1, 'Carli': 1, 'Murphey': 1, 'Rika': 1, 'Kentucky': 1, 'Shy Guy': 1, 'Diddy': 1, 'Jorge Mcfly': 1, 'Cayenne': 1, 'Doljah': 1, 'Sy': 1, 'Harvard': 1, 'Elinor': 1, 'Johnny Bravo': 1, 'Brown Suga': 1, 'Buba': 1, 'Melady': 1, 'Ruso': 1, 'Everest': 1, 'Otter Pup': 1, 'Kelsey': 1, 'Holiday': 1, 'Jaxon': 1, 'Manolo': 1, 'Poodle': 1, 'Adele': 1, 'Rufus Jenkin': 1, 'Nora': 1, 'Darth Caedus': 1, 'Chin-Ston': 1, 'Luis': 1, 'Woofers': 1, 'Tiana': 1, 'Aubry': 1, 'Kekipi': 1, 'Maudie': 1, 'Jennie': 1, 'Dorothy': 1, 'Bacardi': 1, 'Doji': 1, 'Hootie': 1, 'Konoa': 1, 'Ethan': 1, 'Lego': 1, 'Hobie Cat': 1, 'Cafe': 1, 'Kayo': 1, 'Pixy': 1, 'Jacks': 1, 'Pompin': 1, 'Mostro': 1, 'Panger': 1, 'Sheena': 1, 'Andante': 1, 'Pop-Tart': 1, 'Audi': 1, 'Mabry': 1, 'Beasley': 1, 'Suloni': 1, 'Cornal': 1})}\n"
     ]
    }
   ],
   "source": [
    "allpercentages={}\n",
    "allcounters={}\n",
    "for column in range (0,9):\n",
    "    if data.keys()[column]=='DateTime': continue\n",
    "    if column==1: continue\n",
    "    ColumnLiveCounter=Counter()\n",
    "    ColumnCounter=Counter()\n",
    "    ResultPercentCounter=Counter()\n",
    "    for row in range (0,26729):\n",
    "        ColumnCounter[data.iloc[row][column]]+=1\n",
    "        if data.iloc[row].OutcomeType not in ['Euthanasia', 'Died']:\n",
    "            ColumnLiveCounter[data.iloc[row][column]]+=1\n",
    "    for value in ColumnCounter: \n",
    "        ResultPercentCounter[value] = ColumnLiveCounter[value]*1.0/ColumnCounter[value]\n",
    "                                  \n",
    "#     ResultCounter={value:percentage for value in ColumnCounter: percentage = ColumnDeathCounter[value]*1.0/ColumnCounter[value]}    \n",
    "    allcounters[data.keys()[column]]=ColumnLiveCounter\n",
    "    allpercentages[data.keys()[column]]=ResultPercentCounter\n",
    "    "
   ]
  },
  {
   "cell_type": "code",
   "execution_count": 86,
   "metadata": {
    "collapsed": true
   },
   "outputs": [],
   "source": [
    "allcounters=dict(allcounters)\n",
    "allpercentages=dict(allpercentages)"
   ]
  },
  {
   "cell_type": "code",
   "execution_count": 87,
   "metadata": {
    "collapsed": false
   },
   "outputs": [
    {
     "name": "stdout",
     "output_type": "stream",
     "text": [
      "[[['AnimalType', 'Dog'], [14700, 0.9426098108368066]], [['AnimalType', 'Cat'], [10277, 0.9230285611640021]], [['Color', 'Blue Merle/Black'], [4, 1.0]], [['Color', 'Orange'], [14, 0.9333333333333333]]]\n"
     ]
    }
   ],
   "source": [
    "grouplist=[]\n",
    "for feature in allcounters:\n",
    "    for value in allcounters[feature]:\n",
    "        group = [feature, value]\n",
    "        cur_val = [allcounters[feature][value],allpercentages[feature][value]]\n",
    "        grouplist.append([group, cur_val])\n",
    "print (grouplist[:4])"
   ]
  },
  {
   "cell_type": "code",
   "execution_count": 97,
   "metadata": {
    "collapsed": false
   },
   "outputs": [
    {
     "data": {
      "text/plain": [
       "-14700"
      ]
     },
     "execution_count": 97,
     "metadata": {},
     "output_type": "execute_result"
    }
   ],
   "source": [
    "def cmp(animal):\n",
    "    return -animal[1][0]\n",
    "\n",
    "cmp(grouplist[0])"
   ]
  },
  {
   "cell_type": "code",
   "execution_count": 98,
   "metadata": {
    "collapsed": true
   },
   "outputs": [],
   "source": [
    "grouplist.sort(key=cmp)"
   ]
  },
  {
   "cell_type": "code",
   "execution_count": 102,
   "metadata": {
    "collapsed": false,
    "scrolled": true
   },
   "outputs": [
    {
     "data": {
      "text/plain": [
       "[[['AnimalType', 'Dog'], [14700, 0.9426098108368066]],\n",
       " [['OutcomeSubtype', nan], [13595, 0.998751101968851]],\n",
       " [['OutcomeType', 'Adoption'], [10769, 1.0]],\n",
       " [['AnimalType', 'Cat'], [10277, 0.9230285611640021]],\n",
       " [['OutcomeType', 'Transfer'], [9422, 1.0]],\n",
       " [['SexuponOutcome', 'Neutered Male'], [9416, 0.9628796400449944]],\n",
       " [['SexuponOutcome', 'Spayed Female'], [8570, 0.971655328798186]],\n",
       " [['Breed', 'Domestic Shorthair Mix'], [8163, 0.9265607264472191]],\n",
       " [['OutcomeSubtype', 'Partner'], [7816, 1.0]],\n",
       " [['Name', nan], [6756, 0.8784293329866077]],\n",
       " [['OutcomeType', 'Return_to_owner'], [4786, 1.0]],\n",
       " [['AgeuponOutcome', '1 year'], [3772, 0.9503653313177123]],\n",
       " [['AgeuponOutcome', '2 years'], [3450, 0.9219668626402993]],\n",
       " [['AgeuponOutcome', '2 months'], [3344, 0.9843979982337356]],\n",
       " [['SexuponOutcome', 'Intact Female'], [3054, 0.8698376530902877]],\n",
       " [['SexuponOutcome', 'Intact Male'], [2969, 0.8422695035460993]],\n",
       " [['Color', 'Black/White'], [2637, 0.9337818696883853]],\n",
       " [['Color', 'Black'], [2127, 0.9280104712041884]],\n",
       " [['OutcomeSubtype', 'Foster'], [1800, 1.0]],\n",
       " [['AgeuponOutcome', '3 years'], [1675, 0.9188151398793198]]]"
      ]
     },
     "execution_count": 102,
     "metadata": {},
     "output_type": "execute_result"
    }
   ],
   "source": [
    "grouplist[:20]"
   ]
  },
  {
   "cell_type": "code",
   "execution_count": 59,
   "metadata": {
    "collapsed": false
   },
   "outputs": [
    {
     "data": {
      "text/plain": [
       "(26729, 9)"
      ]
     },
     "execution_count": 59,
     "metadata": {},
     "output_type": "execute_result"
    }
   ],
   "source": [
    "data.shape"
   ]
  },
  {
   "cell_type": "code",
   "execution_count": null,
   "metadata": {
    "collapsed": true
   },
   "outputs": [],
   "source": []
  },
  {
   "cell_type": "code",
   "execution_count": null,
   "metadata": {
    "collapsed": true
   },
   "outputs": [],
   "source": []
  },
  {
   "cell_type": "code",
   "execution_count": null,
   "metadata": {
    "collapsed": true
   },
   "outputs": [],
   "source": []
  },
  {
   "cell_type": "code",
   "execution_count": null,
   "metadata": {
    "collapsed": true
   },
   "outputs": [],
   "source": []
  },
  {
   "cell_type": "code",
   "execution_count": null,
   "metadata": {
    "collapsed": true
   },
   "outputs": [],
   "source": []
  },
  {
   "cell_type": "code",
   "execution_count": null,
   "metadata": {
    "collapsed": true
   },
   "outputs": [],
   "source": []
  },
  {
   "cell_type": "code",
   "execution_count": null,
   "metadata": {
    "collapsed": true
   },
   "outputs": [],
   "source": []
  },
  {
   "cell_type": "code",
   "execution_count": null,
   "metadata": {
    "collapsed": true
   },
   "outputs": [],
   "source": []
  },
  {
   "cell_type": "code",
   "execution_count": null,
   "metadata": {
    "collapsed": true
   },
   "outputs": [],
   "source": []
  },
  {
   "cell_type": "code",
   "execution_count": null,
   "metadata": {
    "collapsed": true
   },
   "outputs": [],
   "source": []
  },
  {
   "cell_type": "code",
   "execution_count": null,
   "metadata": {
    "collapsed": true
   },
   "outputs": [],
   "source": []
  },
  {
   "cell_type": "code",
   "execution_count": 56,
   "metadata": {
    "collapsed": false
   },
   "outputs": [],
   "source": [
    "#пример для [старше 30 дней] И [породы Сибирский Медведь] И ([без имени] ИЛИ [с именем Попка])\n",
    "\n",
    "data_with_age = data[~data.AgeuponOutcome.isnull()]\n",
    "\n",
    "age = numpy.array(list(map(age_to_days, data_with_age.AgeuponOutcome)))\n",
    "age_and_breed = numpy.logical_and(age > 30, data_with_age.Breed == 'Shetland Sheepdog Mix')\n",
    "\n",
    "# без имени ИЛИ с именем Попка\n",
    "name = numpy.logical_or(data_with_age.Name.isnull(), data_with_age.Name == 'Попка')\n",
    "\n",
    "#всё вместе\n",
    "group_indexer = numpy.logical_and(age_and_breed, name)\n",
    "\n",
    "#группа. Замените этот код на свою группу.\n",
    "group = data_with_age[group_indexer]"
   ]
  },
  {
   "cell_type": "code",
   "execution_count": 28,
   "metadata": {
    "collapsed": false
   },
   "outputs": [
    {
     "name": "stdout",
     "output_type": "stream",
     "text": [
      "Количество животин: 5\n",
      "Количество выживших: 2\n",
      "Вероятность выжить: 0.4\n",
      "Достаточно выживших: False\n"
     ]
    }
   ],
   "source": [
    "print('Количество животин:', len(group))\n",
    "print('Количество выживших:', len(group[(group.OutcomeType != 'Euthanasia') & (group.OutcomeType != 'Died')]))\n",
    "p_survived = numpy.average((group.OutcomeType != 'Euthanasia') & (group.OutcomeType != 'Died'))\n",
    "print('Вероятность выжить:', p_survived)\n",
    "print('Достаточно выживших:', p_survived > 0.8)"
   ]
  },
  {
   "cell_type": "code",
   "execution_count": null,
   "metadata": {
    "collapsed": true
   },
   "outputs": [],
   "source": [
    "# Если ещё не устал - аналогично выдели группы животин, где все погибли"
   ]
  },
  {
   "cell_type": "markdown",
   "metadata": {},
   "source": [
    "[руководства по библиотекам]\n",
    "\n",
    "  * [NumPy](http://www.numpy.org/)\n",
    "    - [руководство для пользователей Matlab](http://wiki.scipy.org/NumPy_for_Matlab_Users)\n",
    "  * [Pandas](http://pandas.pydata.org/)\n",
    "    - [пример работы с данными при помощи pandas](http://nbviewer.ipython.org/github/agconti/kaggle-titanic/blob/master/Titanic.ipynb)\n",
    "  * [Matplotlib](http://matplotlib.org/index.html)\n",
    "    - [pyplot](http://matplotlib.org/api/pyplot_api.html) — эмуляция функционала графопостроений в Matlab\n",
    "    - [галерея примеров](http://matplotlib.org/gallery.html)\n",
    "  * [SciPy](http://scipy.org/)"
   ]
  }
 ],
 "metadata": {
  "kernelspec": {
   "display_name": "Python 3",
   "language": "python",
   "name": "python3"
  },
  "language_info": {
   "codemirror_mode": {
    "name": "ipython",
    "version": 3
   },
   "file_extension": ".py",
   "mimetype": "text/x-python",
   "name": "python",
   "nbconvert_exporter": "python",
   "pygments_lexer": "ipython3",
   "version": "3.4.3"
  }
 },
 "nbformat": 4,
 "nbformat_minor": 0
}
